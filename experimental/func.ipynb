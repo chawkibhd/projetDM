{
 "cells": [
  {
   "cell_type": "code",
   "execution_count": 6,
   "id": "e8b717ae-042c-4532-9c51-728550dde3b8",
   "metadata": {},
   "outputs": [
    {
     "ename": "ModuleNotFoundError",
     "evalue": "No module named 'odfpy'",
     "output_type": "error",
     "traceback": [
      "\u001b[0;31m---------------------------------------------------------------------------\u001b[0m",
      "\u001b[0;31mModuleNotFoundError\u001b[0m                       Traceback (most recent call last)",
      "Cell \u001b[0;32mIn[6], line 2\u001b[0m\n\u001b[1;32m      1\u001b[0m \u001b[38;5;28;01mimport\u001b[39;00m \u001b[38;5;21;01mpandas\u001b[39;00m \u001b[38;5;28;01mas\u001b[39;00m \u001b[38;5;21;01mpd\u001b[39;00m\n\u001b[0;32m----> 2\u001b[0m \u001b[38;5;28;01mimport\u001b[39;00m \u001b[38;5;21;01modfpy\u001b[39;00m\n\u001b[1;32m      3\u001b[0m df \u001b[38;5;241m=\u001b[39m pd\u001b[38;5;241m.\u001b[39mread_excel(\u001b[38;5;124m\"\u001b[39m\u001b[38;5;124m/Users/chawkibhd/Downloads/projetDM/BMGs-2024.ods\u001b[39m\u001b[38;5;124m\"\u001b[39m, engine\u001b[38;5;241m=\u001b[39m\u001b[38;5;124m\"\u001b[39m\u001b[38;5;124modf\u001b[39m\u001b[38;5;124m\"\u001b[39m)\n\u001b[1;32m      5\u001b[0m \u001b[38;5;28mprint\u001b[39m(df\u001b[38;5;241m.\u001b[39mhead())\n",
      "\u001b[0;31mModuleNotFoundError\u001b[0m: No module named 'odfpy'"
     ]
    }
   ],
   "source": [
    "import pandas as pd\n",
    "import odfpy\n",
    "df = pd.read_excel(\"/Users/chawkibhd/Downloads/projetDM/BMGs-2024.ods\", engine=\"odf\")\n",
    "\n",
    "print(df.head())"
   ]
  },
  {
   "cell_type": "code",
   "execution_count": 8,
   "id": "a7cd564c-fd98-434d-85b4-921baea1ea2f",
   "metadata": {},
   "outputs": [
    {
     "name": "stdout",
     "output_type": "stream",
     "text": [
      "['Sheet1', 'Dataset']\n"
     ]
    }
   ],
   "source": [
    "xls = pd.ExcelFile(\"/Users/chawkibhd/Downloads/projetDM/data/BMGs-2024.ods\", engine=\"odf\")\n",
    "print(xls.sheet_names) \n"
   ]
  },
  {
   "cell_type": "code",
   "execution_count": 9,
   "id": "245dc91d-11e3-49de-a5f8-83bbc16940c3",
   "metadata": {},
   "outputs": [
    {
     "name": "stdout",
     "output_type": "stream",
     "text": [
      "           Alloys (compostion)  Tg(K)  Tx(K)  Tl(K)  Dmax (mm)\n",
      "0  Ag30.8 Ca30.8 Mg23.1 Cu15.4  413.0  432.0  803.0        2.5\n",
      "1         Ag38.4 Mg30.8 Ca30.8  394.0  426.0  805.0        0.5\n",
      "2     Ag38.5 Ca30.8 Mg23 Cu7.7  384.0  416.0  854.0        2.0\n",
      "3   Ag38.5 Mg38.5 Ca15.4 Cu7.7  405.0  436.0  842.0        0.5\n",
      "4         Ag46.2 Ca30.7 Mg23.1  399.0  426.0  765.0        0.7\n"
     ]
    }
   ],
   "source": [
    "df = pd.read_excel(xls, sheet_name=\"Sheet1\", engine=\"odf\")\n",
    "print(df.head())"
   ]
  },
  {
   "cell_type": "code",
   "execution_count": 10,
   "id": "8bdeeb0f-ed27-4e8c-97dd-7761ef502efd",
   "metadata": {},
   "outputs": [
    {
     "data": {
      "text/html": [
       "<div>\n",
       "<style scoped>\n",
       "    .dataframe tbody tr th:only-of-type {\n",
       "        vertical-align: middle;\n",
       "    }\n",
       "\n",
       "    .dataframe tbody tr th {\n",
       "        vertical-align: top;\n",
       "    }\n",
       "\n",
       "    .dataframe thead th {\n",
       "        text-align: right;\n",
       "    }\n",
       "</style>\n",
       "<table border=\"1\" class=\"dataframe\">\n",
       "  <thead>\n",
       "    <tr style=\"text-align: right;\">\n",
       "      <th></th>\n",
       "      <th>Alloys (compostion)</th>\n",
       "      <th>Tg(K)</th>\n",
       "      <th>Tx(K)</th>\n",
       "      <th>Tl(K)</th>\n",
       "      <th>Dmax (mm)</th>\n",
       "    </tr>\n",
       "  </thead>\n",
       "  <tbody>\n",
       "    <tr>\n",
       "      <th>0</th>\n",
       "      <td>Ag30.8 Ca30.8 Mg23.1 Cu15.4</td>\n",
       "      <td>413.0</td>\n",
       "      <td>432.0</td>\n",
       "      <td>803.0</td>\n",
       "      <td>2.5</td>\n",
       "    </tr>\n",
       "    <tr>\n",
       "      <th>1</th>\n",
       "      <td>Ag38.4 Mg30.8 Ca30.8</td>\n",
       "      <td>394.0</td>\n",
       "      <td>426.0</td>\n",
       "      <td>805.0</td>\n",
       "      <td>0.5</td>\n",
       "    </tr>\n",
       "    <tr>\n",
       "      <th>2</th>\n",
       "      <td>Ag38.5 Ca30.8 Mg23 Cu7.7</td>\n",
       "      <td>384.0</td>\n",
       "      <td>416.0</td>\n",
       "      <td>854.0</td>\n",
       "      <td>2.0</td>\n",
       "    </tr>\n",
       "    <tr>\n",
       "      <th>3</th>\n",
       "      <td>Ag38.5 Mg38.5 Ca15.4 Cu7.7</td>\n",
       "      <td>405.0</td>\n",
       "      <td>436.0</td>\n",
       "      <td>842.0</td>\n",
       "      <td>0.5</td>\n",
       "    </tr>\n",
       "    <tr>\n",
       "      <th>4</th>\n",
       "      <td>Ag46.2 Ca30.7 Mg23.1</td>\n",
       "      <td>399.0</td>\n",
       "      <td>426.0</td>\n",
       "      <td>765.0</td>\n",
       "      <td>0.7</td>\n",
       "    </tr>\n",
       "  </tbody>\n",
       "</table>\n",
       "</div>"
      ],
      "text/plain": [
       "           Alloys (compostion)  Tg(K)  Tx(K)  Tl(K)  Dmax (mm)\n",
       "0  Ag30.8 Ca30.8 Mg23.1 Cu15.4  413.0  432.0  803.0        2.5\n",
       "1         Ag38.4 Mg30.8 Ca30.8  394.0  426.0  805.0        0.5\n",
       "2     Ag38.5 Ca30.8 Mg23 Cu7.7  384.0  416.0  854.0        2.0\n",
       "3   Ag38.5 Mg38.5 Ca15.4 Cu7.7  405.0  436.0  842.0        0.5\n",
       "4         Ag46.2 Ca30.7 Mg23.1  399.0  426.0  765.0        0.7"
      ]
     },
     "execution_count": 10,
     "metadata": {},
     "output_type": "execute_result"
    }
   ],
   "source": [
    "df.head()"
   ]
  },
  {
   "cell_type": "code",
   "execution_count": 11,
   "id": "c3336f24-a9ad-4a55-9331-43e10a2eeac3",
   "metadata": {},
   "outputs": [
    {
     "ename": "IndentationError",
     "evalue": "unexpected indent (964462527.py, line 5)",
     "output_type": "error",
     "traceback": [
      "\u001b[0;36m  Cell \u001b[0;32mIn[11], line 5\u001b[0;36m\u001b[0m\n\u001b[0;31m    if isinstance(i, (int, float)):\u001b[0m\n\u001b[0m    ^\u001b[0m\n\u001b[0;31mIndentationError\u001b[0m\u001b[0;31m:\u001b[0m unexpected indent\n"
     ]
    }
   ],
   "source": [
    "def process_row(row):\n",
    "    for i in len(row[\"Alloys (compostion)\"]):\n",
    "        word += row[\"Alloys (compostion)\"][i]\n",
    "        \n",
    "            if isinstance(i, (int, float)):\n",
    "                for j in len(row[\"Alloys (compostion)\"]):\n",
    "                    number += row[\"Alloys (compostion)\"][j]\n",
    "                    if j == \" \":\n",
    "                        break;\n",
    "                \n",
    "            if (isinstance(i, (int, float)):\n",
    "                if word == \"Ag\":\n",
    "                    return number\n",
    "                else:\n",
    "                    return 0"
   ]
  },
  {
   "cell_type": "code",
   "execution_count": 12,
   "id": "4c0dd4d1-ded8-4078-8a9c-12d86993b3a5",
   "metadata": {},
   "outputs": [
    {
     "ename": "NameError",
     "evalue": "name 'process_row' is not defined",
     "output_type": "error",
     "traceback": [
      "\u001b[0;31m---------------------------------------------------------------------------\u001b[0m",
      "\u001b[0;31mNameError\u001b[0m                                 Traceback (most recent call last)",
      "Cell \u001b[0;32mIn[12], line 5\u001b[0m\n\u001b[1;32m      1\u001b[0m \u001b[38;5;66;03m# We're going to create 4 columns \u001b[39;00m\n\u001b[1;32m      2\u001b[0m \u001b[38;5;66;03m# We're going to read every row and check if one the created column exsist \u001b[39;00m\n\u001b[1;32m      3\u001b[0m \u001b[38;5;66;03m# If it exsist we place the value of that row in the specific column\u001b[39;00m\n\u001b[0;32m----> 5\u001b[0m df[\u001b[38;5;124m\"\u001b[39m\u001b[38;5;124mAg\u001b[39m\u001b[38;5;124m\"\u001b[39m] \u001b[38;5;241m=\u001b[39m df\u001b[38;5;241m.\u001b[39mapply(\u001b[43mprocess_row\u001b[49m, axis\u001b[38;5;241m=\u001b[39m\u001b[38;5;241m1\u001b[39m)\n\u001b[1;32m      6\u001b[0m df[\u001b[38;5;124m\"\u001b[39m\u001b[38;5;124mCa\u001b[39m\u001b[38;5;124m\"\u001b[39m]\n\u001b[1;32m      7\u001b[0m df[\u001b[38;5;124m\"\u001b[39m\u001b[38;5;124mMg\u001b[39m\u001b[38;5;124m\"\u001b[39m]\n",
      "\u001b[0;31mNameError\u001b[0m: name 'process_row' is not defined"
     ]
    }
   ],
   "source": [
    "# We're going to create 4 columns \n",
    "# We're going to read every row and check if one the created column exsist \n",
    "# If it exsist we place the value of that row in the specific column\n",
    "\n",
    "df[\"Ag\"] = df.apply(process_row, axis=1)\n",
    "df[\"Ca\"]\n",
    "df[\"Mg\"]\n",
    "df[\"Cu\"]"
   ]
  },
  {
   "cell_type": "code",
   "execution_count": 13,
   "id": "49be6bf3-e48d-4d2f-a7c4-011550a5f314",
   "metadata": {},
   "outputs": [
    {
     "name": "stdout",
     "output_type": "stream",
     "text": [
      "{'Ag': 38.4, 'Mg': 30.8, 'Ca': 30.8}\n"
     ]
    }
   ],
   "source": [
    "import re\n",
    "\n",
    "def parse_alloys(row):\n",
    "    matches = re.findall(r'([A-Za-z]+)([0-9.]+)', row)\n",
    "    result = {}\n",
    "    for element, value in matches:\n",
    "        result[element] = float(value)\n",
    "    return result\n",
    "row = \"Ag38.4 Mg30.8 Ca30.8\"\n",
    "print(parse_alloys(row))"
   ]
  },
  {
   "cell_type": "code",
   "execution_count": 14,
   "id": "31fc9f24-f365-48d9-8a46-1baed4b5f2a7",
   "metadata": {},
   "outputs": [
    {
     "data": {
      "text/plain": [
       "'\\nimport numpy as np\\n\\ndef safe_float(value):\\n    try:\\n        return float(value)\\n    except (ValueError, TypeError):\\n        return np.nan\\n\\nfor element in all_elements:\\n    df[element] = parsed.apply(lambda x: safe_float(x[element]) if element in x else np.nan)\\n    '"
      ]
     },
     "execution_count": 14,
     "metadata": {},
     "output_type": "execute_result"
    }
   ],
   "source": [
    "'''\n",
    "import numpy as np\n",
    "\n",
    "def safe_float(value):\n",
    "    try:\n",
    "        return float(value)\n",
    "    except (ValueError, TypeError):\n",
    "        return np.nan\n",
    "\n",
    "for element in all_elements:\n",
    "    df[element] = parsed.apply(lambda x: safe_float(x[element]) if element in x else np.nan)\n",
    "    '''"
   ]
  },
  {
   "cell_type": "code",
   "execution_count": 15,
   "id": "dfc748d2-148a-4c73-bd0a-1467d25451ce",
   "metadata": {},
   "outputs": [
    {
     "name": "stderr",
     "output_type": "stream",
     "text": [
      "<>:1: SyntaxWarning: invalid escape sequence '\\('\n",
      "<>:1: SyntaxWarning: invalid escape sequence '\\('\n",
      "/var/folders/nb/tq336s4j7_n36mvn6y2s47bm0000gn/T/ipykernel_4745/335784006.py:1: SyntaxWarning: invalid escape sequence '\\('\n",
      "  '''\n"
     ]
    },
    {
     "data": {
      "text/plain": [
       "'\\nimport numpy as np\\nimport re\\n\\ndef parse_alloys(row):\\n    if isinstance(row, str):\\n        #cleaned = re.sub(r\\'[\\\\(\\\\[].*?[\\\\)\\\\]]\\\\d*\\', \\'\\', row)\\n        return dict(re.findall(r\\'([A-Za-z]+)([0-9.]+)\\', row))\\n    else:\\n        return {}\\n\\nparsed = df[\"Alloys (compostion)\"].apply(parse_alloys)\\n\\nall_elements = set()\\nfor row_dict in parsed:\\n    all_elements.update(row_dict.keys())\\n\\nfor element in all_elements:\\n    df[element] = parsed.apply(lambda x: float(x[element]) if element in x else np.nan)\\n\\nprint(\"JAI FINI!!!!!\")\\nprint(f\"Colonnes ajoutées : {sorted(all_elements)}\")\\n'"
      ]
     },
     "execution_count": 15,
     "metadata": {},
     "output_type": "execute_result"
    }
   ],
   "source": [
    "'''\n",
    "import numpy as np\n",
    "import re\n",
    "\n",
    "def parse_alloys(row):\n",
    "    if isinstance(row, str):\n",
    "        #cleaned = re.sub(r'[\\(\\[].*?[\\)\\]]\\d*', '', row)\n",
    "        return dict(re.findall(r'([A-Za-z]+)([0-9.]+)', row))\n",
    "    else:\n",
    "        return {}\n",
    "\n",
    "parsed = df[\"Alloys (compostion)\"].apply(parse_alloys)\n",
    "\n",
    "all_elements = set()\n",
    "for row_dict in parsed:\n",
    "    all_elements.update(row_dict.keys())\n",
    "\n",
    "for element in all_elements:\n",
    "    df[element] = parsed.apply(lambda x: float(x[element]) if element in x else np.nan)\n",
    "\n",
    "print(\"JAI FINI!!!!!\")\n",
    "print(f\"Colonnes ajoutées : {sorted(all_elements)}\")\n",
    "'''"
   ]
  },
  {
   "cell_type": "code",
   "execution_count": 16,
   "id": "29b32005-f506-4e2f-8371-4b1dd0136f75",
   "metadata": {},
   "outputs": [
    {
     "name": "stdout",
     "output_type": "stream",
     "text": [
      "J'AI FINI !!!!!\n",
      "Colonnes ajoutées : ['Ag', 'Al', 'Au', 'B', 'Be', 'C', 'Ca', 'Ce', 'Co', 'Cr', 'Cu', 'Dy', 'Er', 'Fe', 'Ga', 'Gd', 'Hf', 'Ho', 'In', 'L', 'La', 'Mg', 'Mm', 'Mn', 'Mo', 'MoB', 'Nb', 'Nd', 'Ni', 'P', 'Pd', 'Pr', 'S', 'Sc', 'Si', 'Sm', 'Sn', 'Ta', 'Tb', 'Ti', 'Tm', 'V', 'W', 'Y', 'Zn', 'Zr', 'd']\n"
     ]
    }
   ],
   "source": [
    "import numpy as np\n",
    "import re\n",
    "from collections import defaultdict\n",
    "\n",
    "# Ton parse_alloys pour formules simples\n",
    "def parse_simple_alloys(row):\n",
    "    if isinstance(row, str):\n",
    "        return dict(re.findall(r'([A-Za-z]+)([0-9.]+)', row))\n",
    "    else:\n",
    "        return {}\n",
    "\n",
    "# Ton parse_formula pour formules complexes\n",
    "def parse_complex_alloys(formula):\n",
    "    result = defaultdict(float)\n",
    "\n",
    "    def process_block(block_text, block_percent):\n",
    "        pattern = r\"\\(([^\\(\\)]+)\\)(\\d+)|([A-Z][a-z]*)(\\d+)\"\n",
    "        parts = re.findall(pattern, block_text)\n",
    "        for part in parts:\n",
    "            if part[0]:  # Sous-bloc trouvé\n",
    "                inner_block, inner_percent = part[0], int(part[1])\n",
    "                new_percent = block_percent * inner_percent / 100\n",
    "                process_block(inner_block, new_percent)\n",
    "            else:  # Élément simple trouvé\n",
    "                elem, perc = part[2], int(part[3])\n",
    "                result[elem] += block_percent * perc / 100\n",
    "\n",
    "    # Check si formule commence par [ ]\n",
    "    if formula.startswith('['):\n",
    "        match = re.match(r\"\\[(.+)\\](\\d+)\\s*(.*)\", formula)\n",
    "        if not match:\n",
    "            raise ValueError(\"Format de formule incorrect\")\n",
    "        inside_block, global_percent, outside_elements = match.groups()\n",
    "        global_percent = int(global_percent)\n",
    "\n",
    "        process_block(inside_block, global_percent)\n",
    "\n",
    "        # Traiter les éléments en dehors du bloc\n",
    "        outside = re.findall(r\"([A-Z][a-z]*)(\\d+)\", outside_elements)\n",
    "        for elem, perc in outside:\n",
    "            result[elem] += int(perc)\n",
    "    else:\n",
    "        process_block(formula, 100)\n",
    "\n",
    "    return dict(result)\n",
    "\n",
    "# Fonction principale : détecte simple vs complexe\n",
    "def parse_row(row):\n",
    "    if isinstance(row, str):\n",
    "        if '(' in row or '[' in row:\n",
    "            return parse_complex_alloys(row)\n",
    "        else:\n",
    "            return parse_simple_alloys(row)\n",
    "    else:\n",
    "        return {}\n",
    "\n",
    "# Application sur ta colonne\n",
    "parsed = df[\"Alloys (compostion)\"].apply(parse_row)\n",
    "\n",
    "# Récupérer tous les éléments uniques\n",
    "all_elements = set()\n",
    "for row_dict in parsed:\n",
    "    all_elements.update(row_dict.keys())\n",
    "\n",
    "# Créer les colonnes dans ton dataframe\n",
    "for element in all_elements:\n",
    "    df[element] = parsed.apply(lambda x: float(x[element]) if element in x else np.nan)\n",
    "\n",
    "print(\"J'AI FINI !!!!!\")\n",
    "print(f\"Colonnes ajoutées : {sorted(all_elements)}\")"
   ]
  },
  {
   "cell_type": "code",
   "execution_count": 17,
   "id": "848a3c37-7cb5-4348-ae10-b6bf0493ffa5",
   "metadata": {},
   "outputs": [
    {
     "name": "stdout",
     "output_type": "stream",
     "text": [
      "47\n"
     ]
    }
   ],
   "source": [
    "print(len(all_elements))"
   ]
  },
  {
   "cell_type": "code",
   "execution_count": 18,
   "id": "63ac3f58-9e95-4e4d-81b3-a03c1abad005",
   "metadata": {},
   "outputs": [
    {
     "data": {
      "text/html": [
       "<div>\n",
       "<style scoped>\n",
       "    .dataframe tbody tr th:only-of-type {\n",
       "        vertical-align: middle;\n",
       "    }\n",
       "\n",
       "    .dataframe tbody tr th {\n",
       "        vertical-align: top;\n",
       "    }\n",
       "\n",
       "    .dataframe thead th {\n",
       "        text-align: right;\n",
       "    }\n",
       "</style>\n",
       "<table border=\"1\" class=\"dataframe\">\n",
       "  <thead>\n",
       "    <tr style=\"text-align: right;\">\n",
       "      <th></th>\n",
       "      <th>Alloys (compostion)</th>\n",
       "      <th>Tg(K)</th>\n",
       "      <th>Tx(K)</th>\n",
       "      <th>Tl(K)</th>\n",
       "      <th>Dmax (mm)</th>\n",
       "      <th>Pd</th>\n",
       "      <th>Ni</th>\n",
       "      <th>Mn</th>\n",
       "      <th>d</th>\n",
       "      <th>Au</th>\n",
       "      <th>...</th>\n",
       "      <th>P</th>\n",
       "      <th>MoB</th>\n",
       "      <th>Co</th>\n",
       "      <th>Be</th>\n",
       "      <th>Si</th>\n",
       "      <th>Cr</th>\n",
       "      <th>La</th>\n",
       "      <th>Nb</th>\n",
       "      <th>Ta</th>\n",
       "      <th>Sm</th>\n",
       "    </tr>\n",
       "  </thead>\n",
       "  <tbody>\n",
       "    <tr>\n",
       "      <th>0</th>\n",
       "      <td>Ag30.8 Ca30.8 Mg23.1 Cu15.4</td>\n",
       "      <td>413.0</td>\n",
       "      <td>432.0</td>\n",
       "      <td>803.0</td>\n",
       "      <td>2.5</td>\n",
       "      <td>NaN</td>\n",
       "      <td>NaN</td>\n",
       "      <td>NaN</td>\n",
       "      <td>NaN</td>\n",
       "      <td>NaN</td>\n",
       "      <td>...</td>\n",
       "      <td>NaN</td>\n",
       "      <td>NaN</td>\n",
       "      <td>NaN</td>\n",
       "      <td>NaN</td>\n",
       "      <td>NaN</td>\n",
       "      <td>NaN</td>\n",
       "      <td>NaN</td>\n",
       "      <td>NaN</td>\n",
       "      <td>NaN</td>\n",
       "      <td>NaN</td>\n",
       "    </tr>\n",
       "    <tr>\n",
       "      <th>1</th>\n",
       "      <td>Ag38.4 Mg30.8 Ca30.8</td>\n",
       "      <td>394.0</td>\n",
       "      <td>426.0</td>\n",
       "      <td>805.0</td>\n",
       "      <td>0.5</td>\n",
       "      <td>NaN</td>\n",
       "      <td>NaN</td>\n",
       "      <td>NaN</td>\n",
       "      <td>NaN</td>\n",
       "      <td>NaN</td>\n",
       "      <td>...</td>\n",
       "      <td>NaN</td>\n",
       "      <td>NaN</td>\n",
       "      <td>NaN</td>\n",
       "      <td>NaN</td>\n",
       "      <td>NaN</td>\n",
       "      <td>NaN</td>\n",
       "      <td>NaN</td>\n",
       "      <td>NaN</td>\n",
       "      <td>NaN</td>\n",
       "      <td>NaN</td>\n",
       "    </tr>\n",
       "    <tr>\n",
       "      <th>2</th>\n",
       "      <td>Ag38.5 Ca30.8 Mg23 Cu7.7</td>\n",
       "      <td>384.0</td>\n",
       "      <td>416.0</td>\n",
       "      <td>854.0</td>\n",
       "      <td>2.0</td>\n",
       "      <td>NaN</td>\n",
       "      <td>NaN</td>\n",
       "      <td>NaN</td>\n",
       "      <td>NaN</td>\n",
       "      <td>NaN</td>\n",
       "      <td>...</td>\n",
       "      <td>NaN</td>\n",
       "      <td>NaN</td>\n",
       "      <td>NaN</td>\n",
       "      <td>NaN</td>\n",
       "      <td>NaN</td>\n",
       "      <td>NaN</td>\n",
       "      <td>NaN</td>\n",
       "      <td>NaN</td>\n",
       "      <td>NaN</td>\n",
       "      <td>NaN</td>\n",
       "    </tr>\n",
       "    <tr>\n",
       "      <th>3</th>\n",
       "      <td>Ag38.5 Mg38.5 Ca15.4 Cu7.7</td>\n",
       "      <td>405.0</td>\n",
       "      <td>436.0</td>\n",
       "      <td>842.0</td>\n",
       "      <td>0.5</td>\n",
       "      <td>NaN</td>\n",
       "      <td>NaN</td>\n",
       "      <td>NaN</td>\n",
       "      <td>NaN</td>\n",
       "      <td>NaN</td>\n",
       "      <td>...</td>\n",
       "      <td>NaN</td>\n",
       "      <td>NaN</td>\n",
       "      <td>NaN</td>\n",
       "      <td>NaN</td>\n",
       "      <td>NaN</td>\n",
       "      <td>NaN</td>\n",
       "      <td>NaN</td>\n",
       "      <td>NaN</td>\n",
       "      <td>NaN</td>\n",
       "      <td>NaN</td>\n",
       "    </tr>\n",
       "    <tr>\n",
       "      <th>4</th>\n",
       "      <td>Ag46.2 Ca30.7 Mg23.1</td>\n",
       "      <td>399.0</td>\n",
       "      <td>426.0</td>\n",
       "      <td>765.0</td>\n",
       "      <td>0.7</td>\n",
       "      <td>NaN</td>\n",
       "      <td>NaN</td>\n",
       "      <td>NaN</td>\n",
       "      <td>NaN</td>\n",
       "      <td>NaN</td>\n",
       "      <td>...</td>\n",
       "      <td>NaN</td>\n",
       "      <td>NaN</td>\n",
       "      <td>NaN</td>\n",
       "      <td>NaN</td>\n",
       "      <td>NaN</td>\n",
       "      <td>NaN</td>\n",
       "      <td>NaN</td>\n",
       "      <td>NaN</td>\n",
       "      <td>NaN</td>\n",
       "      <td>NaN</td>\n",
       "    </tr>\n",
       "  </tbody>\n",
       "</table>\n",
       "<p>5 rows × 52 columns</p>\n",
       "</div>"
      ],
      "text/plain": [
       "           Alloys (compostion)  Tg(K)  Tx(K)  Tl(K)  Dmax (mm)  Pd  Ni  Mn  \\\n",
       "0  Ag30.8 Ca30.8 Mg23.1 Cu15.4  413.0  432.0  803.0        2.5 NaN NaN NaN   \n",
       "1         Ag38.4 Mg30.8 Ca30.8  394.0  426.0  805.0        0.5 NaN NaN NaN   \n",
       "2     Ag38.5 Ca30.8 Mg23 Cu7.7  384.0  416.0  854.0        2.0 NaN NaN NaN   \n",
       "3   Ag38.5 Mg38.5 Ca15.4 Cu7.7  405.0  436.0  842.0        0.5 NaN NaN NaN   \n",
       "4         Ag46.2 Ca30.7 Mg23.1  399.0  426.0  765.0        0.7 NaN NaN NaN   \n",
       "\n",
       "    d  Au  ...   P  MoB  Co  Be  Si  Cr  La  Nb  Ta  Sm  \n",
       "0 NaN NaN  ... NaN  NaN NaN NaN NaN NaN NaN NaN NaN NaN  \n",
       "1 NaN NaN  ... NaN  NaN NaN NaN NaN NaN NaN NaN NaN NaN  \n",
       "2 NaN NaN  ... NaN  NaN NaN NaN NaN NaN NaN NaN NaN NaN  \n",
       "3 NaN NaN  ... NaN  NaN NaN NaN NaN NaN NaN NaN NaN NaN  \n",
       "4 NaN NaN  ... NaN  NaN NaN NaN NaN NaN NaN NaN NaN NaN  \n",
       "\n",
       "[5 rows x 52 columns]"
      ]
     },
     "execution_count": 18,
     "metadata": {},
     "output_type": "execute_result"
    }
   ],
   "source": [
    "df.head()"
   ]
  },
  {
   "cell_type": "code",
   "execution_count": 23,
   "id": "6c52512d-01f4-42da-865f-c9823b7028a3",
   "metadata": {},
   "outputs": [],
   "source": [
    "df.to_excel('output2.xlsx', index=False)"
   ]
  },
  {
   "cell_type": "code",
   "execution_count": 19,
   "id": "71cdbbc5-7a5a-472d-bb80-4d68f3445594",
   "metadata": {},
   "outputs": [
    {
     "data": {
      "text/plain": [
       "Index(['Alloys (compostion)', 'Tg(K)', 'Tx(K)', 'Tl(K)', 'Dmax (mm)', 'Pd',\n",
       "       'Ni', 'Mn', 'd', 'Au', 'Fe', 'Hf', 'Cu', 'Dy', 'Tm', 'Ti', 'Al', 'Ho',\n",
       "       'S', 'B', 'Mo', 'V', 'Ce', 'Sc', 'Mm', 'In', 'Nd', 'Ga', 'Pr', 'C',\n",
       "       'Zn', 'Y', 'Ag', 'L', 'Tb', 'Gd', 'Ca', 'Mg', 'Er', 'Zr', 'W', 'Sn',\n",
       "       'P', 'MoB', 'Co', 'Be', 'Si', 'Cr', 'La', 'Nb', 'Ta', 'Sm'],\n",
       "      dtype='object')"
      ]
     },
     "execution_count": 19,
     "metadata": {},
     "output_type": "execute_result"
    }
   ],
   "source": [
    "df.columns"
   ]
  },
  {
   "cell_type": "code",
   "execution_count": 4,
   "id": "07c67d40-c2c1-466f-a50a-6d9c53ffbc3c",
   "metadata": {},
   "outputs": [],
   "source": [
    "import pandas as pd\n",
    "newdata = pd.read_excel(\"/Users/chawkibhd/Downloads/projetDM/output2.xlsx\")"
   ]
  },
  {
   "cell_type": "code",
   "execution_count": 27,
   "id": "3d18b223-03bb-4888-82f7-480c5b13bf52",
   "metadata": {},
   "outputs": [],
   "source": [
    "newdata = newdata.drop(columns=['Alloys (compostion)'])"
   ]
  },
  {
   "cell_type": "code",
   "execution_count": 29,
   "id": "d19777c7-2fe1-42bb-b947-e0ef2fb9e6f7",
   "metadata": {},
   "outputs": [],
   "source": [
    "newdata.to_excel(\"/Users/chawkibhd/Downloads/projetDM/output2.xlsx\", index=False)"
   ]
  },
  {
   "cell_type": "code",
   "execution_count": 5,
   "id": "a31283fb-feea-4ed0-8743-186b50986eb5",
   "metadata": {},
   "outputs": [
    {
     "data": {
      "text/html": [
       "<div>\n",
       "<style scoped>\n",
       "    .dataframe tbody tr th:only-of-type {\n",
       "        vertical-align: middle;\n",
       "    }\n",
       "\n",
       "    .dataframe tbody tr th {\n",
       "        vertical-align: top;\n",
       "    }\n",
       "\n",
       "    .dataframe thead th {\n",
       "        text-align: right;\n",
       "    }\n",
       "</style>\n",
       "<table border=\"1\" class=\"dataframe\">\n",
       "  <thead>\n",
       "    <tr style=\"text-align: right;\">\n",
       "      <th></th>\n",
       "      <th>Tg(K)</th>\n",
       "      <th>Tx(K)</th>\n",
       "      <th>Tl(K)</th>\n",
       "      <th>Dmax (mm)</th>\n",
       "      <th>Zr</th>\n",
       "      <th>W</th>\n",
       "      <th>Ca</th>\n",
       "      <th>Y</th>\n",
       "      <th>Nb</th>\n",
       "      <th>S</th>\n",
       "      <th>...</th>\n",
       "      <th>Ce</th>\n",
       "      <th>Tb</th>\n",
       "      <th>Al</th>\n",
       "      <th>Cu</th>\n",
       "      <th>Tm</th>\n",
       "      <th>Fe</th>\n",
       "      <th>Ag</th>\n",
       "      <th>Ta</th>\n",
       "      <th>Ga</th>\n",
       "      <th>L</th>\n",
       "    </tr>\n",
       "  </thead>\n",
       "  <tbody>\n",
       "    <tr>\n",
       "      <th>0</th>\n",
       "      <td>413.0</td>\n",
       "      <td>432.0</td>\n",
       "      <td>803.0</td>\n",
       "      <td>2.5</td>\n",
       "      <td>NaN</td>\n",
       "      <td>NaN</td>\n",
       "      <td>30.8</td>\n",
       "      <td>NaN</td>\n",
       "      <td>NaN</td>\n",
       "      <td>NaN</td>\n",
       "      <td>...</td>\n",
       "      <td>NaN</td>\n",
       "      <td>NaN</td>\n",
       "      <td>NaN</td>\n",
       "      <td>15.4</td>\n",
       "      <td>NaN</td>\n",
       "      <td>NaN</td>\n",
       "      <td>30.8</td>\n",
       "      <td>NaN</td>\n",
       "      <td>NaN</td>\n",
       "      <td>NaN</td>\n",
       "    </tr>\n",
       "    <tr>\n",
       "      <th>1</th>\n",
       "      <td>394.0</td>\n",
       "      <td>426.0</td>\n",
       "      <td>805.0</td>\n",
       "      <td>0.5</td>\n",
       "      <td>NaN</td>\n",
       "      <td>NaN</td>\n",
       "      <td>30.8</td>\n",
       "      <td>NaN</td>\n",
       "      <td>NaN</td>\n",
       "      <td>NaN</td>\n",
       "      <td>...</td>\n",
       "      <td>NaN</td>\n",
       "      <td>NaN</td>\n",
       "      <td>NaN</td>\n",
       "      <td>NaN</td>\n",
       "      <td>NaN</td>\n",
       "      <td>NaN</td>\n",
       "      <td>38.4</td>\n",
       "      <td>NaN</td>\n",
       "      <td>NaN</td>\n",
       "      <td>NaN</td>\n",
       "    </tr>\n",
       "    <tr>\n",
       "      <th>2</th>\n",
       "      <td>384.0</td>\n",
       "      <td>416.0</td>\n",
       "      <td>854.0</td>\n",
       "      <td>2.0</td>\n",
       "      <td>NaN</td>\n",
       "      <td>NaN</td>\n",
       "      <td>30.8</td>\n",
       "      <td>NaN</td>\n",
       "      <td>NaN</td>\n",
       "      <td>NaN</td>\n",
       "      <td>...</td>\n",
       "      <td>NaN</td>\n",
       "      <td>NaN</td>\n",
       "      <td>NaN</td>\n",
       "      <td>7.7</td>\n",
       "      <td>NaN</td>\n",
       "      <td>NaN</td>\n",
       "      <td>38.5</td>\n",
       "      <td>NaN</td>\n",
       "      <td>NaN</td>\n",
       "      <td>NaN</td>\n",
       "    </tr>\n",
       "    <tr>\n",
       "      <th>3</th>\n",
       "      <td>405.0</td>\n",
       "      <td>436.0</td>\n",
       "      <td>842.0</td>\n",
       "      <td>0.5</td>\n",
       "      <td>NaN</td>\n",
       "      <td>NaN</td>\n",
       "      <td>15.4</td>\n",
       "      <td>NaN</td>\n",
       "      <td>NaN</td>\n",
       "      <td>NaN</td>\n",
       "      <td>...</td>\n",
       "      <td>NaN</td>\n",
       "      <td>NaN</td>\n",
       "      <td>NaN</td>\n",
       "      <td>7.7</td>\n",
       "      <td>NaN</td>\n",
       "      <td>NaN</td>\n",
       "      <td>38.5</td>\n",
       "      <td>NaN</td>\n",
       "      <td>NaN</td>\n",
       "      <td>NaN</td>\n",
       "    </tr>\n",
       "    <tr>\n",
       "      <th>4</th>\n",
       "      <td>399.0</td>\n",
       "      <td>426.0</td>\n",
       "      <td>765.0</td>\n",
       "      <td>0.7</td>\n",
       "      <td>NaN</td>\n",
       "      <td>NaN</td>\n",
       "      <td>30.7</td>\n",
       "      <td>NaN</td>\n",
       "      <td>NaN</td>\n",
       "      <td>NaN</td>\n",
       "      <td>...</td>\n",
       "      <td>NaN</td>\n",
       "      <td>NaN</td>\n",
       "      <td>NaN</td>\n",
       "      <td>NaN</td>\n",
       "      <td>NaN</td>\n",
       "      <td>NaN</td>\n",
       "      <td>46.2</td>\n",
       "      <td>NaN</td>\n",
       "      <td>NaN</td>\n",
       "      <td>NaN</td>\n",
       "    </tr>\n",
       "  </tbody>\n",
       "</table>\n",
       "<p>5 rows × 51 columns</p>\n",
       "</div>"
      ],
      "text/plain": [
       "   Tg(K)  Tx(K)  Tl(K)  Dmax (mm)  Zr   W    Ca   Y  Nb   S  ...  Ce  Tb  Al  \\\n",
       "0  413.0  432.0  803.0        2.5 NaN NaN  30.8 NaN NaN NaN  ... NaN NaN NaN   \n",
       "1  394.0  426.0  805.0        0.5 NaN NaN  30.8 NaN NaN NaN  ... NaN NaN NaN   \n",
       "2  384.0  416.0  854.0        2.0 NaN NaN  30.8 NaN NaN NaN  ... NaN NaN NaN   \n",
       "3  405.0  436.0  842.0        0.5 NaN NaN  15.4 NaN NaN NaN  ... NaN NaN NaN   \n",
       "4  399.0  426.0  765.0        0.7 NaN NaN  30.7 NaN NaN NaN  ... NaN NaN NaN   \n",
       "\n",
       "     Cu  Tm  Fe    Ag  Ta  Ga   L  \n",
       "0  15.4 NaN NaN  30.8 NaN NaN NaN  \n",
       "1   NaN NaN NaN  38.4 NaN NaN NaN  \n",
       "2   7.7 NaN NaN  38.5 NaN NaN NaN  \n",
       "3   7.7 NaN NaN  38.5 NaN NaN NaN  \n",
       "4   NaN NaN NaN  46.2 NaN NaN NaN  \n",
       "\n",
       "[5 rows x 51 columns]"
      ]
     },
     "execution_count": 5,
     "metadata": {},
     "output_type": "execute_result"
    }
   ],
   "source": [
    "newdata.head()"
   ]
  },
  {
   "cell_type": "code",
   "execution_count": 6,
   "id": "17ff723f-b776-41c4-b16c-ca44bad43861",
   "metadata": {},
   "outputs": [
    {
     "name": "stdout",
     "output_type": "stream",
     "text": [
      "<class 'pandas.core.frame.DataFrame'>\n",
      "RangeIndex: 700 entries, 0 to 699\n",
      "Data columns (total 51 columns):\n",
      " #   Column     Non-Null Count  Dtype  \n",
      "---  ------     --------------  -----  \n",
      " 0   Tg(K)      698 non-null    float64\n",
      " 1   Tx(K)      698 non-null    float64\n",
      " 2   Tl(K)      698 non-null    float64\n",
      " 3   Dmax (mm)  698 non-null    float64\n",
      " 4   Zr         225 non-null    float64\n",
      " 5   W          9 non-null      float64\n",
      " 6   Ca         107 non-null    float64\n",
      " 7   Y          87 non-null     float64\n",
      " 8   Nb         89 non-null     float64\n",
      " 9   S          4 non-null      float64\n",
      " 10  Si         126 non-null    float64\n",
      " 11  Zn         34 non-null     float64\n",
      " 12  MoB        1 non-null      float64\n",
      " 13  Be         10 non-null     float64\n",
      " 14  Pr         4 non-null      float64\n",
      " 15  Sc         2 non-null      float64\n",
      " 16  Co         103 non-null    float64\n",
      " 17  Gd         33 non-null     float64\n",
      " 18  Sm         1 non-null      float64\n",
      " 19  d          1 non-null      float64\n",
      " 20  Ti         80 non-null     float64\n",
      " 21  P          47 non-null     float64\n",
      " 22  Mg         176 non-null    float64\n",
      " 23  V          1 non-null      float64\n",
      " 24  Cr         26 non-null     float64\n",
      " 25  B          169 non-null    float64\n",
      " 26  Dy         10 non-null     float64\n",
      " 27  Er         8 non-null      float64\n",
      " 28  Ni         175 non-null    float64\n",
      " 29  Hf         36 non-null     float64\n",
      " 30  Mo         51 non-null     float64\n",
      " 31  Nd         11 non-null     float64\n",
      " 32  Au         9 non-null      float64\n",
      " 33  Sn         14 non-null     float64\n",
      " 34  Ho         2 non-null      float64\n",
      " 35  Mn         2 non-null      float64\n",
      " 36  Mm         1 non-null      float64\n",
      " 37  C          55 non-null     float64\n",
      " 38  In         1 non-null      float64\n",
      " 39  La         86 non-null     float64\n",
      " 40  Pd         26 non-null     float64\n",
      " 41  Ce         32 non-null     float64\n",
      " 42  Tb         9 non-null      float64\n",
      " 43  Al         237 non-null    float64\n",
      " 44  Cu         395 non-null    float64\n",
      " 45  Tm         3 non-null      float64\n",
      " 46  Fe         178 non-null    float64\n",
      " 47  Ag         145 non-null    float64\n",
      " 48  Ta         5 non-null      float64\n",
      " 49  Ga         24 non-null     float64\n",
      " 50  L          1 non-null      float64\n",
      "dtypes: float64(51)\n",
      "memory usage: 279.0 KB\n"
     ]
    }
   ],
   "source": [
    "newdata.info()"
   ]
  },
  {
   "cell_type": "code",
   "execution_count": 7,
   "id": "5e748c20-d699-4297-a307-82a0025b63f0",
   "metadata": {},
   "outputs": [],
   "source": [
    "newdata.fillna(0, inplace=True)"
   ]
  },
  {
   "cell_type": "code",
   "execution_count": 9,
   "id": "e15a6f75-a1cd-4d56-82d8-29e73a7d343a",
   "metadata": {},
   "outputs": [],
   "source": [
    "colonnes_a_verifier = ['Ag', 'Al', 'Au', 'B', 'Be', 'C', 'Ca', 'Ce', 'Co', 'Cr', 'Cu', 'Dy', 'Er', \n",
    "                       'Fe', 'Ga', 'Gd', 'Hf', 'Ho', 'In', 'L', 'La', 'Mg', 'Mm', 'Mn', 'Mo', \n",
    "                       'MoB', 'Nb', 'Nd', 'Ni', 'P', 'Pd', 'Pr', 'S', 'Sc', 'Si', 'Sm', 'Sn', \n",
    "                       'Ta', 'Tb', 'Ti', 'Tm', 'V', 'W', 'Y', 'Zn', 'Zr', 'd']\n",
    "newdata = newdata[(newdata[colonnes_a_verifier] <= 100).all(axis=1)]"
   ]
  },
  {
   "cell_type": "code",
   "execution_count": 10,
   "id": "77a0f9ac-d934-4c56-9f8b-b30118982cca",
   "metadata": {},
   "outputs": [],
   "source": [
    "newdata.to_excel(\"/Users/chawkibhd/Downloads/projetDM/output2.xlsx\", index=False)"
   ]
  },
  {
   "cell_type": "code",
   "execution_count": 12,
   "id": "93082e6f-b61c-4415-a382-0037571f2da3",
   "metadata": {},
   "outputs": [
    {
     "name": "stdout",
     "output_type": "stream",
     "text": [
      "Colonnes qui contiennent uniquement des 0 :\n",
      "['MoB', 'L']\n"
     ]
    }
   ],
   "source": [
    "zero = (newdata == 0).all()\n",
    "colonnes_toutes_zero = zero[zero].index.tolist()\n",
    "print(\"Colonnes qui contiennent uniquement des 0 :\")\n",
    "print(colonnes_toutes_zero)"
   ]
  },
  {
   "cell_type": "code",
   "execution_count": 13,
   "id": "974dd922-dd8d-42b3-bca0-9ef87a6a0726",
   "metadata": {},
   "outputs": [],
   "source": [
    "newdata.drop(columns=['MoB', 'L'], inplace=True)"
   ]
  },
  {
   "cell_type": "code",
   "execution_count": 14,
   "id": "7685ea0b-9674-4414-8552-fa4a0e0356d5",
   "metadata": {},
   "outputs": [],
   "source": [
    "newdata.to_excel(\"/Users/chawkibhd/Downloads/projetDM/output2.xlsx\", index=False)"
   ]
  },
  {
   "cell_type": "code",
   "execution_count": 15,
   "id": "bacadcc0-c158-4676-891d-a7d48330832e",
   "metadata": {},
   "outputs": [
    {
     "name": "stdout",
     "output_type": "stream",
     "text": [
      "Colonnes qui contiennent uniquement des 0 :\n",
      "[]\n"
     ]
    }
   ],
   "source": [
    "zero = (newdata == 0).all()\n",
    "colonnes_toutes_zero = zero[zero].index.tolist()\n",
    "print(\"Colonnes qui contiennent uniquement des 0 :\")\n",
    "print(colonnes_toutes_zero)"
   ]
  },
  {
   "cell_type": "code",
   "execution_count": 17,
   "id": "ca382b04-9f8e-4dff-8123-70c9149585a9",
   "metadata": {},
   "outputs": [
    {
     "name": "stderr",
     "output_type": "stream",
     "text": [
      "/Library/Frameworks/Python.framework/Versions/3.12/lib/python3.12/site-packages/sklearn/cluster/_kmeans.py:1416: FutureWarning: The default value of `n_init` will change from 10 to 'auto' in 1.4. Set the value of `n_init` explicitly to suppress the warning\n",
      "  super()._check_params_vs_input(X, default_n_init=10)\n",
      "/Library/Frameworks/Python.framework/Versions/3.12/lib/python3.12/site-packages/sklearn/cluster/_kmeans.py:1416: FutureWarning: The default value of `n_init` will change from 10 to 'auto' in 1.4. Set the value of `n_init` explicitly to suppress the warning\n",
      "  super()._check_params_vs_input(X, default_n_init=10)\n",
      "/Library/Frameworks/Python.framework/Versions/3.12/lib/python3.12/site-packages/sklearn/cluster/_kmeans.py:1416: FutureWarning: The default value of `n_init` will change from 10 to 'auto' in 1.4. Set the value of `n_init` explicitly to suppress the warning\n",
      "  super()._check_params_vs_input(X, default_n_init=10)\n",
      "/Library/Frameworks/Python.framework/Versions/3.12/lib/python3.12/site-packages/sklearn/cluster/_kmeans.py:1416: FutureWarning: The default value of `n_init` will change from 10 to 'auto' in 1.4. Set the value of `n_init` explicitly to suppress the warning\n",
      "  super()._check_params_vs_input(X, default_n_init=10)\n",
      "/Library/Frameworks/Python.framework/Versions/3.12/lib/python3.12/site-packages/sklearn/cluster/_kmeans.py:1416: FutureWarning: The default value of `n_init` will change from 10 to 'auto' in 1.4. Set the value of `n_init` explicitly to suppress the warning\n",
      "  super()._check_params_vs_input(X, default_n_init=10)\n",
      "/Library/Frameworks/Python.framework/Versions/3.12/lib/python3.12/site-packages/sklearn/cluster/_kmeans.py:1416: FutureWarning: The default value of `n_init` will change from 10 to 'auto' in 1.4. Set the value of `n_init` explicitly to suppress the warning\n",
      "  super()._check_params_vs_input(X, default_n_init=10)\n",
      "/Library/Frameworks/Python.framework/Versions/3.12/lib/python3.12/site-packages/sklearn/cluster/_kmeans.py:1416: FutureWarning: The default value of `n_init` will change from 10 to 'auto' in 1.4. Set the value of `n_init` explicitly to suppress the warning\n",
      "  super()._check_params_vs_input(X, default_n_init=10)\n",
      "/Library/Frameworks/Python.framework/Versions/3.12/lib/python3.12/site-packages/sklearn/cluster/_kmeans.py:1416: FutureWarning: The default value of `n_init` will change from 10 to 'auto' in 1.4. Set the value of `n_init` explicitly to suppress the warning\n",
      "  super()._check_params_vs_input(X, default_n_init=10)\n",
      "/Library/Frameworks/Python.framework/Versions/3.12/lib/python3.12/site-packages/sklearn/cluster/_kmeans.py:1416: FutureWarning: The default value of `n_init` will change from 10 to 'auto' in 1.4. Set the value of `n_init` explicitly to suppress the warning\n",
      "  super()._check_params_vs_input(X, default_n_init=10)\n",
      "/Library/Frameworks/Python.framework/Versions/3.12/lib/python3.12/site-packages/sklearn/cluster/_kmeans.py:1416: FutureWarning: The default value of `n_init` will change from 10 to 'auto' in 1.4. Set the value of `n_init` explicitly to suppress the warning\n",
      "  super()._check_params_vs_input(X, default_n_init=10)\n"
     ]
    },
    {
     "data": {
      "image/png": "[encoded data removed]",
      "text/plain": [
       "<Figure size 640x480 with 1 Axes>"
      ]
     },
     "metadata": {},
     "output_type": "display_data"
    }
   ],
   "source": [
    "from sklearn.cluster import KMeans\n",
    "import matplotlib.pyplot as plt\n",
    "inertias = []\n",
    "\n",
    "for k in range(1, 11):\n",
    "    kmeans = KMeans(n_clusters=k, random_state=42)\n",
    "    kmeans.fit(newdata)\n",
    "    inertias.append(kmeans.inertia_)\n",
    "\n",
    "plt.plot(range(1, 11), inertias, marker='o')\n",
    "plt.xlabel('Nombre de clusters (k)')\n",
    "plt.ylabel('Inertie')\n",
    "plt.title('Méthode du coude')\n",
    "plt.show()"
   ]
  },
  {
   "cell_type": "code",
   "execution_count": 18,
   "id": "da75c086-798e-45a8-a2e8-c78f1f1efd8a",
   "metadata": {},
   "outputs": [
    {
     "name": "stdout",
     "output_type": "stream",
     "text": [
      "   Tg(K)  Tx(K)  Tl(K)  Dmax (mm)   Zr    W    Ca    Y   Nb    S  ...   Ce  \\\n",
      "0  413.0  432.0  803.0        2.5  0.0  0.0  30.8  0.0  0.0  0.0  ...  0.0   \n",
      "1  394.0  426.0  805.0        0.5  0.0  0.0  30.8  0.0  0.0  0.0  ...  0.0   \n",
      "2  384.0  416.0  854.0        2.0  0.0  0.0  30.8  0.0  0.0  0.0  ...  0.0   \n",
      "3  405.0  436.0  842.0        0.5  0.0  0.0  15.4  0.0  0.0  0.0  ...  0.0   \n",
      "4  399.0  426.0  765.0        0.7  0.0  0.0  30.7  0.0  0.0  0.0  ...  0.0   \n",
      "\n",
      "    Tb   Al    Cu   Tm   Fe    Ag   Ta   Ga  cluster  \n",
      "0  0.0  0.0  15.4  0.0  0.0  30.8  0.0  0.0        1  \n",
      "1  0.0  0.0   0.0  0.0  0.0  38.4  0.0  0.0        1  \n",
      "2  0.0  0.0   7.7  0.0  0.0  38.5  0.0  0.0        1  \n",
      "3  0.0  0.0   7.7  0.0  0.0  38.5  0.0  0.0        1  \n",
      "4  0.0  0.0   0.0  0.0  0.0  46.2  0.0  0.0        1  \n",
      "\n",
      "[5 rows x 50 columns]\n"
     ]
    },
    {
     "name": "stderr",
     "output_type": "stream",
     "text": [
      "/Library/Frameworks/Python.framework/Versions/3.12/lib/python3.12/site-packages/sklearn/cluster/_kmeans.py:1416: FutureWarning: The default value of `n_init` will change from 10 to 'auto' in 1.4. Set the value of `n_init` explicitly to suppress the warning\n",
      "  super()._check_params_vs_input(X, default_n_init=10)\n"
     ]
    }
   ],
   "source": [
    "k = 3 \n",
    "kmeans = KMeans(n_clusters=k, random_state=42)\n",
    "kmeans.fit(newdata)\n",
    "\n",
    "newdata['cluster'] = kmeans.labels_\n",
    "print(newdata.head())"
   ]
  },
  {
   "cell_type": "code",
   "execution_count": 19,
   "id": "391084aa-a279-4bb0-a8ec-c6f1013e925e",
   "metadata": {},
   "outputs": [
    {
     "data": {
      "image/png": "[encoded data removed]",
      "text/plain": [
       "<Figure size 800x600 with 1 Axes>"
      ]
     },
     "metadata": {},
     "output_type": "display_data"
    }
   ],
   "source": [
    "from sklearn.decomposition import PCA\n",
    "\n",
    "pca = PCA(n_components=2)\n",
    "reduced_data = pca.fit_transform(newdata.drop('cluster', axis=1))\n",
    "\n",
    "plot_data = pd.DataFrame()\n",
    "plot_data['PC1'] = reduced_data[:, 0]\n",
    "plot_data['PC2'] = reduced_data[:, 1]\n",
    "plot_data['Cluster'] = newdata['cluster']\n",
    "\n",
    "# Tracer les clusters\n",
    "plt.figure(figsize=(8,6))\n",
    "colors = ['red', 'green', 'blue']\n",
    "\n",
    "for cluster_id in range(k):\n",
    "    subset = plot_data[plot_data['Cluster'] == cluster_id]\n",
    "    plt.scatter(subset['PC1'], subset['PC2'], \n",
    "                color=colors[cluster_id], label=f'Cluster {cluster_id}', s=30)\n",
    "\n",
    "plt.title('Clusters après KMeans (PCA en 2D)')\n",
    "plt.xlabel('Composante Principale 1')\n",
    "plt.ylabel('Composante Principale 2')\n",
    "plt.legend()\n",
    "plt.grid(True)\n",
    "plt.show()"
   ]
  },
  {
   "cell_type": "code",
   "execution_count": 21,
   "id": "af4638c9-f2c7-4e93-8e64-8c0125537d13",
   "metadata": {},
   "outputs": [],
   "source": [
    "newdata.to_excel(\"/Users/chawkibhd/Downloads/projetDM/output2.xlsx\", index=False)"
   ]
  },
  {
   "cell_type": "code",
   "execution_count": 22,
   "id": "9b997675-6f52-4c42-86b4-e2f793e44d44",
   "metadata": {},
   "outputs": [
    {
     "name": "stderr",
     "output_type": "stream",
     "text": [
      "/Library/Frameworks/Python.framework/Versions/3.12/lib/python3.12/site-packages/sklearn/base.py:465: UserWarning: X does not have valid feature names, but PCA was fitted with feature names\n",
      "  warnings.warn(\n"
     ]
    },
    {
     "data": {
      "image/png": "[encoded data removed]",
      "text/plain": [
       "<Figure size 800x600 with 1 Axes>"
      ]
     },
     "metadata": {},
     "output_type": "display_data"
    }
   ],
   "source": [
    "from sklearn.decomposition import PCA\n",
    "import matplotlib.pyplot as plt\n",
    "\n",
    "# 1. Réduction à 2 dimensions pour affichage\n",
    "pca = PCA(n_components=2)\n",
    "reduced_data = pca.fit_transform(newdata.drop('cluster', axis=1))\n",
    "\n",
    "# 2. Transformation aussi des centres des clusters pour les afficher !\n",
    "centroids_reduced = pca.transform(kmeans.cluster_centers_)\n",
    "\n",
    "# 3. Création d'un DataFrame pour faciliter le plot\n",
    "import pandas as pd\n",
    "plot_data = pd.DataFrame()\n",
    "plot_data['PC1'] = reduced_data[:, 0]\n",
    "plot_data['PC2'] = reduced_data[:, 1]\n",
    "plot_data['Cluster'] = newdata['cluster']\n",
    "\n",
    "# 4. Tracer les clusters\n",
    "plt.figure(figsize=(8,6))\n",
    "colors = ['red', 'green', 'blue']\n",
    "\n",
    "for cluster_id in range(k):\n",
    "    subset = plot_data[plot_data['Cluster'] == cluster_id]\n",
    "    plt.scatter(subset['PC1'], subset['PC2'], \n",
    "                color=colors[cluster_id], label=f'Cluster {cluster_id}', s=30)\n",
    "\n",
    "# 5. Tracer les centres des clusters avec une croix noire\n",
    "plt.scatter(centroids_reduced[:, 0], centroids_reduced[:, 1], \n",
    "            marker='x', s=200, c='black', label='Centres')\n",
    "\n",
    "plt.title('Clusters après KMeans (avec Centres)')\n",
    "plt.xlabel('Composante Principale 1')\n",
    "plt.ylabel('Composante Principale 2')\n",
    "plt.legend()\n",
    "plt.grid(True)\n",
    "plt.show()\n"
   ]
  },
  {
   "cell_type": "code",
   "execution_count": 23,
   "id": "5c21cf82-02b6-4b1d-896e-2e40f93fc544",
   "metadata": {},
   "outputs": [],
   "source": [
    "from sklearn.preprocessing import StandardScaler\n",
    "\n",
    "scaler = StandardScaler()\n",
    "newdata_scaled = scaler.fit_transform(newdata.drop('cluster', axis=1))"
   ]
  },
  {
   "cell_type": "code",
   "execution_count": 26,
   "id": "f11fabc9-6561-49b9-8ffd-675f7481e172",
   "metadata": {},
   "outputs": [
    {
     "name": "stdout",
     "output_type": "stream",
     "text": [
      "   Tg(K)  Tx(K)  Tl(K)  Dmax (mm)   Zr    W    Ca    Y   Nb    S  ...   Ce  \\\n",
      "0  413.0  432.0  803.0        2.5  0.0  0.0  30.8  0.0  0.0  0.0  ...  0.0   \n",
      "1  394.0  426.0  805.0        0.5  0.0  0.0  30.8  0.0  0.0  0.0  ...  0.0   \n",
      "2  384.0  416.0  854.0        2.0  0.0  0.0  30.8  0.0  0.0  0.0  ...  0.0   \n",
      "3  405.0  436.0  842.0        0.5  0.0  0.0  15.4  0.0  0.0  0.0  ...  0.0   \n",
      "4  399.0  426.0  765.0        0.7  0.0  0.0  30.7  0.0  0.0  0.0  ...  0.0   \n",
      "\n",
      "    Tb   Al    Cu   Tm   Fe    Ag   Ta   Ga  cluster  \n",
      "0  0.0  0.0  15.4  0.0  0.0  30.8  0.0  0.0        1  \n",
      "1  0.0  0.0   0.0  0.0  0.0  38.4  0.0  0.0        1  \n",
      "2  0.0  0.0   7.7  0.0  0.0  38.5  0.0  0.0        1  \n",
      "3  0.0  0.0   7.7  0.0  0.0  38.5  0.0  0.0        1  \n",
      "4  0.0  0.0   0.0  0.0  0.0  46.2  0.0  0.0        1  \n",
      "\n",
      "[5 rows x 50 columns]\n"
     ]
    },
    {
     "name": "stderr",
     "output_type": "stream",
     "text": [
      "/Library/Frameworks/Python.framework/Versions/3.12/lib/python3.12/site-packages/sklearn/cluster/_kmeans.py:1416: FutureWarning: The default value of `n_init` will change from 10 to 'auto' in 1.4. Set the value of `n_init` explicitly to suppress the warning\n",
      "  super()._check_params_vs_input(X, default_n_init=10)\n"
     ]
    }
   ],
   "source": [
    "k = 3 \n",
    "kmeans = KMeans(n_clusters=k, random_state=42)\n",
    "kmeans.fit(newdata_scaled)\n",
    "\n",
    "newdata['cluster'] = kmeans.labels_\n",
    "\n",
    "print(newdata.head())\n"
   ]
  },
  {
   "cell_type": "code",
   "execution_count": 27,
   "id": "acad86d6-22e3-4fe7-a467-807a85d7a414",
   "metadata": {},
   "outputs": [
    {
     "data": {
      "image/png": "[encoded data removed]",
      "text/plain": [
       "<Figure size 800x600 with 1 Axes>"
      ]
     },
     "metadata": {},
     "output_type": "display_data"
    }
   ],
   "source": [
    "from sklearn.decomposition import PCA\n",
    "import matplotlib.pyplot as plt\n",
    "\n",
    "# 1. Faire un PCA sur les données normalisées\n",
    "pca = PCA(n_components=2)\n",
    "reduced_scaled_data = pca.fit_transform(newdata_scaled)\n",
    "\n",
    "# 2. Construire un DataFrame pour le scatter plot\n",
    "import pandas as pd\n",
    "plot_data_scaled = pd.DataFrame()\n",
    "plot_data_scaled['PC1'] = reduced_scaled_data[:, 0]\n",
    "plot_data_scaled['PC2'] = reduced_scaled_data[:, 1]\n",
    "plot_data_scaled['Cluster'] = newdata['cluster']  # cluster est ajouté dans newdata\n",
    "\n",
    "# 3. Tracer les clusters\n",
    "plt.figure(figsize=(8,6))\n",
    "colors = ['red', 'green', 'blue']\n",
    "\n",
    "for cluster_id in range(k):\n",
    "    subset = plot_data_scaled[plot_data_scaled['Cluster'] == cluster_id]\n",
    "    plt.scatter(subset['PC1'], subset['PC2'], \n",
    "                color=colors[cluster_id], label=f'Cluster {cluster_id}', s=30)\n",
    "\n",
    "# 4. Centres (centroïdes) dans l'espace réduit\n",
    "centroids_reduced = pca.transform(kmeans.cluster_centers_)\n",
    "\n",
    "plt.scatter(centroids_reduced[:, 0], centroids_reduced[:, 1], \n",
    "            marker='x', s=200, c='black', label='Centres')\n",
    "\n",
    "plt.title('Clusters sur données standardisées (avec Centres)')\n",
    "plt.xlabel('Composante Principale 1')\n",
    "plt.ylabel('Composante Principale 2')\n",
    "plt.legend()\n",
    "plt.grid(True)\n",
    "plt.show()\n"
   ]
  },
  {
   "cell_type": "code",
   "execution_count": null,
   "id": "a890b7c8-fc31-499e-b1de-5793243e54cf",
   "metadata": {},
   "outputs": [],
   "source": []
  }
 ],
 "metadata": {
  "kernelspec": {
   "display_name": "Python 3 (ipykernel)",
   "language": "python",
   "name": "python3"
  },
  "language_info": {
   "codemirror_mode": {
    "name": "ipython",
    "version": 3
   },
   "file_extension": ".py",
   "mimetype": "text/x-python",
   "name": "python",
   "nbconvert_exporter": "python",
   "pygments_lexer": "ipython3",
   "version": "3.12.0"
  }
 },
 "nbformat": 4,
 "nbformat_minor": 5
}
