{
 "cells": [
  {
   "cell_type": "code",
   "execution_count": 2,
   "id": "e8b717ae-042c-4532-9c51-728550dde3b8",
   "metadata": {},
   "outputs": [
    {
     "ename": "ModuleNotFoundError",
     "evalue": "No module named 'odfpy'",
     "output_type": "error",
     "traceback": [
      "\u001b[0;31m---------------------------------------------------------------------------\u001b[0m",
      "\u001b[0;31mModuleNotFoundError\u001b[0m                       Traceback (most recent call last)",
      "Cell \u001b[0;32mIn[2], line 2\u001b[0m\n\u001b[1;32m      1\u001b[0m \u001b[38;5;28;01mimport\u001b[39;00m \u001b[38;5;21;01mpandas\u001b[39;00m \u001b[38;5;28;01mas\u001b[39;00m \u001b[38;5;21;01mpd\u001b[39;00m\n\u001b[0;32m----> 2\u001b[0m \u001b[38;5;28;01mimport\u001b[39;00m \u001b[38;5;21;01modfpy\u001b[39;00m\n\u001b[1;32m      3\u001b[0m df \u001b[38;5;241m=\u001b[39m pd\u001b[38;5;241m.\u001b[39mread_excel(\u001b[38;5;124m\"\u001b[39m\u001b[38;5;124m/Users/chawkibhd/Downloads/projetDM/BMGs-2024.ods\u001b[39m\u001b[38;5;124m\"\u001b[39m, engine\u001b[38;5;241m=\u001b[39m\u001b[38;5;124m\"\u001b[39m\u001b[38;5;124modf\u001b[39m\u001b[38;5;124m\"\u001b[39m)\n\u001b[1;32m      5\u001b[0m \u001b[38;5;28mprint\u001b[39m(df\u001b[38;5;241m.\u001b[39mhead())\n",
      "\u001b[0;31mModuleNotFoundError\u001b[0m: No module named 'odfpy'"
     ]
    }
   ],
   "source": [
    "import pandas as pd\n",
    "import odfpy\n",
    "df = pd.read_excel(\"/Users/chawkibhd/Downloads/projetDM/BMGs-2024.ods\", engine=\"odf\")\n",
    "\n",
    "print(df.head())"
   ]
  },
  {
   "cell_type": "code",
   "execution_count": 3,
   "id": "a7cd564c-fd98-434d-85b4-921baea1ea2f",
   "metadata": {},
   "outputs": [
    {
     "name": "stdout",
     "output_type": "stream",
     "text": [
      "['Sheet1', 'Dataset']\n"
     ]
    }
   ],
   "source": [
    "xls = pd.ExcelFile(\"/Users/chawkibhd/Downloads/projetDM/data/BMGs-2024.ods\", engine=\"odf\")\n",
    "print(xls.sheet_names) \n"
   ]
  },
  {
   "cell_type": "code",
   "execution_count": 4,
   "id": "245dc91d-11e3-49de-a5f8-83bbc16940c3",
   "metadata": {},
   "outputs": [
    {
     "name": "stdout",
     "output_type": "stream",
     "text": [
      "           Alloys (compostion)  Tg(K)  Tx(K)  Tl(K)  Dmax (mm)\n",
      "0  Ag30.8 Ca30.8 Mg23.1 Cu15.4  413.0  432.0  803.0        2.5\n",
      "1         Ag38.4 Mg30.8 Ca30.8  394.0  426.0  805.0        0.5\n",
      "2     Ag38.5 Ca30.8 Mg23 Cu7.7  384.0  416.0  854.0        2.0\n",
      "3   Ag38.5 Mg38.5 Ca15.4 Cu7.7  405.0  436.0  842.0        0.5\n",
      "4         Ag46.2 Ca30.7 Mg23.1  399.0  426.0  765.0        0.7\n"
     ]
    }
   ],
   "source": [
    "df = pd.read_excel(xls, sheet_name=\"Sheet1\", engine=\"odf\")\n",
    "print(df.head())"
   ]
  },
  {
   "cell_type": "code",
   "execution_count": 5,
   "id": "8bdeeb0f-ed27-4e8c-97dd-7761ef502efd",
   "metadata": {},
   "outputs": [
    {
     "data": {
      "text/html": [
       "<div>\n",
       "<style scoped>\n",
       "    .dataframe tbody tr th:only-of-type {\n",
       "        vertical-align: middle;\n",
       "    }\n",
       "\n",
       "    .dataframe tbody tr th {\n",
       "        vertical-align: top;\n",
       "    }\n",
       "\n",
       "    .dataframe thead th {\n",
       "        text-align: right;\n",
       "    }\n",
       "</style>\n",
       "<table border=\"1\" class=\"dataframe\">\n",
       "  <thead>\n",
       "    <tr style=\"text-align: right;\">\n",
       "      <th></th>\n",
       "      <th>Alloys (compostion)</th>\n",
       "      <th>Tg(K)</th>\n",
       "      <th>Tx(K)</th>\n",
       "      <th>Tl(K)</th>\n",
       "      <th>Dmax (mm)</th>\n",
       "    </tr>\n",
       "  </thead>\n",
       "  <tbody>\n",
       "    <tr>\n",
       "      <th>0</th>\n",
       "      <td>Ag30.8 Ca30.8 Mg23.1 Cu15.4</td>\n",
       "      <td>413.0</td>\n",
       "      <td>432.0</td>\n",
       "      <td>803.0</td>\n",
       "      <td>2.5</td>\n",
       "    </tr>\n",
       "    <tr>\n",
       "      <th>1</th>\n",
       "      <td>Ag38.4 Mg30.8 Ca30.8</td>\n",
       "      <td>394.0</td>\n",
       "      <td>426.0</td>\n",
       "      <td>805.0</td>\n",
       "      <td>0.5</td>\n",
       "    </tr>\n",
       "    <tr>\n",
       "      <th>2</th>\n",
       "      <td>Ag38.5 Ca30.8 Mg23 Cu7.7</td>\n",
       "      <td>384.0</td>\n",
       "      <td>416.0</td>\n",
       "      <td>854.0</td>\n",
       "      <td>2.0</td>\n",
       "    </tr>\n",
       "    <tr>\n",
       "      <th>3</th>\n",
       "      <td>Ag38.5 Mg38.5 Ca15.4 Cu7.7</td>\n",
       "      <td>405.0</td>\n",
       "      <td>436.0</td>\n",
       "      <td>842.0</td>\n",
       "      <td>0.5</td>\n",
       "    </tr>\n",
       "    <tr>\n",
       "      <th>4</th>\n",
       "      <td>Ag46.2 Ca30.7 Mg23.1</td>\n",
       "      <td>399.0</td>\n",
       "      <td>426.0</td>\n",
       "      <td>765.0</td>\n",
       "      <td>0.7</td>\n",
       "    </tr>\n",
       "  </tbody>\n",
       "</table>\n",
       "</div>"
      ],
      "text/plain": [
       "           Alloys (compostion)  Tg(K)  Tx(K)  Tl(K)  Dmax (mm)\n",
       "0  Ag30.8 Ca30.8 Mg23.1 Cu15.4  413.0  432.0  803.0        2.5\n",
       "1         Ag38.4 Mg30.8 Ca30.8  394.0  426.0  805.0        0.5\n",
       "2     Ag38.5 Ca30.8 Mg23 Cu7.7  384.0  416.0  854.0        2.0\n",
       "3   Ag38.5 Mg38.5 Ca15.4 Cu7.7  405.0  436.0  842.0        0.5\n",
       "4         Ag46.2 Ca30.7 Mg23.1  399.0  426.0  765.0        0.7"
      ]
     },
     "execution_count": 5,
     "metadata": {},
     "output_type": "execute_result"
    }
   ],
   "source": [
    "df.head()"
   ]
  },
  {
   "cell_type": "code",
   "execution_count": 6,
   "id": "c3336f24-a9ad-4a55-9331-43e10a2eeac3",
   "metadata": {},
   "outputs": [
    {
     "ename": "IndentationError",
     "evalue": "unexpected indent (964462527.py, line 5)",
     "output_type": "error",
     "traceback": [
      "\u001b[0;36m  Cell \u001b[0;32mIn[6], line 5\u001b[0;36m\u001b[0m\n\u001b[0;31m    if isinstance(i, (int, float)):\u001b[0m\n\u001b[0m    ^\u001b[0m\n\u001b[0;31mIndentationError\u001b[0m\u001b[0;31m:\u001b[0m unexpected indent\n"
     ]
    }
   ],
   "source": [
    "def process_row(row):\n",
    "    for i in len(row[\"Alloys (compostion)\"]):\n",
    "        word += row[\"Alloys (compostion)\"][i]\n",
    "        \n",
    "            if isinstance(i, (int, float)):\n",
    "                for j in len(row[\"Alloys (compostion)\"]):\n",
    "                    number += row[\"Alloys (compostion)\"][j]\n",
    "                    if j == \" \":\n",
    "                        break;\n",
    "                \n",
    "            if (isinstance(i, (int, float)):\n",
    "                if word == \"Ag\":\n",
    "                    return number\n",
    "                else:\n",
    "                    return 0"
   ]
  },
  {
   "cell_type": "code",
   "execution_count": 7,
   "id": "4c0dd4d1-ded8-4078-8a9c-12d86993b3a5",
   "metadata": {},
   "outputs": [
    {
     "ename": "NameError",
     "evalue": "name 'process_row' is not defined",
     "output_type": "error",
     "traceback": [
      "\u001b[0;31m---------------------------------------------------------------------------\u001b[0m",
      "\u001b[0;31mNameError\u001b[0m                                 Traceback (most recent call last)",
      "Cell \u001b[0;32mIn[7], line 5\u001b[0m\n\u001b[1;32m      1\u001b[0m \u001b[38;5;66;03m# We're going to create 4 columns \u001b[39;00m\n\u001b[1;32m      2\u001b[0m \u001b[38;5;66;03m# We're going to read every row and check if one the created column exsist \u001b[39;00m\n\u001b[1;32m      3\u001b[0m \u001b[38;5;66;03m# If it exsist we place the value of that row in the specific column\u001b[39;00m\n\u001b[0;32m----> 5\u001b[0m df[\u001b[38;5;124m\"\u001b[39m\u001b[38;5;124mAg\u001b[39m\u001b[38;5;124m\"\u001b[39m] \u001b[38;5;241m=\u001b[39m df\u001b[38;5;241m.\u001b[39mapply(\u001b[43mprocess_row\u001b[49m, axis\u001b[38;5;241m=\u001b[39m\u001b[38;5;241m1\u001b[39m)\n\u001b[1;32m      6\u001b[0m df[\u001b[38;5;124m\"\u001b[39m\u001b[38;5;124mCa\u001b[39m\u001b[38;5;124m\"\u001b[39m]\n\u001b[1;32m      7\u001b[0m df[\u001b[38;5;124m\"\u001b[39m\u001b[38;5;124mMg\u001b[39m\u001b[38;5;124m\"\u001b[39m]\n",
      "\u001b[0;31mNameError\u001b[0m: name 'process_row' is not defined"
     ]
    }
   ],
   "source": [
    "# We're going to create 4 columns \n",
    "# We're going to read every row and check if one the created column exsist \n",
    "# If it exsist we place the value of that row in the specific column\n",
    "\n",
    "df[\"Ag\"] = df.apply(process_row, axis=1)\n",
    "df[\"Ca\"]\n",
    "df[\"Mg\"]\n",
    "df[\"Cu\"]"
   ]
  },
  {
   "cell_type": "code",
   "execution_count": 8,
   "id": "49be6bf3-e48d-4d2f-a7c4-011550a5f314",
   "metadata": {},
   "outputs": [
    {
     "name": "stdout",
     "output_type": "stream",
     "text": [
      "{'Ag': 38.4, 'Mg': 30.8, 'Ca': 30.8}\n"
     ]
    }
   ],
   "source": [
    "import re\n",
    "\n",
    "def parse_alloys(row):\n",
    "    matches = re.findall(r'([A-Za-z]+)([0-9.]+)', row)\n",
    "    result = {}\n",
    "    for element, value in matches:\n",
    "        result[element] = float(value)\n",
    "    return result\n",
    "row = \"Ag38.4 Mg30.8 Ca30.8\"\n",
    "print(parse_alloys(row))"
   ]
  },
  {
   "cell_type": "code",
   "execution_count": 9,
   "id": "31fc9f24-f365-48d9-8a46-1baed4b5f2a7",
   "metadata": {},
   "outputs": [
    {
     "data": {
      "text/plain": [
       "'\\nimport numpy as np\\n\\ndef safe_float(value):\\n    try:\\n        return float(value)\\n    except (ValueError, TypeError):\\n        return np.nan\\n\\nfor element in all_elements:\\n    df[element] = parsed.apply(lambda x: safe_float(x[element]) if element in x else np.nan)\\n    '"
      ]
     },
     "execution_count": 9,
     "metadata": {},
     "output_type": "execute_result"
    }
   ],
   "source": [
    "'''\n",
    "import numpy as np\n",
    "\n",
    "def safe_float(value):\n",
    "    try:\n",
    "        return float(value)\n",
    "    except (ValueError, TypeError):\n",
    "        return np.nan\n",
    "\n",
    "for element in all_elements:\n",
    "    df[element] = parsed.apply(lambda x: safe_float(x[element]) if element in x else np.nan)\n",
    "    '''"
   ]
  },
  {
   "cell_type": "code",
   "execution_count": 10,
   "id": "dfc748d2-148a-4c73-bd0a-1467d25451ce",
   "metadata": {},
   "outputs": [
    {
     "name": "stderr",
     "output_type": "stream",
     "text": [
      "<>:1: SyntaxWarning: invalid escape sequence '\\('\n",
      "<>:1: SyntaxWarning: invalid escape sequence '\\('\n",
      "/var/folders/nb/tq336s4j7_n36mvn6y2s47bm0000gn/T/ipykernel_12077/335784006.py:1: SyntaxWarning: invalid escape sequence '\\('\n",
      "  '''\n"
     ]
    },
    {
     "data": {
      "text/plain": [
       "'\\nimport numpy as np\\nimport re\\n\\ndef parse_alloys(row):\\n    if isinstance(row, str):\\n        #cleaned = re.sub(r\\'[\\\\(\\\\[].*?[\\\\)\\\\]]\\\\d*\\', \\'\\', row)\\n        return dict(re.findall(r\\'([A-Za-z]+)([0-9.]+)\\', row))\\n    else:\\n        return {}\\n\\nparsed = df[\"Alloys (compostion)\"].apply(parse_alloys)\\n\\nall_elements = set()\\nfor row_dict in parsed:\\n    all_elements.update(row_dict.keys())\\n\\nfor element in all_elements:\\n    df[element] = parsed.apply(lambda x: float(x[element]) if element in x else np.nan)\\n\\nprint(\"JAI FINI!!!!!\")\\nprint(f\"Colonnes ajoutées : {sorted(all_elements)}\")\\n'"
      ]
     },
     "execution_count": 10,
     "metadata": {},
     "output_type": "execute_result"
    }
   ],
   "source": [
    "'''\n",
    "import numpy as np\n",
    "import re\n",
    "\n",
    "def parse_alloys(row):\n",
    "    if isinstance(row, str):\n",
    "        #cleaned = re.sub(r'[\\(\\[].*?[\\)\\]]\\d*', '', row)\n",
    "        return dict(re.findall(r'([A-Za-z]+)([0-9.]+)', row))\n",
    "    else:\n",
    "        return {}\n",
    "\n",
    "parsed = df[\"Alloys (compostion)\"].apply(parse_alloys)\n",
    "\n",
    "all_elements = set()\n",
    "for row_dict in parsed:\n",
    "    all_elements.update(row_dict.keys())\n",
    "\n",
    "for element in all_elements:\n",
    "    df[element] = parsed.apply(lambda x: float(x[element]) if element in x else np.nan)\n",
    "\n",
    "print(\"JAI FINI!!!!!\")\n",
    "print(f\"Colonnes ajoutées : {sorted(all_elements)}\")\n",
    "'''"
   ]
  },
  {
   "cell_type": "code",
   "execution_count": 11,
   "id": "29b32005-f506-4e2f-8371-4b1dd0136f75",
   "metadata": {},
   "outputs": [
    {
     "name": "stdout",
     "output_type": "stream",
     "text": [
      "J'AI FINI !!!!!\n",
      "Colonnes ajoutées : ['Ag', 'Al', 'Au', 'B', 'Be', 'C', 'Ca', 'Ce', 'Co', 'Cr', 'Cu', 'Dy', 'Er', 'Fe', 'Ga', 'Gd', 'Hf', 'Ho', 'In', 'L', 'La', 'Mg', 'Mm', 'Mn', 'Mo', 'MoB', 'Nb', 'Nd', 'Ni', 'P', 'Pd', 'Pr', 'S', 'Sc', 'Si', 'Sm', 'Sn', 'Ta', 'Tb', 'Ti', 'Tm', 'V', 'W', 'Y', 'Zn', 'Zr', 'd']\n"
     ]
    }
   ],
   "source": [
    "import numpy as np\n",
    "import re\n",
    "from collections import defaultdict\n",
    "\n",
    "# Ton parse_alloys pour formules simples\n",
    "def parse_simple_alloys(row):\n",
    "    if isinstance(row, str):\n",
    "        return dict(re.findall(r'([A-Za-z]+)([0-9.]+)', row))\n",
    "    else:\n",
    "        return {}\n",
    "\n",
    "# Ton parse_formula pour formules complexes\n",
    "def parse_complex_alloys(formula):\n",
    "    result = defaultdict(float)\n",
    "\n",
    "    def process_block(block_text, block_percent):\n",
    "        pattern = r\"\\(([^\\(\\)]+)\\)(\\d+)|([A-Z][a-z]*)(\\d+)\"\n",
    "        parts = re.findall(pattern, block_text)\n",
    "        for part in parts:\n",
    "            if part[0]:  # Sous-bloc trouvé\n",
    "                inner_block, inner_percent = part[0], int(part[1])\n",
    "                new_percent = block_percent * inner_percent / 100\n",
    "                process_block(inner_block, new_percent)\n",
    "            else:  # Élément simple trouvé\n",
    "                elem, perc = part[2], int(part[3])\n",
    "                result[elem] += block_percent * perc / 100\n",
    "\n",
    "    # Check si formule commence par [ ]\n",
    "    if formula.startswith('['):\n",
    "        match = re.match(r\"\\[(.+)\\](\\d+)\\s*(.*)\", formula)\n",
    "        if not match:\n",
    "            raise ValueError(\"Format de formule incorrect\")\n",
    "        inside_block, global_percent, outside_elements = match.groups()\n",
    "        global_percent = int(global_percent)\n",
    "\n",
    "        process_block(inside_block, global_percent)\n",
    "\n",
    "        # Traiter les éléments en dehors du bloc\n",
    "        outside = re.findall(r\"([A-Z][a-z]*)(\\d+)\", outside_elements)\n",
    "        for elem, perc in outside:\n",
    "            result[elem] += int(perc)\n",
    "    else:\n",
    "        process_block(formula, 100)\n",
    "\n",
    "    return dict(result)\n",
    "\n",
    "# Fonction principale : détecte simple vs complexe\n",
    "def parse_row(row):\n",
    "    if isinstance(row, str):\n",
    "        if '(' in row or '[' in row:\n",
    "            return parse_complex_alloys(row)\n",
    "        else:\n",
    "            return parse_simple_alloys(row)\n",
    "    else:\n",
    "        return {}\n",
    "\n",
    "# Application sur ta colonne\n",
    "parsed = df[\"Alloys (compostion)\"].apply(parse_row)\n",
    "\n",
    "# Récupérer tous les éléments uniques\n",
    "all_elements = set()\n",
    "for row_dict in parsed:\n",
    "    all_elements.update(row_dict.keys())\n",
    "\n",
    "# Créer les colonnes dans ton dataframe\n",
    "for element in all_elements:\n",
    "    df[element] = parsed.apply(lambda x: float(x[element]) if element in x else np.nan)\n",
    "\n",
    "print(\"J'AI FINI !!!!!\")\n",
    "print(f\"Colonnes ajoutées : {sorted(all_elements)}\")"
   ]
  },
  {
   "cell_type": "code",
   "execution_count": 12,
   "id": "848a3c37-7cb5-4348-ae10-b6bf0493ffa5",
   "metadata": {},
   "outputs": [
    {
     "name": "stdout",
     "output_type": "stream",
     "text": [
      "47\n"
     ]
    }
   ],
   "source": [
    "print(len(all_elements))"
   ]
  },
  {
   "cell_type": "code",
   "execution_count": 13,
   "id": "63ac3f58-9e95-4e4d-81b3-a03c1abad005",
   "metadata": {},
   "outputs": [
    {
     "data": {
      "text/html": [
       "<div>\n",
       "<style scoped>\n",
       "    .dataframe tbody tr th:only-of-type {\n",
       "        vertical-align: middle;\n",
       "    }\n",
       "\n",
       "    .dataframe tbody tr th {\n",
       "        vertical-align: top;\n",
       "    }\n",
       "\n",
       "    .dataframe thead th {\n",
       "        text-align: right;\n",
       "    }\n",
       "</style>\n",
       "<table border=\"1\" class=\"dataframe\">\n",
       "  <thead>\n",
       "    <tr style=\"text-align: right;\">\n",
       "      <th></th>\n",
       "      <th>Alloys (compostion)</th>\n",
       "      <th>Tg(K)</th>\n",
       "      <th>Tx(K)</th>\n",
       "      <th>Tl(K)</th>\n",
       "      <th>Dmax (mm)</th>\n",
       "      <th>Hf</th>\n",
       "      <th>MoB</th>\n",
       "      <th>Zr</th>\n",
       "      <th>Ca</th>\n",
       "      <th>Pd</th>\n",
       "      <th>...</th>\n",
       "      <th>Al</th>\n",
       "      <th>Cr</th>\n",
       "      <th>Mm</th>\n",
       "      <th>Gd</th>\n",
       "      <th>Mn</th>\n",
       "      <th>Ce</th>\n",
       "      <th>P</th>\n",
       "      <th>Mg</th>\n",
       "      <th>W</th>\n",
       "      <th>Tb</th>\n",
       "    </tr>\n",
       "  </thead>\n",
       "  <tbody>\n",
       "    <tr>\n",
       "      <th>0</th>\n",
       "      <td>Ag30.8 Ca30.8 Mg23.1 Cu15.4</td>\n",
       "      <td>413.0</td>\n",
       "      <td>432.0</td>\n",
       "      <td>803.0</td>\n",
       "      <td>2.5</td>\n",
       "      <td>NaN</td>\n",
       "      <td>NaN</td>\n",
       "      <td>NaN</td>\n",
       "      <td>30.8</td>\n",
       "      <td>NaN</td>\n",
       "      <td>...</td>\n",
       "      <td>NaN</td>\n",
       "      <td>NaN</td>\n",
       "      <td>NaN</td>\n",
       "      <td>NaN</td>\n",
       "      <td>NaN</td>\n",
       "      <td>NaN</td>\n",
       "      <td>NaN</td>\n",
       "      <td>23.1</td>\n",
       "      <td>NaN</td>\n",
       "      <td>NaN</td>\n",
       "    </tr>\n",
       "    <tr>\n",
       "      <th>1</th>\n",
       "      <td>Ag38.4 Mg30.8 Ca30.8</td>\n",
       "      <td>394.0</td>\n",
       "      <td>426.0</td>\n",
       "      <td>805.0</td>\n",
       "      <td>0.5</td>\n",
       "      <td>NaN</td>\n",
       "      <td>NaN</td>\n",
       "      <td>NaN</td>\n",
       "      <td>30.8</td>\n",
       "      <td>NaN</td>\n",
       "      <td>...</td>\n",
       "      <td>NaN</td>\n",
       "      <td>NaN</td>\n",
       "      <td>NaN</td>\n",
       "      <td>NaN</td>\n",
       "      <td>NaN</td>\n",
       "      <td>NaN</td>\n",
       "      <td>NaN</td>\n",
       "      <td>30.8</td>\n",
       "      <td>NaN</td>\n",
       "      <td>NaN</td>\n",
       "    </tr>\n",
       "    <tr>\n",
       "      <th>2</th>\n",
       "      <td>Ag38.5 Ca30.8 Mg23 Cu7.7</td>\n",
       "      <td>384.0</td>\n",
       "      <td>416.0</td>\n",
       "      <td>854.0</td>\n",
       "      <td>2.0</td>\n",
       "      <td>NaN</td>\n",
       "      <td>NaN</td>\n",
       "      <td>NaN</td>\n",
       "      <td>30.8</td>\n",
       "      <td>NaN</td>\n",
       "      <td>...</td>\n",
       "      <td>NaN</td>\n",
       "      <td>NaN</td>\n",
       "      <td>NaN</td>\n",
       "      <td>NaN</td>\n",
       "      <td>NaN</td>\n",
       "      <td>NaN</td>\n",
       "      <td>NaN</td>\n",
       "      <td>23.0</td>\n",
       "      <td>NaN</td>\n",
       "      <td>NaN</td>\n",
       "    </tr>\n",
       "    <tr>\n",
       "      <th>3</th>\n",
       "      <td>Ag38.5 Mg38.5 Ca15.4 Cu7.7</td>\n",
       "      <td>405.0</td>\n",
       "      <td>436.0</td>\n",
       "      <td>842.0</td>\n",
       "      <td>0.5</td>\n",
       "      <td>NaN</td>\n",
       "      <td>NaN</td>\n",
       "      <td>NaN</td>\n",
       "      <td>15.4</td>\n",
       "      <td>NaN</td>\n",
       "      <td>...</td>\n",
       "      <td>NaN</td>\n",
       "      <td>NaN</td>\n",
       "      <td>NaN</td>\n",
       "      <td>NaN</td>\n",
       "      <td>NaN</td>\n",
       "      <td>NaN</td>\n",
       "      <td>NaN</td>\n",
       "      <td>38.5</td>\n",
       "      <td>NaN</td>\n",
       "      <td>NaN</td>\n",
       "    </tr>\n",
       "    <tr>\n",
       "      <th>4</th>\n",
       "      <td>Ag46.2 Ca30.7 Mg23.1</td>\n",
       "      <td>399.0</td>\n",
       "      <td>426.0</td>\n",
       "      <td>765.0</td>\n",
       "      <td>0.7</td>\n",
       "      <td>NaN</td>\n",
       "      <td>NaN</td>\n",
       "      <td>NaN</td>\n",
       "      <td>30.7</td>\n",
       "      <td>NaN</td>\n",
       "      <td>...</td>\n",
       "      <td>NaN</td>\n",
       "      <td>NaN</td>\n",
       "      <td>NaN</td>\n",
       "      <td>NaN</td>\n",
       "      <td>NaN</td>\n",
       "      <td>NaN</td>\n",
       "      <td>NaN</td>\n",
       "      <td>23.1</td>\n",
       "      <td>NaN</td>\n",
       "      <td>NaN</td>\n",
       "    </tr>\n",
       "  </tbody>\n",
       "</table>\n",
       "<p>5 rows × 52 columns</p>\n",
       "</div>"
      ],
      "text/plain": [
       "           Alloys (compostion)  Tg(K)  Tx(K)  Tl(K)  Dmax (mm)  Hf  MoB  Zr  \\\n",
       "0  Ag30.8 Ca30.8 Mg23.1 Cu15.4  413.0  432.0  803.0        2.5 NaN  NaN NaN   \n",
       "1         Ag38.4 Mg30.8 Ca30.8  394.0  426.0  805.0        0.5 NaN  NaN NaN   \n",
       "2     Ag38.5 Ca30.8 Mg23 Cu7.7  384.0  416.0  854.0        2.0 NaN  NaN NaN   \n",
       "3   Ag38.5 Mg38.5 Ca15.4 Cu7.7  405.0  436.0  842.0        0.5 NaN  NaN NaN   \n",
       "4         Ag46.2 Ca30.7 Mg23.1  399.0  426.0  765.0        0.7 NaN  NaN NaN   \n",
       "\n",
       "     Ca  Pd  ...  Al  Cr  Mm  Gd  Mn  Ce   P    Mg   W  Tb  \n",
       "0  30.8 NaN  ... NaN NaN NaN NaN NaN NaN NaN  23.1 NaN NaN  \n",
       "1  30.8 NaN  ... NaN NaN NaN NaN NaN NaN NaN  30.8 NaN NaN  \n",
       "2  30.8 NaN  ... NaN NaN NaN NaN NaN NaN NaN  23.0 NaN NaN  \n",
       "3  15.4 NaN  ... NaN NaN NaN NaN NaN NaN NaN  38.5 NaN NaN  \n",
       "4  30.7 NaN  ... NaN NaN NaN NaN NaN NaN NaN  23.1 NaN NaN  \n",
       "\n",
       "[5 rows x 52 columns]"
      ]
     },
     "execution_count": 13,
     "metadata": {},
     "output_type": "execute_result"
    }
   ],
   "source": [
    "df.head()"
   ]
  },
  {
   "cell_type": "code",
   "execution_count": 14,
   "id": "6c52512d-01f4-42da-865f-c9823b7028a3",
   "metadata": {},
   "outputs": [],
   "source": [
    "df.to_excel('output2.xlsx', index=False)"
   ]
  },
  {
   "cell_type": "code",
   "execution_count": 15,
   "id": "71cdbbc5-7a5a-472d-bb80-4d68f3445594",
   "metadata": {},
   "outputs": [
    {
     "data": {
      "text/plain": [
       "Index(['Alloys (compostion)', 'Tg(K)', 'Tx(K)', 'Tl(K)', 'Dmax (mm)', 'Hf',\n",
       "       'MoB', 'Zr', 'Ca', 'Pd', 'Nb', 'Mo', 'Er', 'Au', 'Ho', 'Ga', 'Be', 'Sm',\n",
       "       'Pr', 'Tm', 'S', 'In', 'Sn', 'V', 'C', 'L', 'Cu', 'Ag', 'B', 'Dy', 'Y',\n",
       "       'Si', 'Nd', 'La', 'Sc', 'Co', 'd', 'Ta', 'Ni', 'Zn', 'Fe', 'Ti', 'Al',\n",
       "       'Cr', 'Mm', 'Gd', 'Mn', 'Ce', 'P', 'Mg', 'W', 'Tb'],\n",
       "      dtype='object')"
      ]
     },
     "execution_count": 15,
     "metadata": {},
     "output_type": "execute_result"
    }
   ],
   "source": [
    "df.columns"
   ]
  },
  {
   "cell_type": "code",
   "execution_count": 16,
   "id": "07c67d40-c2c1-466f-a50a-6d9c53ffbc3c",
   "metadata": {},
   "outputs": [],
   "source": [
    "import pandas as pd\n",
    "newdata = pd.read_excel(\"/Users/chawkibhd/Downloads/projetDM/output2.xlsx\")"
   ]
  },
  {
   "cell_type": "code",
   "execution_count": 17,
   "id": "3d18b223-03bb-4888-82f7-480c5b13bf52",
   "metadata": {},
   "outputs": [
    {
     "ename": "KeyError",
     "evalue": "\"['Alloys (compostion)'] not found in axis\"",
     "output_type": "error",
     "traceback": [
      "\u001b[0;31m---------------------------------------------------------------------------\u001b[0m",
      "\u001b[0;31mKeyError\u001b[0m                                  Traceback (most recent call last)",
      "Cell \u001b[0;32mIn[17], line 1\u001b[0m\n\u001b[0;32m----> 1\u001b[0m newdata \u001b[38;5;241m=\u001b[39m \u001b[43mnewdata\u001b[49m\u001b[38;5;241;43m.\u001b[39;49m\u001b[43mdrop\u001b[49m\u001b[43m(\u001b[49m\u001b[43mcolumns\u001b[49m\u001b[38;5;241;43m=\u001b[39;49m\u001b[43m[\u001b[49m\u001b[38;5;124;43m'\u001b[39;49m\u001b[38;5;124;43mAlloys (compostion)\u001b[39;49m\u001b[38;5;124;43m'\u001b[39;49m\u001b[43m]\u001b[49m\u001b[43m)\u001b[49m\n",
      "File \u001b[0;32m/Library/Frameworks/Python.framework/Versions/3.12/lib/python3.12/site-packages/pandas/core/frame.py:5344\u001b[0m, in \u001b[0;36mDataFrame.drop\u001b[0;34m(self, labels, axis, index, columns, level, inplace, errors)\u001b[0m\n\u001b[1;32m   5196\u001b[0m \u001b[38;5;28;01mdef\u001b[39;00m \u001b[38;5;21mdrop\u001b[39m(\n\u001b[1;32m   5197\u001b[0m     \u001b[38;5;28mself\u001b[39m,\n\u001b[1;32m   5198\u001b[0m     labels: IndexLabel \u001b[38;5;241m|\u001b[39m \u001b[38;5;28;01mNone\u001b[39;00m \u001b[38;5;241m=\u001b[39m \u001b[38;5;28;01mNone\u001b[39;00m,\n\u001b[0;32m   (...)\u001b[0m\n\u001b[1;32m   5205\u001b[0m     errors: IgnoreRaise \u001b[38;5;241m=\u001b[39m \u001b[38;5;124m\"\u001b[39m\u001b[38;5;124mraise\u001b[39m\u001b[38;5;124m\"\u001b[39m,\n\u001b[1;32m   5206\u001b[0m ) \u001b[38;5;241m-\u001b[39m\u001b[38;5;241m>\u001b[39m DataFrame \u001b[38;5;241m|\u001b[39m \u001b[38;5;28;01mNone\u001b[39;00m:\n\u001b[1;32m   5207\u001b[0m \u001b[38;5;250m    \u001b[39m\u001b[38;5;124;03m\"\"\"\u001b[39;00m\n\u001b[1;32m   5208\u001b[0m \u001b[38;5;124;03m    Drop specified labels from rows or columns.\u001b[39;00m\n\u001b[1;32m   5209\u001b[0m \n\u001b[0;32m   (...)\u001b[0m\n\u001b[1;32m   5342\u001b[0m \u001b[38;5;124;03m            weight  1.0     0.8\u001b[39;00m\n\u001b[1;32m   5343\u001b[0m \u001b[38;5;124;03m    \"\"\"\u001b[39;00m\n\u001b[0;32m-> 5344\u001b[0m     \u001b[38;5;28;01mreturn\u001b[39;00m \u001b[38;5;28;43msuper\u001b[39;49m\u001b[43m(\u001b[49m\u001b[43m)\u001b[49m\u001b[38;5;241;43m.\u001b[39;49m\u001b[43mdrop\u001b[49m\u001b[43m(\u001b[49m\n\u001b[1;32m   5345\u001b[0m \u001b[43m        \u001b[49m\u001b[43mlabels\u001b[49m\u001b[38;5;241;43m=\u001b[39;49m\u001b[43mlabels\u001b[49m\u001b[43m,\u001b[49m\n\u001b[1;32m   5346\u001b[0m \u001b[43m        \u001b[49m\u001b[43maxis\u001b[49m\u001b[38;5;241;43m=\u001b[39;49m\u001b[43maxis\u001b[49m\u001b[43m,\u001b[49m\n\u001b[1;32m   5347\u001b[0m \u001b[43m        \u001b[49m\u001b[43mindex\u001b[49m\u001b[38;5;241;43m=\u001b[39;49m\u001b[43mindex\u001b[49m\u001b[43m,\u001b[49m\n\u001b[1;32m   5348\u001b[0m \u001b[43m        \u001b[49m\u001b[43mcolumns\u001b[49m\u001b[38;5;241;43m=\u001b[39;49m\u001b[43mcolumns\u001b[49m\u001b[43m,\u001b[49m\n\u001b[1;32m   5349\u001b[0m \u001b[43m        \u001b[49m\u001b[43mlevel\u001b[49m\u001b[38;5;241;43m=\u001b[39;49m\u001b[43mlevel\u001b[49m\u001b[43m,\u001b[49m\n\u001b[1;32m   5350\u001b[0m \u001b[43m        \u001b[49m\u001b[43minplace\u001b[49m\u001b[38;5;241;43m=\u001b[39;49m\u001b[43minplace\u001b[49m\u001b[43m,\u001b[49m\n\u001b[1;32m   5351\u001b[0m \u001b[43m        \u001b[49m\u001b[43merrors\u001b[49m\u001b[38;5;241;43m=\u001b[39;49m\u001b[43merrors\u001b[49m\u001b[43m,\u001b[49m\n\u001b[1;32m   5352\u001b[0m \u001b[43m    \u001b[49m\u001b[43m)\u001b[49m\n",
      "File \u001b[0;32m/Library/Frameworks/Python.framework/Versions/3.12/lib/python3.12/site-packages/pandas/core/generic.py:4711\u001b[0m, in \u001b[0;36mNDFrame.drop\u001b[0;34m(self, labels, axis, index, columns, level, inplace, errors)\u001b[0m\n\u001b[1;32m   4709\u001b[0m \u001b[38;5;28;01mfor\u001b[39;00m axis, labels \u001b[38;5;129;01min\u001b[39;00m axes\u001b[38;5;241m.\u001b[39mitems():\n\u001b[1;32m   4710\u001b[0m     \u001b[38;5;28;01mif\u001b[39;00m labels \u001b[38;5;129;01mis\u001b[39;00m \u001b[38;5;129;01mnot\u001b[39;00m \u001b[38;5;28;01mNone\u001b[39;00m:\n\u001b[0;32m-> 4711\u001b[0m         obj \u001b[38;5;241m=\u001b[39m \u001b[43mobj\u001b[49m\u001b[38;5;241;43m.\u001b[39;49m\u001b[43m_drop_axis\u001b[49m\u001b[43m(\u001b[49m\u001b[43mlabels\u001b[49m\u001b[43m,\u001b[49m\u001b[43m \u001b[49m\u001b[43maxis\u001b[49m\u001b[43m,\u001b[49m\u001b[43m \u001b[49m\u001b[43mlevel\u001b[49m\u001b[38;5;241;43m=\u001b[39;49m\u001b[43mlevel\u001b[49m\u001b[43m,\u001b[49m\u001b[43m \u001b[49m\u001b[43merrors\u001b[49m\u001b[38;5;241;43m=\u001b[39;49m\u001b[43merrors\u001b[49m\u001b[43m)\u001b[49m\n\u001b[1;32m   4713\u001b[0m \u001b[38;5;28;01mif\u001b[39;00m inplace:\n\u001b[1;32m   4714\u001b[0m     \u001b[38;5;28mself\u001b[39m\u001b[38;5;241m.\u001b[39m_update_inplace(obj)\n",
      "File \u001b[0;32m/Library/Frameworks/Python.framework/Versions/3.12/lib/python3.12/site-packages/pandas/core/generic.py:4753\u001b[0m, in \u001b[0;36mNDFrame._drop_axis\u001b[0;34m(self, labels, axis, level, errors, only_slice)\u001b[0m\n\u001b[1;32m   4751\u001b[0m         new_axis \u001b[38;5;241m=\u001b[39m axis\u001b[38;5;241m.\u001b[39mdrop(labels, level\u001b[38;5;241m=\u001b[39mlevel, errors\u001b[38;5;241m=\u001b[39merrors)\n\u001b[1;32m   4752\u001b[0m     \u001b[38;5;28;01melse\u001b[39;00m:\n\u001b[0;32m-> 4753\u001b[0m         new_axis \u001b[38;5;241m=\u001b[39m \u001b[43maxis\u001b[49m\u001b[38;5;241;43m.\u001b[39;49m\u001b[43mdrop\u001b[49m\u001b[43m(\u001b[49m\u001b[43mlabels\u001b[49m\u001b[43m,\u001b[49m\u001b[43m \u001b[49m\u001b[43merrors\u001b[49m\u001b[38;5;241;43m=\u001b[39;49m\u001b[43merrors\u001b[49m\u001b[43m)\u001b[49m\n\u001b[1;32m   4754\u001b[0m     indexer \u001b[38;5;241m=\u001b[39m axis\u001b[38;5;241m.\u001b[39mget_indexer(new_axis)\n\u001b[1;32m   4756\u001b[0m \u001b[38;5;66;03m# Case for non-unique axis\u001b[39;00m\n\u001b[1;32m   4757\u001b[0m \u001b[38;5;28;01melse\u001b[39;00m:\n",
      "File \u001b[0;32m/Library/Frameworks/Python.framework/Versions/3.12/lib/python3.12/site-packages/pandas/core/indexes/base.py:6992\u001b[0m, in \u001b[0;36mIndex.drop\u001b[0;34m(self, labels, errors)\u001b[0m\n\u001b[1;32m   6990\u001b[0m \u001b[38;5;28;01mif\u001b[39;00m mask\u001b[38;5;241m.\u001b[39many():\n\u001b[1;32m   6991\u001b[0m     \u001b[38;5;28;01mif\u001b[39;00m errors \u001b[38;5;241m!=\u001b[39m \u001b[38;5;124m\"\u001b[39m\u001b[38;5;124mignore\u001b[39m\u001b[38;5;124m\"\u001b[39m:\n\u001b[0;32m-> 6992\u001b[0m         \u001b[38;5;28;01mraise\u001b[39;00m \u001b[38;5;167;01mKeyError\u001b[39;00m(\u001b[38;5;124mf\u001b[39m\u001b[38;5;124m\"\u001b[39m\u001b[38;5;132;01m{\u001b[39;00mlabels[mask]\u001b[38;5;241m.\u001b[39mtolist()\u001b[38;5;132;01m}\u001b[39;00m\u001b[38;5;124m not found in axis\u001b[39m\u001b[38;5;124m\"\u001b[39m)\n\u001b[1;32m   6993\u001b[0m     indexer \u001b[38;5;241m=\u001b[39m indexer[\u001b[38;5;241m~\u001b[39mmask]\n\u001b[1;32m   6994\u001b[0m \u001b[38;5;28;01mreturn\u001b[39;00m \u001b[38;5;28mself\u001b[39m\u001b[38;5;241m.\u001b[39mdelete(indexer)\n",
      "\u001b[0;31mKeyError\u001b[0m: \"['Alloys (compostion)'] not found in axis\""
     ]
    }
   ],
   "source": [
    "newdata = newdata.drop(columns=['Alloys (compostion)'])"
   ]
  },
  {
   "cell_type": "code",
   "execution_count": 18,
   "id": "d19777c7-2fe1-42bb-b947-e0ef2fb9e6f7",
   "metadata": {},
   "outputs": [],
   "source": [
    "newdata.to_excel(\"/Users/chawkibhd/Downloads/projetDM/output2.xlsx\", index=False)"
   ]
  },
  {
   "cell_type": "code",
   "execution_count": 19,
   "id": "a31283fb-feea-4ed0-8743-186b50986eb5",
   "metadata": {},
   "outputs": [
    {
     "data": {
      "text/html": [
       "<div>\n",
       "<style scoped>\n",
       "    .dataframe tbody tr th:only-of-type {\n",
       "        vertical-align: middle;\n",
       "    }\n",
       "\n",
       "    .dataframe tbody tr th {\n",
       "        vertical-align: top;\n",
       "    }\n",
       "\n",
       "    .dataframe thead th {\n",
       "        text-align: right;\n",
       "    }\n",
       "</style>\n",
       "<table border=\"1\" class=\"dataframe\">\n",
       "  <thead>\n",
       "    <tr style=\"text-align: right;\">\n",
       "      <th></th>\n",
       "      <th>Tg(K)</th>\n",
       "      <th>Tx(K)</th>\n",
       "      <th>Tl(K)</th>\n",
       "      <th>Dmax (mm)</th>\n",
       "      <th>Zr</th>\n",
       "      <th>W</th>\n",
       "      <th>Ca</th>\n",
       "      <th>Y</th>\n",
       "      <th>Nb</th>\n",
       "      <th>S</th>\n",
       "      <th>...</th>\n",
       "      <th>Ce</th>\n",
       "      <th>Tb</th>\n",
       "      <th>Al</th>\n",
       "      <th>Cu</th>\n",
       "      <th>Tm</th>\n",
       "      <th>Fe</th>\n",
       "      <th>Ag</th>\n",
       "      <th>Ta</th>\n",
       "      <th>Ga</th>\n",
       "      <th>cluster</th>\n",
       "    </tr>\n",
       "  </thead>\n",
       "  <tbody>\n",
       "    <tr>\n",
       "      <th>0</th>\n",
       "      <td>413.0</td>\n",
       "      <td>432.0</td>\n",
       "      <td>803.0</td>\n",
       "      <td>2.5</td>\n",
       "      <td>0.0</td>\n",
       "      <td>0</td>\n",
       "      <td>30.8</td>\n",
       "      <td>0.0</td>\n",
       "      <td>0.0</td>\n",
       "      <td>0</td>\n",
       "      <td>...</td>\n",
       "      <td>0.0</td>\n",
       "      <td>0.0</td>\n",
       "      <td>0.0</td>\n",
       "      <td>15.4</td>\n",
       "      <td>0.0</td>\n",
       "      <td>0.0</td>\n",
       "      <td>30.8</td>\n",
       "      <td>0.0</td>\n",
       "      <td>0.0</td>\n",
       "      <td>1</td>\n",
       "    </tr>\n",
       "    <tr>\n",
       "      <th>1</th>\n",
       "      <td>394.0</td>\n",
       "      <td>426.0</td>\n",
       "      <td>805.0</td>\n",
       "      <td>0.5</td>\n",
       "      <td>0.0</td>\n",
       "      <td>0</td>\n",
       "      <td>30.8</td>\n",
       "      <td>0.0</td>\n",
       "      <td>0.0</td>\n",
       "      <td>0</td>\n",
       "      <td>...</td>\n",
       "      <td>0.0</td>\n",
       "      <td>0.0</td>\n",
       "      <td>0.0</td>\n",
       "      <td>0.0</td>\n",
       "      <td>0.0</td>\n",
       "      <td>0.0</td>\n",
       "      <td>38.4</td>\n",
       "      <td>0.0</td>\n",
       "      <td>0.0</td>\n",
       "      <td>1</td>\n",
       "    </tr>\n",
       "    <tr>\n",
       "      <th>2</th>\n",
       "      <td>384.0</td>\n",
       "      <td>416.0</td>\n",
       "      <td>854.0</td>\n",
       "      <td>2.0</td>\n",
       "      <td>0.0</td>\n",
       "      <td>0</td>\n",
       "      <td>30.8</td>\n",
       "      <td>0.0</td>\n",
       "      <td>0.0</td>\n",
       "      <td>0</td>\n",
       "      <td>...</td>\n",
       "      <td>0.0</td>\n",
       "      <td>0.0</td>\n",
       "      <td>0.0</td>\n",
       "      <td>7.7</td>\n",
       "      <td>0.0</td>\n",
       "      <td>0.0</td>\n",
       "      <td>38.5</td>\n",
       "      <td>0.0</td>\n",
       "      <td>0.0</td>\n",
       "      <td>1</td>\n",
       "    </tr>\n",
       "    <tr>\n",
       "      <th>3</th>\n",
       "      <td>405.0</td>\n",
       "      <td>436.0</td>\n",
       "      <td>842.0</td>\n",
       "      <td>0.5</td>\n",
       "      <td>0.0</td>\n",
       "      <td>0</td>\n",
       "      <td>15.4</td>\n",
       "      <td>0.0</td>\n",
       "      <td>0.0</td>\n",
       "      <td>0</td>\n",
       "      <td>...</td>\n",
       "      <td>0.0</td>\n",
       "      <td>0.0</td>\n",
       "      <td>0.0</td>\n",
       "      <td>7.7</td>\n",
       "      <td>0.0</td>\n",
       "      <td>0.0</td>\n",
       "      <td>38.5</td>\n",
       "      <td>0.0</td>\n",
       "      <td>0.0</td>\n",
       "      <td>1</td>\n",
       "    </tr>\n",
       "    <tr>\n",
       "      <th>4</th>\n",
       "      <td>399.0</td>\n",
       "      <td>426.0</td>\n",
       "      <td>765.0</td>\n",
       "      <td>0.7</td>\n",
       "      <td>0.0</td>\n",
       "      <td>0</td>\n",
       "      <td>30.7</td>\n",
       "      <td>0.0</td>\n",
       "      <td>0.0</td>\n",
       "      <td>0</td>\n",
       "      <td>...</td>\n",
       "      <td>0.0</td>\n",
       "      <td>0.0</td>\n",
       "      <td>0.0</td>\n",
       "      <td>0.0</td>\n",
       "      <td>0.0</td>\n",
       "      <td>0.0</td>\n",
       "      <td>46.2</td>\n",
       "      <td>0.0</td>\n",
       "      <td>0.0</td>\n",
       "      <td>1</td>\n",
       "    </tr>\n",
       "  </tbody>\n",
       "</table>\n",
       "<p>5 rows × 50 columns</p>\n",
       "</div>"
      ],
      "text/plain": [
       "   Tg(K)  Tx(K)  Tl(K)  Dmax (mm)   Zr  W    Ca    Y   Nb  S  ...   Ce   Tb  \\\n",
       "0  413.0  432.0  803.0        2.5  0.0  0  30.8  0.0  0.0  0  ...  0.0  0.0   \n",
       "1  394.0  426.0  805.0        0.5  0.0  0  30.8  0.0  0.0  0  ...  0.0  0.0   \n",
       "2  384.0  416.0  854.0        2.0  0.0  0  30.8  0.0  0.0  0  ...  0.0  0.0   \n",
       "3  405.0  436.0  842.0        0.5  0.0  0  15.4  0.0  0.0  0  ...  0.0  0.0   \n",
       "4  399.0  426.0  765.0        0.7  0.0  0  30.7  0.0  0.0  0  ...  0.0  0.0   \n",
       "\n",
       "    Al    Cu   Tm   Fe    Ag   Ta   Ga  cluster  \n",
       "0  0.0  15.4  0.0  0.0  30.8  0.0  0.0        1  \n",
       "1  0.0   0.0  0.0  0.0  38.4  0.0  0.0        1  \n",
       "2  0.0   7.7  0.0  0.0  38.5  0.0  0.0        1  \n",
       "3  0.0   7.7  0.0  0.0  38.5  0.0  0.0        1  \n",
       "4  0.0   0.0  0.0  0.0  46.2  0.0  0.0        1  \n",
       "\n",
       "[5 rows x 50 columns]"
      ]
     },
     "execution_count": 19,
     "metadata": {},
     "output_type": "execute_result"
    }
   ],
   "source": [
    "newdata.head()"
   ]
  },
  {
   "cell_type": "code",
   "execution_count": 20,
   "id": "17ff723f-b776-41c4-b16c-ca44bad43861",
   "metadata": {},
   "outputs": [
    {
     "name": "stdout",
     "output_type": "stream",
     "text": [
      "<class 'pandas.core.frame.DataFrame'>\n",
      "RangeIndex: 699 entries, 0 to 698\n",
      "Data columns (total 50 columns):\n",
      " #   Column     Non-Null Count  Dtype  \n",
      "---  ------     --------------  -----  \n",
      " 0   Tg(K)      699 non-null    float64\n",
      " 1   Tx(K)      699 non-null    float64\n",
      " 2   Tl(K)      699 non-null    float64\n",
      " 3   Dmax (mm)  699 non-null    float64\n",
      " 4   Zr         699 non-null    float64\n",
      " 5   W          699 non-null    int64  \n",
      " 6   Ca         699 non-null    float64\n",
      " 7   Y          699 non-null    float64\n",
      " 8   Nb         699 non-null    float64\n",
      " 9   S          699 non-null    int64  \n",
      " 10  Si         699 non-null    float64\n",
      " 11  Zn         699 non-null    float64\n",
      " 12  Be         699 non-null    float64\n",
      " 13  Pr         699 non-null    int64  \n",
      " 14  Sc         699 non-null    int64  \n",
      " 15  Co         699 non-null    float64\n",
      " 16  Gd         699 non-null    float64\n",
      " 17  Sm         699 non-null    int64  \n",
      " 18  d          699 non-null    int64  \n",
      " 19  Ti         699 non-null    float64\n",
      " 20  P          699 non-null    float64\n",
      " 21  Mg         699 non-null    float64\n",
      " 22  V          699 non-null    float64\n",
      " 23  Cr         699 non-null    float64\n",
      " 24  B          699 non-null    float64\n",
      " 25  Dy         699 non-null    int64  \n",
      " 26  Er         699 non-null    float64\n",
      " 27  Ni         699 non-null    float64\n",
      " 28  Hf         699 non-null    float64\n",
      " 29  Mo         699 non-null    float64\n",
      " 30  Nd         699 non-null    float64\n",
      " 31  Au         699 non-null    int64  \n",
      " 32  Sn         699 non-null    float64\n",
      " 33  Ho         699 non-null    float64\n",
      " 34  Mn         699 non-null    int64  \n",
      " 35  Mm         699 non-null    float64\n",
      " 36  C          699 non-null    float64\n",
      " 37  In         699 non-null    int64  \n",
      " 38  La         699 non-null    float64\n",
      " 39  Pd         699 non-null    float64\n",
      " 40  Ce         699 non-null    float64\n",
      " 41  Tb         699 non-null    float64\n",
      " 42  Al         699 non-null    float64\n",
      " 43  Cu         699 non-null    float64\n",
      " 44  Tm         699 non-null    float64\n",
      " 45  Fe         699 non-null    float64\n",
      " 46  Ag         699 non-null    float64\n",
      " 47  Ta         699 non-null    float64\n",
      " 48  Ga         699 non-null    float64\n",
      " 49  cluster    699 non-null    int64  \n",
      "dtypes: float64(39), int64(11)\n",
      "memory usage: 273.2 KB\n"
     ]
    }
   ],
   "source": [
    "newdata.info()"
   ]
  },
  {
   "cell_type": "code",
   "execution_count": 21,
   "id": "5e748c20-d699-4297-a307-82a0025b63f0",
   "metadata": {},
   "outputs": [],
   "source": [
    "newdata.fillna(0, inplace=True)"
   ]
  },
  {
   "cell_type": "code",
   "execution_count": 22,
   "id": "e15a6f75-a1cd-4d56-82d8-29e73a7d343a",
   "metadata": {},
   "outputs": [
    {
     "ename": "KeyError",
     "evalue": "\"['L', 'MoB'] not in index\"",
     "output_type": "error",
     "traceback": [
      "\u001b[0;31m---------------------------------------------------------------------------\u001b[0m",
      "\u001b[0;31mKeyError\u001b[0m                                  Traceback (most recent call last)",
      "Cell \u001b[0;32mIn[22], line 5\u001b[0m\n\u001b[1;32m      1\u001b[0m colonnes_a_verifier \u001b[38;5;241m=\u001b[39m [\u001b[38;5;124m'\u001b[39m\u001b[38;5;124mAg\u001b[39m\u001b[38;5;124m'\u001b[39m, \u001b[38;5;124m'\u001b[39m\u001b[38;5;124mAl\u001b[39m\u001b[38;5;124m'\u001b[39m, \u001b[38;5;124m'\u001b[39m\u001b[38;5;124mAu\u001b[39m\u001b[38;5;124m'\u001b[39m, \u001b[38;5;124m'\u001b[39m\u001b[38;5;124mB\u001b[39m\u001b[38;5;124m'\u001b[39m, \u001b[38;5;124m'\u001b[39m\u001b[38;5;124mBe\u001b[39m\u001b[38;5;124m'\u001b[39m, \u001b[38;5;124m'\u001b[39m\u001b[38;5;124mC\u001b[39m\u001b[38;5;124m'\u001b[39m, \u001b[38;5;124m'\u001b[39m\u001b[38;5;124mCa\u001b[39m\u001b[38;5;124m'\u001b[39m, \u001b[38;5;124m'\u001b[39m\u001b[38;5;124mCe\u001b[39m\u001b[38;5;124m'\u001b[39m, \u001b[38;5;124m'\u001b[39m\u001b[38;5;124mCo\u001b[39m\u001b[38;5;124m'\u001b[39m, \u001b[38;5;124m'\u001b[39m\u001b[38;5;124mCr\u001b[39m\u001b[38;5;124m'\u001b[39m, \u001b[38;5;124m'\u001b[39m\u001b[38;5;124mCu\u001b[39m\u001b[38;5;124m'\u001b[39m, \u001b[38;5;124m'\u001b[39m\u001b[38;5;124mDy\u001b[39m\u001b[38;5;124m'\u001b[39m, \u001b[38;5;124m'\u001b[39m\u001b[38;5;124mEr\u001b[39m\u001b[38;5;124m'\u001b[39m, \n\u001b[1;32m      2\u001b[0m                        \u001b[38;5;124m'\u001b[39m\u001b[38;5;124mFe\u001b[39m\u001b[38;5;124m'\u001b[39m, \u001b[38;5;124m'\u001b[39m\u001b[38;5;124mGa\u001b[39m\u001b[38;5;124m'\u001b[39m, \u001b[38;5;124m'\u001b[39m\u001b[38;5;124mGd\u001b[39m\u001b[38;5;124m'\u001b[39m, \u001b[38;5;124m'\u001b[39m\u001b[38;5;124mHf\u001b[39m\u001b[38;5;124m'\u001b[39m, \u001b[38;5;124m'\u001b[39m\u001b[38;5;124mHo\u001b[39m\u001b[38;5;124m'\u001b[39m, \u001b[38;5;124m'\u001b[39m\u001b[38;5;124mIn\u001b[39m\u001b[38;5;124m'\u001b[39m, \u001b[38;5;124m'\u001b[39m\u001b[38;5;124mL\u001b[39m\u001b[38;5;124m'\u001b[39m, \u001b[38;5;124m'\u001b[39m\u001b[38;5;124mLa\u001b[39m\u001b[38;5;124m'\u001b[39m, \u001b[38;5;124m'\u001b[39m\u001b[38;5;124mMg\u001b[39m\u001b[38;5;124m'\u001b[39m, \u001b[38;5;124m'\u001b[39m\u001b[38;5;124mMm\u001b[39m\u001b[38;5;124m'\u001b[39m, \u001b[38;5;124m'\u001b[39m\u001b[38;5;124mMn\u001b[39m\u001b[38;5;124m'\u001b[39m, \u001b[38;5;124m'\u001b[39m\u001b[38;5;124mMo\u001b[39m\u001b[38;5;124m'\u001b[39m, \n\u001b[1;32m      3\u001b[0m                        \u001b[38;5;124m'\u001b[39m\u001b[38;5;124mMoB\u001b[39m\u001b[38;5;124m'\u001b[39m, \u001b[38;5;124m'\u001b[39m\u001b[38;5;124mNb\u001b[39m\u001b[38;5;124m'\u001b[39m, \u001b[38;5;124m'\u001b[39m\u001b[38;5;124mNd\u001b[39m\u001b[38;5;124m'\u001b[39m, \u001b[38;5;124m'\u001b[39m\u001b[38;5;124mNi\u001b[39m\u001b[38;5;124m'\u001b[39m, \u001b[38;5;124m'\u001b[39m\u001b[38;5;124mP\u001b[39m\u001b[38;5;124m'\u001b[39m, \u001b[38;5;124m'\u001b[39m\u001b[38;5;124mPd\u001b[39m\u001b[38;5;124m'\u001b[39m, \u001b[38;5;124m'\u001b[39m\u001b[38;5;124mPr\u001b[39m\u001b[38;5;124m'\u001b[39m, \u001b[38;5;124m'\u001b[39m\u001b[38;5;124mS\u001b[39m\u001b[38;5;124m'\u001b[39m, \u001b[38;5;124m'\u001b[39m\u001b[38;5;124mSc\u001b[39m\u001b[38;5;124m'\u001b[39m, \u001b[38;5;124m'\u001b[39m\u001b[38;5;124mSi\u001b[39m\u001b[38;5;124m'\u001b[39m, \u001b[38;5;124m'\u001b[39m\u001b[38;5;124mSm\u001b[39m\u001b[38;5;124m'\u001b[39m, \u001b[38;5;124m'\u001b[39m\u001b[38;5;124mSn\u001b[39m\u001b[38;5;124m'\u001b[39m, \n\u001b[1;32m      4\u001b[0m                        \u001b[38;5;124m'\u001b[39m\u001b[38;5;124mTa\u001b[39m\u001b[38;5;124m'\u001b[39m, \u001b[38;5;124m'\u001b[39m\u001b[38;5;124mTb\u001b[39m\u001b[38;5;124m'\u001b[39m, \u001b[38;5;124m'\u001b[39m\u001b[38;5;124mTi\u001b[39m\u001b[38;5;124m'\u001b[39m, \u001b[38;5;124m'\u001b[39m\u001b[38;5;124mTm\u001b[39m\u001b[38;5;124m'\u001b[39m, \u001b[38;5;124m'\u001b[39m\u001b[38;5;124mV\u001b[39m\u001b[38;5;124m'\u001b[39m, \u001b[38;5;124m'\u001b[39m\u001b[38;5;124mW\u001b[39m\u001b[38;5;124m'\u001b[39m, \u001b[38;5;124m'\u001b[39m\u001b[38;5;124mY\u001b[39m\u001b[38;5;124m'\u001b[39m, \u001b[38;5;124m'\u001b[39m\u001b[38;5;124mZn\u001b[39m\u001b[38;5;124m'\u001b[39m, \u001b[38;5;124m'\u001b[39m\u001b[38;5;124mZr\u001b[39m\u001b[38;5;124m'\u001b[39m, \u001b[38;5;124m'\u001b[39m\u001b[38;5;124md\u001b[39m\u001b[38;5;124m'\u001b[39m]\n\u001b[0;32m----> 5\u001b[0m newdata \u001b[38;5;241m=\u001b[39m newdata[(\u001b[43mnewdata\u001b[49m\u001b[43m[\u001b[49m\u001b[43mcolonnes_a_verifier\u001b[49m\u001b[43m]\u001b[49m \u001b[38;5;241m<\u001b[39m\u001b[38;5;241m=\u001b[39m \u001b[38;5;241m100\u001b[39m)\u001b[38;5;241m.\u001b[39mall(axis\u001b[38;5;241m=\u001b[39m\u001b[38;5;241m1\u001b[39m)]\n",
      "File \u001b[0;32m/Library/Frameworks/Python.framework/Versions/3.12/lib/python3.12/site-packages/pandas/core/frame.py:3899\u001b[0m, in \u001b[0;36mDataFrame.__getitem__\u001b[0;34m(self, key)\u001b[0m\n\u001b[1;32m   3897\u001b[0m     \u001b[38;5;28;01mif\u001b[39;00m is_iterator(key):\n\u001b[1;32m   3898\u001b[0m         key \u001b[38;5;241m=\u001b[39m \u001b[38;5;28mlist\u001b[39m(key)\n\u001b[0;32m-> 3899\u001b[0m     indexer \u001b[38;5;241m=\u001b[39m \u001b[38;5;28;43mself\u001b[39;49m\u001b[38;5;241;43m.\u001b[39;49m\u001b[43mcolumns\u001b[49m\u001b[38;5;241;43m.\u001b[39;49m\u001b[43m_get_indexer_strict\u001b[49m\u001b[43m(\u001b[49m\u001b[43mkey\u001b[49m\u001b[43m,\u001b[49m\u001b[43m \u001b[49m\u001b[38;5;124;43m\"\u001b[39;49m\u001b[38;5;124;43mcolumns\u001b[39;49m\u001b[38;5;124;43m\"\u001b[39;49m\u001b[43m)\u001b[49m[\u001b[38;5;241m1\u001b[39m]\n\u001b[1;32m   3901\u001b[0m \u001b[38;5;66;03m# take() does not accept boolean indexers\u001b[39;00m\n\u001b[1;32m   3902\u001b[0m \u001b[38;5;28;01mif\u001b[39;00m \u001b[38;5;28mgetattr\u001b[39m(indexer, \u001b[38;5;124m\"\u001b[39m\u001b[38;5;124mdtype\u001b[39m\u001b[38;5;124m\"\u001b[39m, \u001b[38;5;28;01mNone\u001b[39;00m) \u001b[38;5;241m==\u001b[39m \u001b[38;5;28mbool\u001b[39m:\n",
      "File \u001b[0;32m/Library/Frameworks/Python.framework/Versions/3.12/lib/python3.12/site-packages/pandas/core/indexes/base.py:6114\u001b[0m, in \u001b[0;36mIndex._get_indexer_strict\u001b[0;34m(self, key, axis_name)\u001b[0m\n\u001b[1;32m   6111\u001b[0m \u001b[38;5;28;01melse\u001b[39;00m:\n\u001b[1;32m   6112\u001b[0m     keyarr, indexer, new_indexer \u001b[38;5;241m=\u001b[39m \u001b[38;5;28mself\u001b[39m\u001b[38;5;241m.\u001b[39m_reindex_non_unique(keyarr)\n\u001b[0;32m-> 6114\u001b[0m \u001b[38;5;28;43mself\u001b[39;49m\u001b[38;5;241;43m.\u001b[39;49m\u001b[43m_raise_if_missing\u001b[49m\u001b[43m(\u001b[49m\u001b[43mkeyarr\u001b[49m\u001b[43m,\u001b[49m\u001b[43m \u001b[49m\u001b[43mindexer\u001b[49m\u001b[43m,\u001b[49m\u001b[43m \u001b[49m\u001b[43maxis_name\u001b[49m\u001b[43m)\u001b[49m\n\u001b[1;32m   6116\u001b[0m keyarr \u001b[38;5;241m=\u001b[39m \u001b[38;5;28mself\u001b[39m\u001b[38;5;241m.\u001b[39mtake(indexer)\n\u001b[1;32m   6117\u001b[0m \u001b[38;5;28;01mif\u001b[39;00m \u001b[38;5;28misinstance\u001b[39m(key, Index):\n\u001b[1;32m   6118\u001b[0m     \u001b[38;5;66;03m# GH 42790 - Preserve name from an Index\u001b[39;00m\n",
      "File \u001b[0;32m/Library/Frameworks/Python.framework/Versions/3.12/lib/python3.12/site-packages/pandas/core/indexes/base.py:6178\u001b[0m, in \u001b[0;36mIndex._raise_if_missing\u001b[0;34m(self, key, indexer, axis_name)\u001b[0m\n\u001b[1;32m   6175\u001b[0m     \u001b[38;5;28;01mraise\u001b[39;00m \u001b[38;5;167;01mKeyError\u001b[39;00m(\u001b[38;5;124mf\u001b[39m\u001b[38;5;124m\"\u001b[39m\u001b[38;5;124mNone of [\u001b[39m\u001b[38;5;132;01m{\u001b[39;00mkey\u001b[38;5;132;01m}\u001b[39;00m\u001b[38;5;124m] are in the [\u001b[39m\u001b[38;5;132;01m{\u001b[39;00maxis_name\u001b[38;5;132;01m}\u001b[39;00m\u001b[38;5;124m]\u001b[39m\u001b[38;5;124m\"\u001b[39m)\n\u001b[1;32m   6177\u001b[0m not_found \u001b[38;5;241m=\u001b[39m \u001b[38;5;28mlist\u001b[39m(ensure_index(key)[missing_mask\u001b[38;5;241m.\u001b[39mnonzero()[\u001b[38;5;241m0\u001b[39m]]\u001b[38;5;241m.\u001b[39munique())\n\u001b[0;32m-> 6178\u001b[0m \u001b[38;5;28;01mraise\u001b[39;00m \u001b[38;5;167;01mKeyError\u001b[39;00m(\u001b[38;5;124mf\u001b[39m\u001b[38;5;124m\"\u001b[39m\u001b[38;5;132;01m{\u001b[39;00mnot_found\u001b[38;5;132;01m}\u001b[39;00m\u001b[38;5;124m not in index\u001b[39m\u001b[38;5;124m\"\u001b[39m)\n",
      "\u001b[0;31mKeyError\u001b[0m: \"['L', 'MoB'] not in index\""
     ]
    }
   ],
   "source": [
    "colonnes_a_verifier = ['Ag', 'Al', 'Au', 'B', 'Be', 'C', 'Ca', 'Ce', 'Co', 'Cr', 'Cu', 'Dy', 'Er', \n",
    "                       'Fe', 'Ga', 'Gd', 'Hf', 'Ho', 'In', 'L', 'La', 'Mg', 'Mm', 'Mn', 'Mo', \n",
    "                       'MoB', 'Nb', 'Nd', 'Ni', 'P', 'Pd', 'Pr', 'S', 'Sc', 'Si', 'Sm', 'Sn', \n",
    "                       'Ta', 'Tb', 'Ti', 'Tm', 'V', 'W', 'Y', 'Zn', 'Zr', 'd']\n",
    "newdata = newdata[(newdata[colonnes_a_verifier] <= 100).all(axis=1)]"
   ]
  },
  {
   "cell_type": "code",
   "execution_count": 23,
   "id": "77a0f9ac-d934-4c56-9f8b-b30118982cca",
   "metadata": {},
   "outputs": [],
   "source": [
    "newdata.to_excel(\"/Users/chawkibhd/Downloads/projetDM/output2.xlsx\", index=False)"
   ]
  },
  {
   "cell_type": "code",
   "execution_count": 24,
   "id": "93082e6f-b61c-4415-a382-0037571f2da3",
   "metadata": {},
   "outputs": [
    {
     "name": "stdout",
     "output_type": "stream",
     "text": [
      "Colonnes qui contiennent uniquement des 0 :\n",
      "[]\n"
     ]
    }
   ],
   "source": [
    "zero = (newdata == 0).all()\n",
    "colonnes_toutes_zero = zero[zero].index.tolist()\n",
    "print(\"Colonnes qui contiennent uniquement des 0 :\")\n",
    "print(colonnes_toutes_zero)"
   ]
  },
  {
   "cell_type": "code",
   "execution_count": 25,
   "id": "974dd922-dd8d-42b3-bca0-9ef87a6a0726",
   "metadata": {},
   "outputs": [
    {
     "ename": "KeyError",
     "evalue": "\"['MoB', 'L'] not found in axis\"",
     "output_type": "error",
     "traceback": [
      "\u001b[0;31m---------------------------------------------------------------------------\u001b[0m",
      "\u001b[0;31mKeyError\u001b[0m                                  Traceback (most recent call last)",
      "Cell \u001b[0;32mIn[25], line 1\u001b[0m\n\u001b[0;32m----> 1\u001b[0m \u001b[43mnewdata\u001b[49m\u001b[38;5;241;43m.\u001b[39;49m\u001b[43mdrop\u001b[49m\u001b[43m(\u001b[49m\u001b[43mcolumns\u001b[49m\u001b[38;5;241;43m=\u001b[39;49m\u001b[43m[\u001b[49m\u001b[38;5;124;43m'\u001b[39;49m\u001b[38;5;124;43mMoB\u001b[39;49m\u001b[38;5;124;43m'\u001b[39;49m\u001b[43m,\u001b[49m\u001b[43m \u001b[49m\u001b[38;5;124;43m'\u001b[39;49m\u001b[38;5;124;43mL\u001b[39;49m\u001b[38;5;124;43m'\u001b[39;49m\u001b[43m]\u001b[49m\u001b[43m,\u001b[49m\u001b[43m \u001b[49m\u001b[43minplace\u001b[49m\u001b[38;5;241;43m=\u001b[39;49m\u001b[38;5;28;43;01mTrue\u001b[39;49;00m\u001b[43m)\u001b[49m\n",
      "File \u001b[0;32m/Library/Frameworks/Python.framework/Versions/3.12/lib/python3.12/site-packages/pandas/core/frame.py:5344\u001b[0m, in \u001b[0;36mDataFrame.drop\u001b[0;34m(self, labels, axis, index, columns, level, inplace, errors)\u001b[0m\n\u001b[1;32m   5196\u001b[0m \u001b[38;5;28;01mdef\u001b[39;00m \u001b[38;5;21mdrop\u001b[39m(\n\u001b[1;32m   5197\u001b[0m     \u001b[38;5;28mself\u001b[39m,\n\u001b[1;32m   5198\u001b[0m     labels: IndexLabel \u001b[38;5;241m|\u001b[39m \u001b[38;5;28;01mNone\u001b[39;00m \u001b[38;5;241m=\u001b[39m \u001b[38;5;28;01mNone\u001b[39;00m,\n\u001b[0;32m   (...)\u001b[0m\n\u001b[1;32m   5205\u001b[0m     errors: IgnoreRaise \u001b[38;5;241m=\u001b[39m \u001b[38;5;124m\"\u001b[39m\u001b[38;5;124mraise\u001b[39m\u001b[38;5;124m\"\u001b[39m,\n\u001b[1;32m   5206\u001b[0m ) \u001b[38;5;241m-\u001b[39m\u001b[38;5;241m>\u001b[39m DataFrame \u001b[38;5;241m|\u001b[39m \u001b[38;5;28;01mNone\u001b[39;00m:\n\u001b[1;32m   5207\u001b[0m \u001b[38;5;250m    \u001b[39m\u001b[38;5;124;03m\"\"\"\u001b[39;00m\n\u001b[1;32m   5208\u001b[0m \u001b[38;5;124;03m    Drop specified labels from rows or columns.\u001b[39;00m\n\u001b[1;32m   5209\u001b[0m \n\u001b[0;32m   (...)\u001b[0m\n\u001b[1;32m   5342\u001b[0m \u001b[38;5;124;03m            weight  1.0     0.8\u001b[39;00m\n\u001b[1;32m   5343\u001b[0m \u001b[38;5;124;03m    \"\"\"\u001b[39;00m\n\u001b[0;32m-> 5344\u001b[0m     \u001b[38;5;28;01mreturn\u001b[39;00m \u001b[38;5;28;43msuper\u001b[39;49m\u001b[43m(\u001b[49m\u001b[43m)\u001b[49m\u001b[38;5;241;43m.\u001b[39;49m\u001b[43mdrop\u001b[49m\u001b[43m(\u001b[49m\n\u001b[1;32m   5345\u001b[0m \u001b[43m        \u001b[49m\u001b[43mlabels\u001b[49m\u001b[38;5;241;43m=\u001b[39;49m\u001b[43mlabels\u001b[49m\u001b[43m,\u001b[49m\n\u001b[1;32m   5346\u001b[0m \u001b[43m        \u001b[49m\u001b[43maxis\u001b[49m\u001b[38;5;241;43m=\u001b[39;49m\u001b[43maxis\u001b[49m\u001b[43m,\u001b[49m\n\u001b[1;32m   5347\u001b[0m \u001b[43m        \u001b[49m\u001b[43mindex\u001b[49m\u001b[38;5;241;43m=\u001b[39;49m\u001b[43mindex\u001b[49m\u001b[43m,\u001b[49m\n\u001b[1;32m   5348\u001b[0m \u001b[43m        \u001b[49m\u001b[43mcolumns\u001b[49m\u001b[38;5;241;43m=\u001b[39;49m\u001b[43mcolumns\u001b[49m\u001b[43m,\u001b[49m\n\u001b[1;32m   5349\u001b[0m \u001b[43m        \u001b[49m\u001b[43mlevel\u001b[49m\u001b[38;5;241;43m=\u001b[39;49m\u001b[43mlevel\u001b[49m\u001b[43m,\u001b[49m\n\u001b[1;32m   5350\u001b[0m \u001b[43m        \u001b[49m\u001b[43minplace\u001b[49m\u001b[38;5;241;43m=\u001b[39;49m\u001b[43minplace\u001b[49m\u001b[43m,\u001b[49m\n\u001b[1;32m   5351\u001b[0m \u001b[43m        \u001b[49m\u001b[43merrors\u001b[49m\u001b[38;5;241;43m=\u001b[39;49m\u001b[43merrors\u001b[49m\u001b[43m,\u001b[49m\n\u001b[1;32m   5352\u001b[0m \u001b[43m    \u001b[49m\u001b[43m)\u001b[49m\n",
      "File \u001b[0;32m/Library/Frameworks/Python.framework/Versions/3.12/lib/python3.12/site-packages/pandas/core/generic.py:4711\u001b[0m, in \u001b[0;36mNDFrame.drop\u001b[0;34m(self, labels, axis, index, columns, level, inplace, errors)\u001b[0m\n\u001b[1;32m   4709\u001b[0m \u001b[38;5;28;01mfor\u001b[39;00m axis, labels \u001b[38;5;129;01min\u001b[39;00m axes\u001b[38;5;241m.\u001b[39mitems():\n\u001b[1;32m   4710\u001b[0m     \u001b[38;5;28;01mif\u001b[39;00m labels \u001b[38;5;129;01mis\u001b[39;00m \u001b[38;5;129;01mnot\u001b[39;00m \u001b[38;5;28;01mNone\u001b[39;00m:\n\u001b[0;32m-> 4711\u001b[0m         obj \u001b[38;5;241m=\u001b[39m \u001b[43mobj\u001b[49m\u001b[38;5;241;43m.\u001b[39;49m\u001b[43m_drop_axis\u001b[49m\u001b[43m(\u001b[49m\u001b[43mlabels\u001b[49m\u001b[43m,\u001b[49m\u001b[43m \u001b[49m\u001b[43maxis\u001b[49m\u001b[43m,\u001b[49m\u001b[43m \u001b[49m\u001b[43mlevel\u001b[49m\u001b[38;5;241;43m=\u001b[39;49m\u001b[43mlevel\u001b[49m\u001b[43m,\u001b[49m\u001b[43m \u001b[49m\u001b[43merrors\u001b[49m\u001b[38;5;241;43m=\u001b[39;49m\u001b[43merrors\u001b[49m\u001b[43m)\u001b[49m\n\u001b[1;32m   4713\u001b[0m \u001b[38;5;28;01mif\u001b[39;00m inplace:\n\u001b[1;32m   4714\u001b[0m     \u001b[38;5;28mself\u001b[39m\u001b[38;5;241m.\u001b[39m_update_inplace(obj)\n",
      "File \u001b[0;32m/Library/Frameworks/Python.framework/Versions/3.12/lib/python3.12/site-packages/pandas/core/generic.py:4753\u001b[0m, in \u001b[0;36mNDFrame._drop_axis\u001b[0;34m(self, labels, axis, level, errors, only_slice)\u001b[0m\n\u001b[1;32m   4751\u001b[0m         new_axis \u001b[38;5;241m=\u001b[39m axis\u001b[38;5;241m.\u001b[39mdrop(labels, level\u001b[38;5;241m=\u001b[39mlevel, errors\u001b[38;5;241m=\u001b[39merrors)\n\u001b[1;32m   4752\u001b[0m     \u001b[38;5;28;01melse\u001b[39;00m:\n\u001b[0;32m-> 4753\u001b[0m         new_axis \u001b[38;5;241m=\u001b[39m \u001b[43maxis\u001b[49m\u001b[38;5;241;43m.\u001b[39;49m\u001b[43mdrop\u001b[49m\u001b[43m(\u001b[49m\u001b[43mlabels\u001b[49m\u001b[43m,\u001b[49m\u001b[43m \u001b[49m\u001b[43merrors\u001b[49m\u001b[38;5;241;43m=\u001b[39;49m\u001b[43merrors\u001b[49m\u001b[43m)\u001b[49m\n\u001b[1;32m   4754\u001b[0m     indexer \u001b[38;5;241m=\u001b[39m axis\u001b[38;5;241m.\u001b[39mget_indexer(new_axis)\n\u001b[1;32m   4756\u001b[0m \u001b[38;5;66;03m# Case for non-unique axis\u001b[39;00m\n\u001b[1;32m   4757\u001b[0m \u001b[38;5;28;01melse\u001b[39;00m:\n",
      "File \u001b[0;32m/Library/Frameworks/Python.framework/Versions/3.12/lib/python3.12/site-packages/pandas/core/indexes/base.py:6992\u001b[0m, in \u001b[0;36mIndex.drop\u001b[0;34m(self, labels, errors)\u001b[0m\n\u001b[1;32m   6990\u001b[0m \u001b[38;5;28;01mif\u001b[39;00m mask\u001b[38;5;241m.\u001b[39many():\n\u001b[1;32m   6991\u001b[0m     \u001b[38;5;28;01mif\u001b[39;00m errors \u001b[38;5;241m!=\u001b[39m \u001b[38;5;124m\"\u001b[39m\u001b[38;5;124mignore\u001b[39m\u001b[38;5;124m\"\u001b[39m:\n\u001b[0;32m-> 6992\u001b[0m         \u001b[38;5;28;01mraise\u001b[39;00m \u001b[38;5;167;01mKeyError\u001b[39;00m(\u001b[38;5;124mf\u001b[39m\u001b[38;5;124m\"\u001b[39m\u001b[38;5;132;01m{\u001b[39;00mlabels[mask]\u001b[38;5;241m.\u001b[39mtolist()\u001b[38;5;132;01m}\u001b[39;00m\u001b[38;5;124m not found in axis\u001b[39m\u001b[38;5;124m\"\u001b[39m)\n\u001b[1;32m   6993\u001b[0m     indexer \u001b[38;5;241m=\u001b[39m indexer[\u001b[38;5;241m~\u001b[39mmask]\n\u001b[1;32m   6994\u001b[0m \u001b[38;5;28;01mreturn\u001b[39;00m \u001b[38;5;28mself\u001b[39m\u001b[38;5;241m.\u001b[39mdelete(indexer)\n",
      "\u001b[0;31mKeyError\u001b[0m: \"['MoB', 'L'] not found in axis\""
     ]
    }
   ],
   "source": [
    "newdata.drop(columns=['MoB', 'L'], inplace=True)"
   ]
  },
  {
   "cell_type": "code",
   "execution_count": 26,
   "id": "7685ea0b-9674-4414-8552-fa4a0e0356d5",
   "metadata": {},
   "outputs": [],
   "source": [
    "newdata.to_excel(\"/Users/chawkibhd/Downloads/projetDM/output2.xlsx\", index=False)"
   ]
  },
  {
   "cell_type": "code",
   "execution_count": 27,
   "id": "bacadcc0-c158-4676-891d-a7d48330832e",
   "metadata": {},
   "outputs": [
    {
     "name": "stdout",
     "output_type": "stream",
     "text": [
      "Colonnes qui contiennent uniquement des 0 :\n",
      "[]\n"
     ]
    }
   ],
   "source": [
    "zero = (newdata == 0).all()\n",
    "colonnes_toutes_zero = zero[zero].index.tolist()\n",
    "print(\"Colonnes qui contiennent uniquement des 0 :\")\n",
    "print(colonnes_toutes_zero)"
   ]
  },
  {
   "cell_type": "code",
   "execution_count": 28,
   "id": "ca382b04-9f8e-4dff-8123-70c9149585a9",
   "metadata": {},
   "outputs": [
    {
     "name": "stderr",
     "output_type": "stream",
     "text": [
      "/Library/Frameworks/Python.framework/Versions/3.12/lib/python3.12/site-packages/sklearn/cluster/_kmeans.py:1416: FutureWarning: The default value of `n_init` will change from 10 to 'auto' in 1.4. Set the value of `n_init` explicitly to suppress the warning\n",
      "  super()._check_params_vs_input(X, default_n_init=10)\n",
      "/Library/Frameworks/Python.framework/Versions/3.12/lib/python3.12/site-packages/sklearn/cluster/_kmeans.py:1416: FutureWarning: The default value of `n_init` will change from 10 to 'auto' in 1.4. Set the value of `n_init` explicitly to suppress the warning\n",
      "  super()._check_params_vs_input(X, default_n_init=10)\n",
      "/Library/Frameworks/Python.framework/Versions/3.12/lib/python3.12/site-packages/sklearn/cluster/_kmeans.py:1416: FutureWarning: The default value of `n_init` will change from 10 to 'auto' in 1.4. Set the value of `n_init` explicitly to suppress the warning\n",
      "  super()._check_params_vs_input(X, default_n_init=10)\n",
      "/Library/Frameworks/Python.framework/Versions/3.12/lib/python3.12/site-packages/sklearn/cluster/_kmeans.py:1416: FutureWarning: The default value of `n_init` will change from 10 to 'auto' in 1.4. Set the value of `n_init` explicitly to suppress the warning\n",
      "  super()._check_params_vs_input(X, default_n_init=10)\n",
      "/Library/Frameworks/Python.framework/Versions/3.12/lib/python3.12/site-packages/sklearn/cluster/_kmeans.py:1416: FutureWarning: The default value of `n_init` will change from 10 to 'auto' in 1.4. Set the value of `n_init` explicitly to suppress the warning\n",
      "  super()._check_params_vs_input(X, default_n_init=10)\n",
      "/Library/Frameworks/Python.framework/Versions/3.12/lib/python3.12/site-packages/sklearn/cluster/_kmeans.py:1416: FutureWarning: The default value of `n_init` will change from 10 to 'auto' in 1.4. Set the value of `n_init` explicitly to suppress the warning\n",
      "  super()._check_params_vs_input(X, default_n_init=10)\n",
      "/Library/Frameworks/Python.framework/Versions/3.12/lib/python3.12/site-packages/sklearn/cluster/_kmeans.py:1416: FutureWarning: The default value of `n_init` will change from 10 to 'auto' in 1.4. Set the value of `n_init` explicitly to suppress the warning\n",
      "  super()._check_params_vs_input(X, default_n_init=10)\n",
      "/Library/Frameworks/Python.framework/Versions/3.12/lib/python3.12/site-packages/sklearn/cluster/_kmeans.py:1416: FutureWarning: The default value of `n_init` will change from 10 to 'auto' in 1.4. Set the value of `n_init` explicitly to suppress the warning\n",
      "  super()._check_params_vs_input(X, default_n_init=10)\n",
      "/Library/Frameworks/Python.framework/Versions/3.12/lib/python3.12/site-packages/sklearn/cluster/_kmeans.py:1416: FutureWarning: The default value of `n_init` will change from 10 to 'auto' in 1.4. Set the value of `n_init` explicitly to suppress the warning\n",
      "  super()._check_params_vs_input(X, default_n_init=10)\n",
      "/Library/Frameworks/Python.framework/Versions/3.12/lib/python3.12/site-packages/sklearn/cluster/_kmeans.py:1416: FutureWarning: The default value of `n_init` will change from 10 to 'auto' in 1.4. Set the value of `n_init` explicitly to suppress the warning\n",
      "  super()._check_params_vs_input(X, default_n_init=10)\n"
     ]
    },
    {
     "data": {
      "image/png": "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",
      "text/plain": [
       "<Figure size 640x480 with 1 Axes>"
      ]
     },
     "metadata": {},
     "output_type": "display_data"
    }
   ],
   "source": [
    "from sklearn.cluster import KMeans\n",
    "import matplotlib.pyplot as plt\n",
    "inertias = []\n",
    "\n",
    "for k in range(1, 11):\n",
    "    kmeans = KMeans(n_clusters=k, random_state=42)\n",
    "    kmeans.fit(newdata)\n",
    "    inertias.append(kmeans.inertia_)\n",
    "\n",
    "plt.plot(range(1, 11), inertias, marker='o')\n",
    "plt.xlabel('Nombre de clusters (k)')\n",
    "plt.ylabel('Inertie')\n",
    "plt.title('Méthode du coude')\n",
    "plt.show()"
   ]
  },
  {
   "cell_type": "code",
   "execution_count": 29,
   "id": "da75c086-798e-45a8-a2e8-c78f1f1efd8a",
   "metadata": {},
   "outputs": [
    {
     "name": "stdout",
     "output_type": "stream",
     "text": [
      "   Tg(K)  Tx(K)  Tl(K)  Dmax (mm)   Zr  W    Ca    Y   Nb  S  ...   Ce   Tb  \\\n",
      "0  413.0  432.0  803.0        2.5  0.0  0  30.8  0.0  0.0  0  ...  0.0  0.0   \n",
      "1  394.0  426.0  805.0        0.5  0.0  0  30.8  0.0  0.0  0  ...  0.0  0.0   \n",
      "2  384.0  416.0  854.0        2.0  0.0  0  30.8  0.0  0.0  0  ...  0.0  0.0   \n",
      "3  405.0  436.0  842.0        0.5  0.0  0  15.4  0.0  0.0  0  ...  0.0  0.0   \n",
      "4  399.0  426.0  765.0        0.7  0.0  0  30.7  0.0  0.0  0  ...  0.0  0.0   \n",
      "\n",
      "    Al    Cu   Tm   Fe    Ag   Ta   Ga  cluster  \n",
      "0  0.0  15.4  0.0  0.0  30.8  0.0  0.0        1  \n",
      "1  0.0   0.0  0.0  0.0  38.4  0.0  0.0        1  \n",
      "2  0.0   7.7  0.0  0.0  38.5  0.0  0.0        1  \n",
      "3  0.0   7.7  0.0  0.0  38.5  0.0  0.0        1  \n",
      "4  0.0   0.0  0.0  0.0  46.2  0.0  0.0        1  \n",
      "\n",
      "[5 rows x 50 columns]\n"
     ]
    },
    {
     "name": "stderr",
     "output_type": "stream",
     "text": [
      "/Library/Frameworks/Python.framework/Versions/3.12/lib/python3.12/site-packages/sklearn/cluster/_kmeans.py:1416: FutureWarning: The default value of `n_init` will change from 10 to 'auto' in 1.4. Set the value of `n_init` explicitly to suppress the warning\n",
      "  super()._check_params_vs_input(X, default_n_init=10)\n"
     ]
    }
   ],
   "source": [
    "k = 3 \n",
    "kmeans = KMeans(n_clusters=k, random_state=42)\n",
    "kmeans.fit(newdata)\n",
    "\n",
    "newdata['cluster'] = kmeans.labels_\n",
    "print(newdata.head())"
   ]
  },
  {
   "cell_type": "code",
   "execution_count": 30,
   "id": "391084aa-a279-4bb0-a8ec-c6f1013e925e",
   "metadata": {},
   "outputs": [
    {
     "data": {
      "image/png": "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",
      "text/plain": [
       "<Figure size 800x600 with 1 Axes>"
      ]
     },
     "metadata": {},
     "output_type": "display_data"
    }
   ],
   "source": [
    "from sklearn.decomposition import PCA\n",
    "\n",
    "pca = PCA(n_components=2)\n",
    "reduced_data = pca.fit_transform(newdata.drop('cluster', axis=1))\n",
    "\n",
    "plot_data = pd.DataFrame()\n",
    "plot_data['PC1'] = reduced_data[:, 0]\n",
    "plot_data['PC2'] = reduced_data[:, 1]\n",
    "plot_data['Cluster'] = newdata['cluster']\n",
    "\n",
    "# Tracer les clusters\n",
    "plt.figure(figsize=(8,6))\n",
    "colors = ['red', 'green', 'blue']\n",
    "\n",
    "for cluster_id in range(k):\n",
    "    subset = plot_data[plot_data['Cluster'] == cluster_id]\n",
    "    plt.scatter(subset['PC1'], subset['PC2'], \n",
    "                color=colors[cluster_id], label=f'Cluster {cluster_id}', s=30)\n",
    "\n",
    "plt.title('Clusters après KMeans (PCA en 2D)')\n",
    "plt.xlabel('Composante Principale 1')\n",
    "plt.ylabel('Composante Principale 2')\n",
    "plt.legend()\n",
    "plt.grid(True)\n",
    "plt.show()"
   ]
  },
  {
   "cell_type": "code",
   "execution_count": 31,
   "id": "af4638c9-f2c7-4e93-8e64-8c0125537d13",
   "metadata": {},
   "outputs": [],
   "source": [
    "newdata.to_excel(\"/Users/chawkibhd/Downloads/projetDM/output2.xlsx\", index=False)"
   ]
  },
  {
   "cell_type": "code",
   "execution_count": 32,
   "id": "9b997675-6f52-4c42-86b4-e2f793e44d44",
   "metadata": {},
   "outputs": [
    {
     "name": "stderr",
     "output_type": "stream",
     "text": [
      "/Library/Frameworks/Python.framework/Versions/3.12/lib/python3.12/site-packages/sklearn/base.py:465: UserWarning: X does not have valid feature names, but PCA was fitted with feature names\n",
      "  warnings.warn(\n"
     ]
    },
    {
     "ename": "ValueError",
     "evalue": "X has 50 features, but PCA is expecting 49 features as input.",
     "output_type": "error",
     "traceback": [
      "\u001b[0;31m---------------------------------------------------------------------------\u001b[0m",
      "\u001b[0;31mValueError\u001b[0m                                Traceback (most recent call last)",
      "Cell \u001b[0;32mIn[32], line 9\u001b[0m\n\u001b[1;32m      6\u001b[0m reduced_data \u001b[38;5;241m=\u001b[39m pca\u001b[38;5;241m.\u001b[39mfit_transform(newdata\u001b[38;5;241m.\u001b[39mdrop(\u001b[38;5;124m'\u001b[39m\u001b[38;5;124mcluster\u001b[39m\u001b[38;5;124m'\u001b[39m, axis\u001b[38;5;241m=\u001b[39m\u001b[38;5;241m1\u001b[39m))\n\u001b[1;32m      8\u001b[0m \u001b[38;5;66;03m# 2. Transformation aussi des centres des clusters pour les afficher !\u001b[39;00m\n\u001b[0;32m----> 9\u001b[0m centroids_reduced \u001b[38;5;241m=\u001b[39m \u001b[43mpca\u001b[49m\u001b[38;5;241;43m.\u001b[39;49m\u001b[43mtransform\u001b[49m\u001b[43m(\u001b[49m\u001b[43mkmeans\u001b[49m\u001b[38;5;241;43m.\u001b[39;49m\u001b[43mcluster_centers_\u001b[49m\u001b[43m)\u001b[49m\n\u001b[1;32m     11\u001b[0m \u001b[38;5;66;03m# 3. Création d'un DataFrame pour faciliter le plot\u001b[39;00m\n\u001b[1;32m     12\u001b[0m \u001b[38;5;28;01mimport\u001b[39;00m \u001b[38;5;21;01mpandas\u001b[39;00m \u001b[38;5;28;01mas\u001b[39;00m \u001b[38;5;21;01mpd\u001b[39;00m\n",
      "File \u001b[0;32m/Library/Frameworks/Python.framework/Versions/3.12/lib/python3.12/site-packages/sklearn/utils/_set_output.py:157\u001b[0m, in \u001b[0;36m_wrap_method_output.<locals>.wrapped\u001b[0;34m(self, X, *args, **kwargs)\u001b[0m\n\u001b[1;32m    155\u001b[0m \u001b[38;5;129m@wraps\u001b[39m(f)\n\u001b[1;32m    156\u001b[0m \u001b[38;5;28;01mdef\u001b[39;00m \u001b[38;5;21mwrapped\u001b[39m(\u001b[38;5;28mself\u001b[39m, X, \u001b[38;5;241m*\u001b[39margs, \u001b[38;5;241m*\u001b[39m\u001b[38;5;241m*\u001b[39mkwargs):\n\u001b[0;32m--> 157\u001b[0m     data_to_wrap \u001b[38;5;241m=\u001b[39m \u001b[43mf\u001b[49m\u001b[43m(\u001b[49m\u001b[38;5;28;43mself\u001b[39;49m\u001b[43m,\u001b[49m\u001b[43m \u001b[49m\u001b[43mX\u001b[49m\u001b[43m,\u001b[49m\u001b[43m \u001b[49m\u001b[38;5;241;43m*\u001b[39;49m\u001b[43margs\u001b[49m\u001b[43m,\u001b[49m\u001b[43m \u001b[49m\u001b[38;5;241;43m*\u001b[39;49m\u001b[38;5;241;43m*\u001b[39;49m\u001b[43mkwargs\u001b[49m\u001b[43m)\u001b[49m\n\u001b[1;32m    158\u001b[0m     \u001b[38;5;28;01mif\u001b[39;00m \u001b[38;5;28misinstance\u001b[39m(data_to_wrap, \u001b[38;5;28mtuple\u001b[39m):\n\u001b[1;32m    159\u001b[0m         \u001b[38;5;66;03m# only wrap the first output for cross decomposition\u001b[39;00m\n\u001b[1;32m    160\u001b[0m         return_tuple \u001b[38;5;241m=\u001b[39m (\n\u001b[1;32m    161\u001b[0m             _wrap_data_with_container(method, data_to_wrap[\u001b[38;5;241m0\u001b[39m], X, \u001b[38;5;28mself\u001b[39m),\n\u001b[1;32m    162\u001b[0m             \u001b[38;5;241m*\u001b[39mdata_to_wrap[\u001b[38;5;241m1\u001b[39m:],\n\u001b[1;32m    163\u001b[0m         )\n",
      "File \u001b[0;32m/Library/Frameworks/Python.framework/Versions/3.12/lib/python3.12/site-packages/sklearn/decomposition/_base.py:121\u001b[0m, in \u001b[0;36m_BasePCA.transform\u001b[0;34m(self, X)\u001b[0m\n\u001b[1;32m    102\u001b[0m \u001b[38;5;250m\u001b[39m\u001b[38;5;124;03m\"\"\"Apply dimensionality reduction to X.\u001b[39;00m\n\u001b[1;32m    103\u001b[0m \n\u001b[1;32m    104\u001b[0m \u001b[38;5;124;03mX is projected on the first principal components previously extracted\u001b[39;00m\n\u001b[0;32m   (...)\u001b[0m\n\u001b[1;32m    117\u001b[0m \u001b[38;5;124;03m    is the number of samples and `n_components` is the number of the components.\u001b[39;00m\n\u001b[1;32m    118\u001b[0m \u001b[38;5;124;03m\"\"\"\u001b[39;00m\n\u001b[1;32m    119\u001b[0m check_is_fitted(\u001b[38;5;28mself\u001b[39m)\n\u001b[0;32m--> 121\u001b[0m X \u001b[38;5;241m=\u001b[39m \u001b[38;5;28;43mself\u001b[39;49m\u001b[38;5;241;43m.\u001b[39;49m\u001b[43m_validate_data\u001b[49m\u001b[43m(\u001b[49m\u001b[43mX\u001b[49m\u001b[43m,\u001b[49m\u001b[43m \u001b[49m\u001b[43mdtype\u001b[49m\u001b[38;5;241;43m=\u001b[39;49m\u001b[43m[\u001b[49m\u001b[43mnp\u001b[49m\u001b[38;5;241;43m.\u001b[39;49m\u001b[43mfloat64\u001b[49m\u001b[43m,\u001b[49m\u001b[43m \u001b[49m\u001b[43mnp\u001b[49m\u001b[38;5;241;43m.\u001b[39;49m\u001b[43mfloat32\u001b[49m\u001b[43m]\u001b[49m\u001b[43m,\u001b[49m\u001b[43m \u001b[49m\u001b[43mreset\u001b[49m\u001b[38;5;241;43m=\u001b[39;49m\u001b[38;5;28;43;01mFalse\u001b[39;49;00m\u001b[43m)\u001b[49m\n\u001b[1;32m    122\u001b[0m \u001b[38;5;28;01mif\u001b[39;00m \u001b[38;5;28mself\u001b[39m\u001b[38;5;241m.\u001b[39mmean_ \u001b[38;5;129;01mis\u001b[39;00m \u001b[38;5;129;01mnot\u001b[39;00m \u001b[38;5;28;01mNone\u001b[39;00m:\n\u001b[1;32m    123\u001b[0m     X \u001b[38;5;241m=\u001b[39m X \u001b[38;5;241m-\u001b[39m \u001b[38;5;28mself\u001b[39m\u001b[38;5;241m.\u001b[39mmean_\n",
      "File \u001b[0;32m/Library/Frameworks/Python.framework/Versions/3.12/lib/python3.12/site-packages/sklearn/base.py:626\u001b[0m, in \u001b[0;36mBaseEstimator._validate_data\u001b[0;34m(self, X, y, reset, validate_separately, cast_to_ndarray, **check_params)\u001b[0m\n\u001b[1;32m    623\u001b[0m     out \u001b[38;5;241m=\u001b[39m X, y\n\u001b[1;32m    625\u001b[0m \u001b[38;5;28;01mif\u001b[39;00m \u001b[38;5;129;01mnot\u001b[39;00m no_val_X \u001b[38;5;129;01mand\u001b[39;00m check_params\u001b[38;5;241m.\u001b[39mget(\u001b[38;5;124m\"\u001b[39m\u001b[38;5;124mensure_2d\u001b[39m\u001b[38;5;124m\"\u001b[39m, \u001b[38;5;28;01mTrue\u001b[39;00m):\n\u001b[0;32m--> 626\u001b[0m     \u001b[38;5;28;43mself\u001b[39;49m\u001b[38;5;241;43m.\u001b[39;49m\u001b[43m_check_n_features\u001b[49m\u001b[43m(\u001b[49m\u001b[43mX\u001b[49m\u001b[43m,\u001b[49m\u001b[43m \u001b[49m\u001b[43mreset\u001b[49m\u001b[38;5;241;43m=\u001b[39;49m\u001b[43mreset\u001b[49m\u001b[43m)\u001b[49m\n\u001b[1;32m    628\u001b[0m \u001b[38;5;28;01mreturn\u001b[39;00m out\n",
      "File \u001b[0;32m/Library/Frameworks/Python.framework/Versions/3.12/lib/python3.12/site-packages/sklearn/base.py:415\u001b[0m, in \u001b[0;36mBaseEstimator._check_n_features\u001b[0;34m(self, X, reset)\u001b[0m\n\u001b[1;32m    412\u001b[0m     \u001b[38;5;28;01mreturn\u001b[39;00m\n\u001b[1;32m    414\u001b[0m \u001b[38;5;28;01mif\u001b[39;00m n_features \u001b[38;5;241m!=\u001b[39m \u001b[38;5;28mself\u001b[39m\u001b[38;5;241m.\u001b[39mn_features_in_:\n\u001b[0;32m--> 415\u001b[0m     \u001b[38;5;28;01mraise\u001b[39;00m \u001b[38;5;167;01mValueError\u001b[39;00m(\n\u001b[1;32m    416\u001b[0m         \u001b[38;5;124mf\u001b[39m\u001b[38;5;124m\"\u001b[39m\u001b[38;5;124mX has \u001b[39m\u001b[38;5;132;01m{\u001b[39;00mn_features\u001b[38;5;132;01m}\u001b[39;00m\u001b[38;5;124m features, but \u001b[39m\u001b[38;5;132;01m{\u001b[39;00m\u001b[38;5;28mself\u001b[39m\u001b[38;5;241m.\u001b[39m\u001b[38;5;18m__class__\u001b[39m\u001b[38;5;241m.\u001b[39m\u001b[38;5;18m__name__\u001b[39m\u001b[38;5;132;01m}\u001b[39;00m\u001b[38;5;124m \u001b[39m\u001b[38;5;124m\"\u001b[39m\n\u001b[1;32m    417\u001b[0m         \u001b[38;5;124mf\u001b[39m\u001b[38;5;124m\"\u001b[39m\u001b[38;5;124mis expecting \u001b[39m\u001b[38;5;132;01m{\u001b[39;00m\u001b[38;5;28mself\u001b[39m\u001b[38;5;241m.\u001b[39mn_features_in_\u001b[38;5;132;01m}\u001b[39;00m\u001b[38;5;124m features as input.\u001b[39m\u001b[38;5;124m\"\u001b[39m\n\u001b[1;32m    418\u001b[0m     )\n",
      "\u001b[0;31mValueError\u001b[0m: X has 50 features, but PCA is expecting 49 features as input."
     ]
    }
   ],
   "source": [
    "from sklearn.decomposition import PCA\n",
    "import matplotlib.pyplot as plt\n",
    "\n",
    "# 1. Réduction à 2 dimensions pour affichage\n",
    "pca = PCA(n_components=2)\n",
    "reduced_data = pca.fit_transform(newdata.drop('cluster', axis=1))\n",
    "\n",
    "# 2. Transformation aussi des centres des clusters pour les afficher !\n",
    "centroids_reduced = pca.transform(kmeans.cluster_centers_)\n",
    "\n",
    "# 3. Création d'un DataFrame pour faciliter le plot\n",
    "import pandas as pd\n",
    "plot_data = pd.DataFrame()\n",
    "plot_data['PC1'] = reduced_data[:, 0]\n",
    "plot_data['PC2'] = reduced_data[:, 1]\n",
    "plot_data['Cluster'] = newdata['cluster']\n",
    "\n",
    "# 4. Tracer les clusters\n",
    "plt.figure(figsize=(8,6))\n",
    "colors = ['red', 'green', 'blue']\n",
    "\n",
    "for cluster_id in range(k):\n",
    "    subset = plot_data[plot_data['Cluster'] == cluster_id]\n",
    "    plt.scatter(subset['PC1'], subset['PC2'], \n",
    "                color=colors[cluster_id], label=f'Cluster {cluster_id}', s=30)\n",
    "\n",
    "# 5. Tracer les centres des clusters avec une croix noire\n",
    "plt.scatter(centroids_reduced[:, 0], centroids_reduced[:, 1], \n",
    "            marker='x', s=200, c='black', label='Centres')\n",
    "\n",
    "plt.title('Clusters après KMeans (avec Centres)')\n",
    "plt.xlabel('Composante Principale 1')\n",
    "plt.ylabel('Composante Principale 2')\n",
    "plt.legend()\n",
    "plt.grid(True)\n",
    "plt.show()\n"
   ]
  },
  {
   "cell_type": "code",
   "execution_count": 33,
   "id": "5c21cf82-02b6-4b1d-896e-2e40f93fc544",
   "metadata": {},
   "outputs": [],
   "source": [
    "from sklearn.preprocessing import StandardScaler\n",
    "\n",
    "scaler = StandardScaler()\n",
    "newdata_scaled = scaler.fit_transform(newdata.drop('cluster', axis=1))"
   ]
  },
  {
   "cell_type": "code",
<<<<<<< HEAD
   "execution_count": 34,
=======
   "execution_count": 39,
>>>>>>> 233ed67 (add score)
   "id": "f11fabc9-6561-49b9-8ffd-675f7481e172",
   "metadata": {},
   "outputs": [
    {
     "name": "stdout",
     "output_type": "stream",
     "text": [
      "   Tg(K)  Tx(K)  Tl(K)  Dmax (mm)   Zr  W    Ca    Y   Nb  S  ...   Ce   Tb  \\\n",
      "0  413.0  432.0  803.0        2.5  0.0  0  30.8  0.0  0.0  0  ...  0.0  0.0   \n",
      "1  394.0  426.0  805.0        0.5  0.0  0  30.8  0.0  0.0  0  ...  0.0  0.0   \n",
      "2  384.0  416.0  854.0        2.0  0.0  0  30.8  0.0  0.0  0  ...  0.0  0.0   \n",
      "3  405.0  436.0  842.0        0.5  0.0  0  15.4  0.0  0.0  0  ...  0.0  0.0   \n",
      "4  399.0  426.0  765.0        0.7  0.0  0  30.7  0.0  0.0  0  ...  0.0  0.0   \n",
      "\n",
      "    Al    Cu   Tm   Fe    Ag   Ta   Ga  cluster  \n",
<<<<<<< HEAD
      "0  0.0  15.4  0.0  0.0  30.8  0.0  0.0        1  \n",
      "1  0.0   0.0  0.0  0.0  38.4  0.0  0.0        1  \n",
      "2  0.0   7.7  0.0  0.0  38.5  0.0  0.0        1  \n",
      "3  0.0   7.7  0.0  0.0  38.5  0.0  0.0        1  \n",
      "4  0.0   0.0  0.0  0.0  46.2  0.0  0.0        1  \n",
=======
      "0  0.0  15.4  0.0  0.0  30.8  0.0  0.0        4  \n",
      "1  0.0   0.0  0.0  0.0  38.4  0.0  0.0        4  \n",
      "2  0.0   7.7  0.0  0.0  38.5  0.0  0.0        4  \n",
      "3  0.0   7.7  0.0  0.0  38.5  0.0  0.0        4  \n",
      "4  0.0   0.0  0.0  0.0  46.2  0.0  0.0        4  \n",
>>>>>>> 233ed67 (add score)
      "\n",
      "[5 rows x 50 columns]\n"
     ]
    },
    {
     "name": "stderr",
     "output_type": "stream",
     "text": [
      "/Library/Frameworks/Python.framework/Versions/3.12/lib/python3.12/site-packages/sklearn/cluster/_kmeans.py:1416: FutureWarning: The default value of `n_init` will change from 10 to 'auto' in 1.4. Set the value of `n_init` explicitly to suppress the warning\n",
      "  super()._check_params_vs_input(X, default_n_init=10)\n"
     ]
    }
   ],
   "source": [
<<<<<<< HEAD
    "k = 3 \n",
=======
    "k = 9\n",
>>>>>>> 233ed67 (add score)
    "kmeans = KMeans(n_clusters=k, random_state=42)\n",
    "kmeans.fit(newdata_scaled)\n",
    "\n",
    "newdata['cluster'] = kmeans.labels_\n",
    "\n",
    "print(newdata.head())\n"
   ]
  },
  {
   "cell_type": "code",
<<<<<<< HEAD
   "execution_count": 35,
=======
   "execution_count": 40,
>>>>>>> 233ed67 (add score)
   "id": "acad86d6-22e3-4fe7-a467-807a85d7a414",
   "metadata": {},
   "outputs": [
    {
<<<<<<< HEAD
     "data": {
      "image/png": "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",
=======
     "ename": "IndexError",
     "evalue": "list index out of range",
     "output_type": "error",
     "traceback": [
      "\u001b[0;31m---------------------------------------------------------------------------\u001b[0m",
      "\u001b[0;31mIndexError\u001b[0m                                Traceback (most recent call last)",
      "Cell \u001b[0;32mIn[40], line 22\u001b[0m\n\u001b[1;32m     19\u001b[0m \u001b[38;5;28;01mfor\u001b[39;00m cluster_id \u001b[38;5;129;01min\u001b[39;00m \u001b[38;5;28mrange\u001b[39m(k):\n\u001b[1;32m     20\u001b[0m     subset \u001b[38;5;241m=\u001b[39m plot_data_scaled[plot_data_scaled[\u001b[38;5;124m'\u001b[39m\u001b[38;5;124mCluster\u001b[39m\u001b[38;5;124m'\u001b[39m] \u001b[38;5;241m==\u001b[39m cluster_id]\n\u001b[1;32m     21\u001b[0m     plt\u001b[38;5;241m.\u001b[39mscatter(subset[\u001b[38;5;124m'\u001b[39m\u001b[38;5;124mPC1\u001b[39m\u001b[38;5;124m'\u001b[39m], subset[\u001b[38;5;124m'\u001b[39m\u001b[38;5;124mPC2\u001b[39m\u001b[38;5;124m'\u001b[39m], \n\u001b[0;32m---> 22\u001b[0m                 color\u001b[38;5;241m=\u001b[39m\u001b[43mcolors\u001b[49m\u001b[43m[\u001b[49m\u001b[43mcluster_id\u001b[49m\u001b[43m]\u001b[49m, label\u001b[38;5;241m=\u001b[39m\u001b[38;5;124mf\u001b[39m\u001b[38;5;124m'\u001b[39m\u001b[38;5;124mCluster \u001b[39m\u001b[38;5;132;01m{\u001b[39;00mcluster_id\u001b[38;5;132;01m}\u001b[39;00m\u001b[38;5;124m'\u001b[39m, s\u001b[38;5;241m=\u001b[39m\u001b[38;5;241m30\u001b[39m)\n\u001b[1;32m     24\u001b[0m \u001b[38;5;66;03m# 4. Centres (centroïdes) dans l'espace réduit\u001b[39;00m\n\u001b[1;32m     25\u001b[0m centroids_reduced \u001b[38;5;241m=\u001b[39m pca\u001b[38;5;241m.\u001b[39mtransform(kmeans\u001b[38;5;241m.\u001b[39mcluster_centers_)\n",
      "\u001b[0;31mIndexError\u001b[0m: list index out of range"
     ]
    },
    {
     "data": {
      "image/png": "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",
>>>>>>> 233ed67 (add score)
      "text/plain": [
       "<Figure size 800x600 with 1 Axes>"
      ]
     },
     "metadata": {},
     "output_type": "display_data"
    }
   ],
   "source": [
    "from sklearn.decomposition import PCA\n",
    "import matplotlib.pyplot as plt\n",
    "\n",
    "# 1. Faire un PCA sur les données normalisées\n",
    "pca = PCA(n_components=2)\n",
    "reduced_scaled_data = pca.fit_transform(newdata_scaled)\n",
    "\n",
    "# 2. Construire un DataFrame pour le scatter plot\n",
    "import pandas as pd\n",
    "plot_data_scaled = pd.DataFrame()\n",
    "plot_data_scaled['PC1'] = reduced_scaled_data[:, 0]\n",
    "plot_data_scaled['PC2'] = reduced_scaled_data[:, 1]\n",
    "plot_data_scaled['Cluster'] = newdata['cluster']  # cluster est ajouté dans newdata\n",
    "\n",
    "# 3. Tracer les clusters\n",
    "plt.figure(figsize=(8,6))\n",
    "colors = ['red', 'green', 'blue']\n",
    "\n",
    "for cluster_id in range(k):\n",
    "    subset = plot_data_scaled[plot_data_scaled['Cluster'] == cluster_id]\n",
    "    plt.scatter(subset['PC1'], subset['PC2'], \n",
    "                color=colors[cluster_id], label=f'Cluster {cluster_id}', s=30)\n",
    "\n",
    "# 4. Centres (centroïdes) dans l'espace réduit\n",
    "centroids_reduced = pca.transform(kmeans.cluster_centers_)\n",
    "\n",
    "plt.scatter(centroids_reduced[:, 0], centroids_reduced[:, 1], \n",
    "            marker='x', s=200, c='black', label='Centres')\n",
    "\n",
    "plt.title('Clusters sur données standardisées (avec Centres)')\n",
    "plt.xlabel('Composante Principale 1')\n",
    "plt.ylabel('Composante Principale 2')\n",
    "plt.legend()\n",
    "plt.grid(True)\n",
    "plt.show()\n"
   ]
  },
  {
   "cell_type": "code",
<<<<<<< HEAD
   "execution_count": 36,
=======
   "execution_count": 41,
>>>>>>> 233ed67 (add score)
   "id": "a890b7c8-fc31-499e-b1de-5793243e54cf",
   "metadata": {},
   "outputs": [
    {
     "name": "stdout",
     "output_type": "stream",
     "text": [
<<<<<<< HEAD
      "Silhouette Score: 0.16\n"
=======
      "Silhouette Score: 0.23\n"
>>>>>>> 233ed67 (add score)
     ]
    }
   ],
   "source": [
    "from sklearn.metrics import silhouette_score\n",
    "score = silhouette_score(newdata_scaled, newdata['cluster'])\n",
    "print(f\"Silhouette Score: {score:.2f}\")"
   ]
  },
  {
   "cell_type": "code",
<<<<<<< HEAD
   "execution_count": null,
   "id": "e90024a9-4fc4-46aa-8af5-e141de0c2005",
   "metadata": {},
=======
   "execution_count": 42,
   "id": "e90024a9-4fc4-46aa-8af5-e141de0c2005",
   "metadata": {},
   "outputs": [
    {
     "name": "stdout",
     "output_type": "stream",
     "text": [
      "Dunn Index: 0.02\n"
     ]
    }
   ],
   "source": [
    "import numpy as np\n",
    "from scipy.spatial.distance import cdist\n",
    "\n",
    "def dunn_index(X, labels):\n",
    "    clusters = [X[labels == i] for i in np.unique(labels)]\n",
    "    intra_dists = [np.max(cdist(c, c)) for c in clusters if len(c) > 1]\n",
    "    inter_dists = [np.min(cdist(clusters[i], clusters[j]))\n",
    "                   for i in range(len(clusters))\n",
    "                   for j in range(i + 1, len(clusters))]\n",
    "    return np.min(inter_dists) / np.max(intra_dists)\n",
    "\n",
    "X = newdata_scaled\n",
    "labels = newdata['cluster'].values\n",
    "\n",
    "dunn = dunn_index(X, labels)\n",
    "print(f\"Dunn Index: {dunn:.2f}\")"
   ]
  },
  {
   "cell_type": "code",
   "execution_count": 43,
   "id": "89cad55e-7b83-428f-a6a9-752e4ddfea54",
   "metadata": {},
   "outputs": [
    {
     "name": "stderr",
     "output_type": "stream",
     "text": [
      "/Library/Frameworks/Python.framework/Versions/3.12/lib/python3.12/site-packages/sklearn/cluster/_kmeans.py:1416: FutureWarning: The default value of `n_init` will change from 10 to 'auto' in 1.4. Set the value of `n_init` explicitly to suppress the warning\n",
      "  super()._check_params_vs_input(X, default_n_init=10)\n",
      "/Library/Frameworks/Python.framework/Versions/3.12/lib/python3.12/site-packages/sklearn/cluster/_kmeans.py:1416: FutureWarning: The default value of `n_init` will change from 10 to 'auto' in 1.4. Set the value of `n_init` explicitly to suppress the warning\n",
      "  super()._check_params_vs_input(X, default_n_init=10)\n",
      "/Library/Frameworks/Python.framework/Versions/3.12/lib/python3.12/site-packages/sklearn/cluster/_kmeans.py:1416: FutureWarning: The default value of `n_init` will change from 10 to 'auto' in 1.4. Set the value of `n_init` explicitly to suppress the warning\n",
      "  super()._check_params_vs_input(X, default_n_init=10)\n",
      "/Library/Frameworks/Python.framework/Versions/3.12/lib/python3.12/site-packages/sklearn/cluster/_kmeans.py:1416: FutureWarning: The default value of `n_init` will change from 10 to 'auto' in 1.4. Set the value of `n_init` explicitly to suppress the warning\n",
      "  super()._check_params_vs_input(X, default_n_init=10)\n",
      "/Library/Frameworks/Python.framework/Versions/3.12/lib/python3.12/site-packages/sklearn/cluster/_kmeans.py:1416: FutureWarning: The default value of `n_init` will change from 10 to 'auto' in 1.4. Set the value of `n_init` explicitly to suppress the warning\n",
      "  super()._check_params_vs_input(X, default_n_init=10)\n",
      "/Library/Frameworks/Python.framework/Versions/3.12/lib/python3.12/site-packages/sklearn/cluster/_kmeans.py:1416: FutureWarning: The default value of `n_init` will change from 10 to 'auto' in 1.4. Set the value of `n_init` explicitly to suppress the warning\n",
      "  super()._check_params_vs_input(X, default_n_init=10)\n",
      "/Library/Frameworks/Python.framework/Versions/3.12/lib/python3.12/site-packages/sklearn/cluster/_kmeans.py:1416: FutureWarning: The default value of `n_init` will change from 10 to 'auto' in 1.4. Set the value of `n_init` explicitly to suppress the warning\n",
      "  super()._check_params_vs_input(X, default_n_init=10)\n",
      "/Library/Frameworks/Python.framework/Versions/3.12/lib/python3.12/site-packages/sklearn/cluster/_kmeans.py:1416: FutureWarning: The default value of `n_init` will change from 10 to 'auto' in 1.4. Set the value of `n_init` explicitly to suppress the warning\n",
      "  super()._check_params_vs_input(X, default_n_init=10)\n",
      "/Library/Frameworks/Python.framework/Versions/3.12/lib/python3.12/site-packages/sklearn/cluster/_kmeans.py:1416: FutureWarning: The default value of `n_init` will change from 10 to 'auto' in 1.4. Set the value of `n_init` explicitly to suppress the warning\n",
      "  super()._check_params_vs_input(X, default_n_init=10)\n"
     ]
    },
    {
     "data": {
      "image/png": "iVBORw0KGgoAAAANSUhEUgAAAkAAAAHHCAYAAABXx+fLAAAAOXRFWHRTb2Z0d2FyZQBNYXRwbG90bGliIHZlcnNpb24zLjguMiwgaHR0cHM6Ly9tYXRwbG90bGliLm9yZy8g+/7EAAAACXBIWXMAAA9hAAAPYQGoP6dpAAB5sUlEQVR4nO3deXhMZ/8G8Htmsu/7KrLaIgiyiL3EVrW1auli6161VKt4+7NVrdWWVqulfdGiaBXl1dh3ISSCiCUhiMgiieyyzZzfH5GpaRaZmOQkM/fnuua65Mw5Z+6JMN885znPVyIIggAiIiIiHSIVOwARERFRfWMBRERERDqHBRARERHpHBZAREREpHNYABEREZHOYQFEREREOocFEBEREekcFkBERESkc1gAERERkc5hAUSkYyQSCT744AONne/o0aOQSCQ4evSoxs5ZX9avXw+JRILbt283utceN24cPDw8NJZn3LhxMDMz09j5iBo6FkBEWuLmzZt455134OXlBSMjI1hYWKBLly5YuXIlHj16JHY8US1atAg7d+4UOwYRNSB6Ygcgomf3v//9Dy+//DIMDQ0xZswY+Pn5obi4GCdPnsT06dNx5coVrFmzpk5eu3v37nj06BEMDAzq5PyasGjRIgwfPhxDhw5V2f76669j1KhRMDQ0FCcYEYmGBRBRI5eQkIBRo0bB3d0dhw8fhrOzs/K5iRMnIj4+Hv/73//q7PWlUimMjIzq7Px1SSaTQSaTiR2DiETAS2BEjdyyZcuQl5eHn3/+WaX4Kefj44MpU6ZU2L5z5074+fnB0NAQrVu3RlhYWIV9Lly4gAEDBsDCwgJmZmbo3bs3zpw5o7LPv+cAXb16FcbGxhgzZozKfidPnoRMJsOMGTOe+p4OHz6Mbt26wdTUFFZWVhgyZAiuXr2qss+8efMgkUhw7do1jBgxAhYWFrC1tcWUKVNQWFio3E8ikSA/Px8bNmyARCKBRCLBuHHjAFQ+D8fDwwMvvPACjh49ioCAABgbG6NNmzbK9/fnn3+iTZs2MDIyQseOHXHhwgWVXJcuXcK4ceOUlyKdnJwwYcIEZGRkPPV9V6X878rIyAh+fn7YsWNHpfspFAqsWLECrVu3hpGRERwdHfHOO+/g4cOHtXrd6Oho2Nvbo2fPnsjLy6t1fqIGSSCiRs3V1VXw8vKq8f4AhHbt2gnOzs7CggULhBUrVgheXl6CiYmJkJ6ertwvJiZGMDU1Ve63ZMkSwdPTUzA0NBTOnDmj3O/IkSMCAOHIkSPKbV988YUAQNi1a5cgCIKQl5cneHt7C76+vkJhYWG1+Q4cOCDo6ekJzZs3F5YtWybMnz9fsLOzE6ytrYWEhATlfnPnzhUACG3atBEGDRokrFq1SnjttdcEAMLrr7+u3O/XX38VDA0NhW7dugm//vqr8OuvvwqnT58WBEEQ1q1bJwBQOa+7u7vQokULwdnZWZg3b57w9ddfC66uroKZmZmwceNGoWnTpsKSJUuEJUuWCJaWloKPj48gl8uVxy9fvlzo1q2b8Nlnnwlr1qwRpkyZIhgbGwtBQUGCQqFQ7lfZa1dm3759glQqFfz8/ISvvvpK+PTTTwVLS0uhdevWgru7u8q+b775pqCnpye89dZbwg8//CDMmDFDMDU1FQIDA4Xi4uJqX2fs2LGCqamp8uuIiAjB2tpa6NOnj1BQUFDtsUSNEQsgokYsOztbACAMGTKkxscAEAwMDIT4+HjltosXLwoAhG+//Va5bejQoYKBgYFw8+ZN5bb79+8L5ubmQvfu3ZXbKiuA5HK50LVrV8HR0VFIT08XJk6cKOjp6Qnnzp17aj5/f3/BwcFByMjIUMknlUqFMWPGKLeVF0CDBw9WOf79998XAAgXL15UbjM1NRXGjh1b4bWqKoAAKIskQSgrQgAIxsbGwp07d5Tbf/zxxwrvvbJi4bfffhMACMePH6/2tav6fjg7OwtZWVnKbfv37xcAqBRAJ06cEAAImzZtUjk+LCys0u3/9mQBdPLkScHCwkIYOHDgUwtWosaKl8CIGrGcnBwAgLm5uVrHhYaGwtvbW/l127ZtYWFhgVu3bgEA5HI59u/fj6FDh8LLy0u5n7OzM1555RWcPHlS+dqVkUqlWL9+PfLy8jBgwAB8//33mDVrFgICAqrNlZycjOjoaIwbNw42NjYq+fr06YO9e/dWOGbixIkqX0+aNAkAKt23pnx9fRESEqL8Ojg4GADQq1cvNG3atML28u8bABgbGyv/XFhYiPT0dHTq1AkAEBUVpVaO8u/H2LFjYWlpqdzep08f+Pr6quz7+++/w9LSEn369EF6erry0bFjR5iZmeHIkSM1es0jR46gX79+6N27N/78809OECetxQKIqBGzsLAAAOTm5qp13JMf4uWsra2Vc0UePHiAgoICtGjRosJ+rVq1gkKhQGJiYrWv4e3tjXnz5uHcuXNo3bo1Zs+e/dRcd+7cAYAqXzc9PR35+fkq25s1a1bhdaVS6TOt7fPv70958eHm5lbp9ifn2GRmZmLKlClwdHSEsbEx7O3t4enpCQDIzs5WK0f59+Pf7xGo+D2Ki4tDdnY2HBwcYG9vr/LIy8tDWlraU1+vsLAQAwcORPv27bFt27YGfWcf0bPiXWBEjZiFhQVcXFwQExOj1nFV3fkkCIImYint378fAHD//n1kZGTAyclJo+evjEQieeZzVPX9qcn3bcSIETh9+jSmT58Of39/mJmZQaFQoH///lAoFM+crSoKhQIODg7YtGlTpc/b29s/9RyGhoZ4/vnnsWvXLoSFheGFF17QdEyiBoMFEFEj98ILL2DNmjUIDw9XuWzzLOzt7WFiYoLr169XeO7atWuQSqUVRkP+7YcffsCBAwewcOFCLF68GO+88w527dpV7THu7u4AUOXr2tnZwdTUVGV7XFyccoQFAOLj46FQKFRWSdZEUVQTDx8+xKFDhzB//nzMmTNHJWNtlH8/Kjv+398jb29vHDx4EF26dFG5DKcOiUSCTZs2YciQIXj55Zfx999/o2fPnrU6F1FDx0tgRI3cJ598AlNTU7z55ptITU2t8PzNmzexcuVKtc4pk8nQt29f7Nq1S+VSUmpqKjZv3oyuXbsqL79VJiEhAdOnT8dLL72E//znP1i+fDn++usv/PLLL9W+rrOzM/z9/bFhwwZkZWUpt8fExGD//v14/vnnKxzz3XffqXz97bffAgAGDBig3GZqaqpyvrpSPkL075G0FStW1Op8T34/nrx8duDAAcTGxqrsO2LECMjlcixYsKDCeUpLS2v8/g0MDPDnn38iMDAQgwYNQkRERK2yEzV0HAEiauS8vb2xefNmjBw5Eq1atVJZCfr06dP4/fffleveqOPzzz/HgQMH0LVrV7z//vvQ09PDjz/+iKKiIixbtqzK4wRBwIQJE2BsbIzVq1cDAN555x1s374dU6ZMQWhoKFxcXKo8/osvvsCAAQMQEhKCN954A48ePcK3334LS0tLzJs3r8L+CQkJGDx4MPr374/w8HBs3LgRr7zyCtq1a6fcp2PHjjh48CC++uoruLi4wNPTUzmBWZMsLCzQvXt3LFu2DCUlJXB1dcX+/fuRkJBQ63MuXrwYAwcORNeuXTFhwgRkZmbi22+/RevWrVXW5unRowfeeecdLF68GNHR0ejbty/09fURFxeH33//HStXrsTw4cNr9JrGxsbYs2cPevXqhQEDBuDYsWPw8/Or9XsgapDEvQmNiDTlxo0bwltvvSV4eHgIBgYGgrm5udClSxfh22+/VbmVGYAwceLECse7u7tXuFU8KipK6Nevn2BmZiaYmJgIzz33nMrt4YJQ8Tb4lStXCgCE7du3q+x39+5dwcLCQnj++eef+l4OHjwodOnSRTA2NhYsLCyEQYMGCbGxsSr7lN8GHxsbKwwfPlwwNzcXrK2thQ8++EB49OiRyr7Xrl0TunfvLhgbGwsAlO+zqtvgBw4cWCFTZd+3hIQEAYDwxRdfKLfdu3dPGDZsmGBlZSVYWloKL7/8snD//n0BgDB37lzlfjW9DV4QBGH79u1Cq1atBENDQ8HX11f4888/hbFjx1ZYB0gQBGHNmjVCx44dBWNjY8Hc3Fxo06aN8Mknnwj379+v9jX+vQ6QIAhCenq64OvrKzg5OQlxcXFPzUnUmEgEQcOzHomI6sG8efMwf/58PHjwAHZ2dmLHIaJGhnOAiIiISOewACIiIiKdwwKIiIiIdA7nABEREZHO4QgQERER6RwWQERERKRzuBBiJRQKBe7fvw9zc/N6W0KfiIiIno0gCMjNzYWLiwuk0urHeFgAVeL+/ftP7XNEREREDVNiYiKaNGlS7T4sgCphbm4OoOwbWF2/IyIiImo4cnJy4Obmpvwcrw4LoEqUX/aysLBgAURERNTI1GT6CidBExERkc5hAUREREQ6hwUQERER6RwWQERERKRzWAARERGRzmEBRERERDqHBRARERHpHBZAREREpHNYABEREZHO4UrQREREDYRcISAiIRNpuYVwMDdCkKcNZFI25a4LLICIiIgagLCYZMzfHYvk7ELlNmdLI8wd5Iv+fs4iJtNOvARGREQksrCYZLy3MUql+AGAlOxCvLcxCmExySIl014sgIiIiEQkVwiYvzsWQiXPlW+bvzsWckVle1BtsQAiIiISUURCZoWRnycJAJKzCxGRkFl/oXQACyAiIiIRpeVWXfzUZj+qGRZAREREInIwN9LoflQzLICIiIhEFORpA2dLI1R1s7sEZXeDBXna1GcsrccCiIiISEQyqQRzB/lWu8/cQb5cD0jDGkQB9N1338HDwwNGRkYIDg5GRERElfuuXbsW3bp1g7W1NaytrREaGlrp/levXsXgwYNhaWkJU1NTBAYG4u7du3X5NoiIiGqlv58zlrzUttLnZj3fkusA1QHRC6CtW7di2rRpmDt3LqKiotCuXTv069cPaWlple5/9OhRjB49GkeOHEF4eDjc3NzQt29fJCUlKfe5efMmunbtipYtW+Lo0aO4dOkSZs+eDSMjXj8lIqKGyVCv7CPZw9YEK0f5o5NX2SWvxMxHYsbSWhJBEERdWCA4OBiBgYFYtWoVAEChUMDNzQ2TJk3CzJkzn3q8XC6HtbU1Vq1ahTFjxgAARo0aBX19ffz666+1ypSTkwNLS0tkZ2fDwsKiVucgIiJSx7Rt0fgzKgnv9vDGzAEtcSo+Ha/+dBbmhnqI+DQUxgYysSM2eOp8fos6AlRcXIzIyEiEhoYqt0mlUoSGhiI8PLxG5ygoKEBJSQlsbMoqZYVCgf/9739o3rw5+vXrBwcHBwQHB2Pnzp1VnqOoqAg5OTkqDyIiovoiCAJOxqUDALo1swMAhHjZoqmNCXKLSrHn0n0x42klUQug9PR0yOVyODo6qmx3dHRESkpKjc4xY8YMuLi4KIuotLQ05OXlYcmSJejfvz/279+PYcOG4cUXX8SxY8cqPcfixYthaWmpfLi5uT3bGyMiIlLDjdQ8pOUWwUhfio7u1gAAqVSCUUFln0e/RXAOq6aJPgfoWSxZsgRbtmzBjh07lPN7FAoFAGDIkCH48MMP4e/vj5kzZ+KFF17ADz/8UOl5Zs2ahezsbOUjMTGx3t4DERHRibgHAIBgT1sY6f9zqWt4xybQk0oQdTcL11J4dUKTRC2A7OzsIJPJkJqaqrI9NTUVTk5O1R67fPlyLFmyBPv370fbtv/MnLezs4Oenh58fVVvKWzVqlWVd4EZGhrCwsJC5UFERFRfTvzr8lc5B3Mj9PEtu0qyJYK/nGuSqAWQgYEBOnbsiEOHDim3KRQKHDp0CCEhIVUet2zZMixYsABhYWEICAiocM7AwEBcv35dZfuNGzfg7u6u2TdARET0jApL5DibkAEA6NbMvsLzo4OaAgD+jLqHwhJ5vWbTZnpiB5g2bRrGjh2LgIAABAUFYcWKFcjPz8f48eMBAGPGjIGrqysWL14MAFi6dCnmzJmDzZs3w8PDQzlXyMzMDGZmZgCA6dOnY+TIkejevTuee+45hIWFYffu3Th69Kgo75GIiKgqkXceorBEAQdzQzR3NKvwfFcfOzSxNsa9h4+w93IyXuzQRISU2kf0OUAjR47E8uXLMWfOHPj7+yM6OhphYWHKidF3795FcnKycv/Vq1ejuLgYw4cPh7Ozs/KxfPly5T7Dhg3DDz/8gGXLlqFNmzb46aefsH37dnTt2rXe3x8REVF1yi9/dW1mB4mk4mrPUqkEowI5GVrTRF8HqCHiOkBERFRfBn5zAlfu52DFSH8Mbe9a6T6pOYXovOQw5AoBBz7sjmaO5vWcsnFoNOsAERER6bL0vCJcuV92d1cXH7sq93O0MELvlg4AgN84GVojWAARERGJ5FR82eWvVs4WsDc3rHbf0cGPJ0Nf4GRoTWABREREJJLy+T/dm1U9+lOuezN7uFoZI6ugBPuu1GyxYKoaCyAiIiIRPNn+omsNCiCZVIIRAWWToTef5WToZ8UCiIiISATxaXlIySmEoZ4UgR42NTpmRGATSCXA2YRM3HyQV8cJtRsLICIiIhEcfzz6E+Rpo9L+ojrOlsbo9Xgy9BbeEv9MWAARERGJ4OTj/l//bn/xNOUrQ/8ReQ9FpZwMXVssgIiIiOpZUakcZ25lAqi8/UV1ejS3h7OlER4WlGDfldSnH0CVYgFERERUzyLvPMSjEjnszAzR0km9RQ31ZFLlZGheBqs9FkBERET17OQT3d8ra3/xNCMC3SCRAKdvZiAhPV/T8XQCCyAiIqJ6duKJAqg2XK2M0bN52aWzLec4ClQbLICIiIjqUWZ+MWLuZwMo6/ReW8rJ0OfvobhUoZFsuoQFEBERUT06FZ8OQQBaOpnDwcKo1ufp1dIBDuaGyMgvxoFYToZWFwsgIiKienSilre//5ueTIqRgY8nQ/MymNpYABEREdUTQRCU83+6qnn7e2VGBJRNhj4Rl467GQXPfD5dwgKIiIiontx8kI/k7EIY6EkRVMP2F9VxszFRriPEUSD1sAAiIiKqJ+WXv4I8bGBsULP2F0/zSlDZZbBt5++hRM7J0DXFAoiIiKieqNP9vaZ6t3KEnZkh0vOKcOgqJ0PXFAsgIiKielBcqkD4rQwAzz4B+kn6MilGBDQBAGyOSNTYebUdCyAiIqJ6EHX3IQqK5bA1NUArJwuNnrv8brATcQ+QmMnJ0DXBAoiIiKgePHn5SypVv/1FddxtTdHVxw6CAGw7z1GgmmABREREVA/+Wf/n2W9/r0z5ytBbzyWilJOhn4oFEBERUR17mF+MS0nP3v6iOn18HWFraoC03CIcvpZWJ6+hTVgAERER1bHTNzMgCEBzRzM4Wda+/UV1DPSkGP54MvRvEVwT6GlYABEREdWxur78VW5UYNllsKM3HiAp61GdvlZjxwKIiIioDqm2v6iby1/lPO1MEeJlWzYZ+hwnQ1eHBRAREVEdSkjPR1LWIxjIpAj2fPb2F08zOrhsFGjbeU6Grg4LICIiojpUPvoT4GENEwO9On+9fq0dYW2ij+TsQhy78aDOX6+xYgFERERUh+rr8lc5Qz0ZhnfkZOinYQFERERUR0rkCoTfLCuAutfxBOgnjXq8JtDha2lIzuZk6MqwACIiIqojF+5mIb9YDhtTA/g6a7b9RXW87c0Q5GkDhQD8fv5evb1uY8ICiIiIqI6cfHz7excfzbe/eJpXnlgZWq4Q6vW1GwMWQERERHXk+OP5P5rs/l5T/f2cYGmsj6SsRzgex8nQ/8YCiIiIqA5kF5Tg0r0sAOIUQEb6MrzU4fFk6LOcDP1vLICIiIjqwOmb6VAIgI+DGZwtjUXJMDrIDQBw6FoaUnMKRcnQULEAIiIiqgNiXv4q18zRHAHu1pArBPx+nitDP4kFEBERkYaVtb8o7/8lXgEEAKMfT4beci4RCk6GVmIBREREpGF3Mgpw7+Ej6MskCPa0FTXLwLbOsDDSw72Hj3AyPl3ULA0JCyAiIiINKx/96ehuDVPDum9/UR0jfRle7MCVof+NBRAREZGGnVDO/6m/1Z+rM+rxZOgDsalIy+VkaIAFEBERkUaVtb/IACD+/J9yLZ0s0KGpFUoVAv6I5MrQAAsgIiIijbqYmIXcolJYmeijtYul2HGURj2xMjQnQ7MAIiIi0qjyy19dfOwgq+f2F9V5oa0zzA31cCejAOG3MsSOIzoWQERERBpUPgG6ewO5/FXOxEAPQ9u7AgA2czI0CyAiIiJNyX5UgujELABA1wYyAfpJ5WsC7b+SgvS8IpHTiIsFEBERkYaE38yAQgC87E3haiVO+4vq+LpYoJ2bFUrkArbr+GRoFkBEREQa8s/lr4Y3+lNudGDZLfFbziVCEHR3MjQLICIiIg0pnwDd1adhzf950qB2LjA1kCEhPR9nbmWKHUc0LICIiIg04E5GPu5mFkBPKkEnb3HbX1TH1FAPQx5PhtbllaFZABEREWlA+ehPB3drmInc/uJpXnk8GTosJgWZ+cUipxEHCyAiIiINOFne/qIBX/4q5+dqiTauliiWK/BnlG5Ohm4QBdB3330HDw8PGBkZITg4GBEREVXuu3btWnTr1g3W1tawtrZGaGhotfu/++67kEgkWLFiRR0kJyIiAkrlCpy6+bgAat5wJ0A/qbw/2OaIuzo5GVr0Amjr1q2YNm0a5s6di6ioKLRr1w79+vVDWlpapfsfPXoUo0ePxpEjRxAeHg43Nzf07dsXSUlJFfbdsWMHzpw5AxcXl7p+G0REpMMu3stGbmEpLI310ca14bS/qM7gdi4wMZDh1oN8RCTo3mRo0Qugr776Cm+99RbGjx8PX19f/PDDDzAxMcF///vfSvfftGkT3n//ffj7+6Nly5b46aefoFAocOjQIZX9kpKSMGnSJGzatAn6+vr18VaIiEhHnVS2v7BtUO0vqmNupI/B7coGCLacSxQ5Tf0TtQAqLi5GZGQkQkNDldukUilCQ0MRHh5eo3MUFBSgpKQENjY2ym0KhQKvv/46pk+fjtatWz/1HEVFRcjJyVF5EBER1VT5+j/dGvD6P5UpXxn6f5eTkVWgW5OhRS2A0tPTIZfL4ejoqLLd0dERKSkpNTrHjBkz4OLiolJELV26FHp6epg8eXKNzrF48WJYWloqH25ubjV/E0REpNNyCktwobz9RSOYAP2ktk0s4etsgeJSBf6MqjiVRJuJfgnsWSxZsgRbtmzBjh07YGRkBACIjIzEypUrsX79ekgkNRuGnDVrFrKzs5WPxETdGwokIqLaOXMzA3KFAE87U7jZmIgdRy0SiQSjg8tGgX7TscnQohZAdnZ2kMlkSE1NVdmempoKJyenao9dvnw5lixZgv3796Nt27bK7SdOnEBaWhqaNm0KPT096Onp4c6dO/joo4/g4eFR6bkMDQ1hYWGh8iAiIqqJ8vV/ujWw7u81NcTfBcb6MsSl5SHyzkOx49QbUQsgAwMDdOzYUWUCc/mE5pCQkCqPW7ZsGRYsWICwsDAEBASoPPf666/j0qVLiI6OVj5cXFwwffp07Nu3r87eCxER6aby+T+N7fJXOQsjfbzQ1hkA8FuE7lwBEX2pymnTpmHs2LEICAhAUFAQVqxYgfz8fIwfPx4AMGbMGLi6umLx4sUAyub3zJkzB5s3b4aHh4dyrpCZmRnMzMxga2sLW1vVJcj19fXh5OSEFi1a1O+bIyIirZaYWYDbGQWQSSUIacDtL55mdHBT/B55D3su3cecF3xhaaL9d0+LPgdo5MiRWL58OebMmQN/f39ER0cjLCxMOTH67t27SE5OVu6/evVqFBcXY/jw4XB2dlY+li9fLtZbICIiHaVsf9HUCuZGjbdoaO9mhZZO5igqVWBntG5MhpYIujTjqYZycnJgaWmJ7OxszgciIqIqvbcxEn/HpODD0OaYEtpM7DjPZMPp25j71xW0dDLH31O61fhGooZEnc9v0UeAiIiIGiO5QsCp+PL2F41z/s+Thvq7wlBPimspucrb+rUZCyAiIqJauHQvCzmFpTA30kPbRtL+ojqWJvoYWD4Z+uxdkdPUPRZAREREtaBsf+FtBz2ZdnycvvJ4Zeg9l5KRU1gicpq6pR1/Y0RERPVMuf6PFlz+KtfR3RrNHMzwqESOXdH3xY5Tp1gAERERqSmvqBRRd8sWDezm07j6f1VHIpEo+4NtPqvdK0OzACIiIlLTmZsZKFUIcLc1QVPbxtX+4mle7OAKAz0pribn4NK9bLHj1BkWQERERGr6p/u79lz+KmdlYoDn/craUf0Wob2ToVkAERERqal8/k9XLbr89aTyy2B/XbyPvKJSkdPUDRZAREREarj3sAC30vMbffuL6gR52sDL3hQFxXL8paWToVkAERERqaH89nd/NytYGjfe9hfVkUgkylvitfUyGAsgIiIiNfxz+Uv75v886cUOTWAgk+JyUjYua+FkaBZARERENSRXCDh1s6wA6q5F6/9UxsbUAP3KJ0Of075RIBZARERENRSTlI2sghKYG+qhXRMrsePUudFBbgCAXReSkK9lk6FZABEREdXQycfNT0O8bbWm/UV1Qrxs4WFrgvxiOfZc0q7J0Nr/t0dERKQhx288Xv+nuXbe/v5vKitDRySKnEazWAARERHVQL5K+wvtnv/zpJc6NoG+TIKLiVm4cl97JkOzACIiIqqBswkZKJELcLMxhruWtb+ojp2ZIfr6lk2G3qJFo0AsgIiIiGrg+I3H3d+b2UMikYicpn6VXwbbeSEJBcXaMRmaBRAREVENKPt/6dDlr3KdvW3R1MYEuUWl2HMpWew4GsECiIiI6CnuZz3CzQf5kEqAzt66VwBJpRKMenxL/BYtWRmaBRAREdFTlLe/aOdmBUsT7Wx/8TTDOzaBnlSCqLtZuJaSI3acZ8YCiIiI6CmO6/Dlr3IO5kbo4+sIQDsmQ7MAIiIiqoZCIeDU4wUQdWX9n6qMejwZ+s+oe3hULBc5zbNhAURERFSNK/dz8LCgBGaGevB3sxI7jqi6+djB1coYOYWl2Hu5cU+GZgFERERUjRPxZZe/OnnZQl8H2l9URyqVKPuD/dbIJ0Pr9t8kERHRU5y4oRvd32vq5QA3yKQSnL/zEHGpuWLHqTUWQERERFUoKC7F+TuZAICuOjwB+kmOFkbo3dIBAPBbI54MzQKIiIioCmcTMlEiF+BqZQxPO1Ox4zQY5StDb4+6h8KSxjkZmgUQERFRFZ68/KVr7S+q0725PVwsjZD9qARhMSlix6kVFkBERERVKG9/0dVHt29//zeZVIKRgWWjQJsb6WRoFkBERESVSMkuRFxaHiQSoIuPrdhxGpwRgU0glQARCZm4+SBP7DhqYwFERERUifLRn7ZNrGBlYiBymobH2dIYvR5Phm6M/cFYABEREVXixOP+X7rc/uJpRj2+DPZH5D0UlTauydAsgIiIiP5Fpf1FMxZAVenZwh5OFkZ4WFCCfVdSxY6jFhZARERE/xKbnIOM/GKYGsjQvqm12HEaLD2ZFCMCH68MfbZxXQZ7pgKosLBQUzmIiIgajPLLX528bGGgx7GC6owMdINEAoTfykBCer7YcWpM7b9VhUKBBQsWwNXVFWZmZrh16xYAYPbs2fj55581HpCIiKi+nXzc/4uXv57O1coYPZuXLROw5VzjGQVSuwD6/PPPsX79eixbtgwGBv/Mivfz88NPP/2k0XBERET17VGxHOcSHgIAujbj+j81Ub4y9B/n76G4VCFymppRuwD65ZdfsGbNGrz66quQyWTK7e3atcO1a9c0Go6IiKi+RdzORLFcARdLI3jbs/1FTfRq6QAHc0Nk5BfjQGzjmAytdgGUlJQEHx+fCtsVCgVKSko0EoqIiEgsJ26UX/6yZ/uLGtKTSTEi4PFk6EayJpDaBZCvry9OnDhRYfsff/yB9u3bayQUERGRWMonQHfl/B+1lE+GPhmfjjsZDX8ytJ66B8yZMwdjx45FUlISFAoF/vzzT1y/fh2//PIL9uzZUxcZiYiI6kVaTiGup+Y+bn/BAkgdbjYm6NbMHsdvPMDWc4n4pH9LsSNVS+0RoCFDhmD37t04ePAgTE1NMWfOHFy9ehW7d+9Gnz596iIjERFRvSgf/WnjagkbU7a/UNcrQWWXwbadv4cSecOeDK3WCFBpaSkWLVqECRMm4MCBA3WViYiISBT/dH/n6E9t9G7lCDszQ6TnFeHQ1VT093MWO1KV1BoB0tPTw7Jly1BaWlpXeYiIiEShUAg4GZ8BoGwCNKlPXybFywFNAACbIxJFTlM9tS+B9e7dG8eOHauLLERERKK5lpKL9LwimBjI0MHdSuw4jdaox60xTsQ9QGJmgchpqqb2JOgBAwZg5syZuHz5Mjp27AhTU9U1EgYPHqyxcERERPWl/PJXsKcNDPVkT9mbquJua4quPnY4GZ+OrecS8XG/FmJHqpTaBdD7778PAPjqq68qPCeRSCCXy589FRERUT07qez+zstfz2p0UFOcjE/HtvOJmBraDHqyhtdPrVa9wKp6sPghIqLGqLBEjrMJmQDY/0sT+vg6wtbUAGm5RTh8LU3sOJVqeCUZERFRPTt3OxPFpQo4WRjBx8FM7DiNnoGeFMM7lk2GbqgrQ9eqADp27BgGDRoEHx8f+Pj4YPDgwZWuDk1ERNQYlK//062ZHdtfaMjIx5Ohj954gKSsRyKnqUjtAmjjxo0IDQ2FiYkJJk+ejMmTJ8PY2Bi9e/fG5s2baxXiu+++g4eHB4yMjBAcHIyIiIgq9127di26desGa2trWFtbIzQ0VGX/kpISzJgxA23atIGpqSlcXFwwZswY3L9/v1bZiIhI+x1/3P+L7S80x8veDCFethAEYOu5hndLvNoF0MKFC7Fs2TJs3bpVWQBt3boVS5YswYIFC9QOsHXrVkybNg1z585FVFQU2rVrh379+iEtrfJrhkePHsXo0aNx5MgRhIeHw83NDX379kVSUhIAoKCgAFFRUZg9ezaioqKUrTp4dxoREVUmLbcQ11JyAXABRE0bHdwUALDtXCJKG9jK0BJBEAR1DjA0NMSVK1cqdISPj4+Hn58fCgsL1QoQHByMwMBArFq1CkDZJGs3NzdMmjQJM2fOfOrxcrkc1tbWWLVqFcaMGVPpPufOnUNQUBDu3LmDpk2bPvWcOTk5sLS0RHZ2NiwsLNR6P0RE1LjsuHAPH269CD9XC+yZ1E3sOFqlqFSOTosO4WFBCX4eG4DerRzr9PXU+fxWewTIzc0Nhw4dqrD94MGDcHNzU+tcxcXFiIyMRGho6D+BpFKEhoYiPDy8RucoKChASUkJbGxsqtwnOzsbEokEVlZWlT5fVFSEnJwclQcREemGEzced3/34e3vmmaoJ8NLHRrmZGi11wH66KOPMHnyZERHR6Nz584AgFOnTmH9+vVYuXKlWudKT0+HXC6Ho6NqRejo6Ihr167V6BwzZsyAi4uLShH1pMLCQsyYMQOjR4+ushpcvHgx5s+fr1Z2IiJq/ARBwInH6/905/yfOjEqqCl+OpmAw9fSkJz9CM6WxmJHAlCLEaD33nsPW7ZsweXLlzF16lRMnToVMTEx2Lp1K9555526yFilJUuWYMuWLdixYweMjIwqPF9SUoIRI0ZAEASsXr26yvPMmjUL2dnZykdiYsObrEVERJp3PTUXD3KLYKQvRUcPa7HjaCUfBzMEedpAIQDbzt0TO46S2iNAADBs2DAMGzbsmV/czs4OMpkMqampKttTU1Ph5ORU7bHLly/HkiVLcPDgQbRt27bC8+XFz507d3D48OFqrwUaGhrC0NCwdm+CiIgarfLLX8Getmx/UYdeCWqKiIRMbD13Fx/08oFMKv5SA2qPAJ07dw5nz56tsP3s2bM4f/68WucyMDBAx44dVeYUKRQKHDp0CCEhIVUet2zZMixYsABhYWEICAio8Hx58RMXF4eDBw/C1tZWrVxERKQbTsT/s/4P1Z3+fk6wNNbH/exCHH/cc01sahdAEydOrPQSUVJSEiZOnKh2gGnTpmHt2rXYsGEDrl69ivfeew/5+fkYP348AGDMmDGYNWuWcv+lS5di9uzZ+O9//wsPDw+kpKQgJSUFeXl5AMqKn+HDh+P8+fPYtGkT5HK5cp/i4mK18xERkXYqLJHj7K0MAOz/VdeM9GV4sYMrAOC3sw1jMrTal8BiY2PRoUOHCtvbt2+P2NhYtQOMHDkSDx48wJw5c5CSkgJ/f3+EhYUpJ0bfvXsXUuk/ddrq1atRXFyM4cOHq5xn7ty5mDdvHpKSkvDXX38BAPz9/VX2OXLkCHr27Kl2RiIi0j6Rdx6iqFQBB3NDNHdk+4u6NjqoKdaduo2DV1Ox93IySuQKOJgbIcjTRpRLYmoXQIaGhkhNTYWXl5fK9uTkZOjp1WpKET744AN88MEHlT539OhRla9v375d7bk8PDyg5tJGRESkg8ovxXRrZs/2F/WguaM5vO1NcfNBPt7fFKXc7mxphLmDfNHfz7le86h9Caxv377Ku6bKZWVl4T//+Q/69Omj0XBERER1pXwCNOf/1I+wmGTcfJBfYXtKdiHe2xiFsJjkes2j9pDN8uXL0b17d7i7u6N9+/YAgOjoaDg6OuLXX3/VeEAiIiJNS88rQmxy2aK3Xdj+os7JFQLm7658mowAQAJg/u5Y9PF1qrfLYWoXQK6urrh06RI2bdqEixcvwtjYGOPHj8fo0aOhr69fFxmJiIg06tTju798nS1gb85lUOpaREImkrOrbpUlAEjOLkREQiZCvOvnzu1aTdoxNTXF22+/reksRERE9eI4L3/Vq7TcmvUJrel+mlDjOUA3btxARESEyrZDhw7hueeeQ1BQEBYtWqTxcERERJomCAJOxv8zAZrqnoN5xW4Nz7KfJtS4AJoxYwb27Nmj/DohIQGDBg2CgYEBQkJCsHjxYqxYsaIuMhIREWlMXFoeUnOKYKgnRQDbX9SLIE8bOFsaoarZPRKU3Q0W5Fl1Y3NNq3EBdP78eQwYMED59aZNm9C8eXPs27cPK1euxIoVK7B+/fq6yEhERKQxx2+Ujf4EedrASJ/tL+qDTCrB3EG+AFChCCr/eu4g33pdD6jGBVB6ejqaNGmi/PrIkSMYNGiQ8uuePXs+dY0eIiIisZ1Udn/n5a/61N/PGatf6wAnS9XLXE6WRlj9Wod6XweoxpOgbWxskJycDDc3NygUCpw/fx7Tpk1TPl9cXMwFCImIqEErKpXjzOP2F105Abre9fdzRh9fJ0QkZCItt7BxrATds2dPLFiwAN9//z1+//13KBQKlbYSsbGx8PDwqIOIREREmhF55yEKSxSwMzNESydzsePoJJlUUm+3ulenxgXQwoUL0adPH7i7u0Mmk+Gbb76Bqamp8vlff/0VvXr1qpOQREREmnAirvzylx3bX+i4GhdAHh4euHr1Kq5cuQJ7e3u4uLioPD9//nyVOUJEREQNzYnH/b94+YvUWghRT08P7dq1q/S5qrYTERE1BBl5Rbhyv6z9RVe2v9B5ajdDJSIiaoxO3cyAIAAtnczhYFF/C+5Rw8QCiIiIdMKJG+WrP3P0h1gAERGRDihrf1He/4vr/xALICIi0gE3H+QhObsQBnrSem23QA1XrQqgEydO4LXXXkNISAiSkpIAlN0Gf/LkSY2GIyIi0oTy7u9BHmx/QWXULoC2b9+Ofv36wdjYGBcuXEBRUREAIDs7mx3hiYioQfrn8hfn/1AZtQugzz//HD/88APWrl0LfX195fYuXbogKipKo+GIiIieVVGpHOE32f6CVKldAF2/fh3du3evsN3S0hJZWVmayERERKQxUXey8KhEDjszA7RyshA7DjUQahdATk5OiI+Pr7D95MmT8PLy0kgoIiIiTTkZ/3j1Zx87SEVoukkNk9oF0FtvvYUpU6bg7NmzkEgkuH//PjZt2oSPP/4Y7733Xl1kJCIiqrXy/l9defs7PUGtVhgAMHPmTCgUCvTu3RsFBQXo3r07DA0N8fHHH2PSpEl1kZGIiKhWHuYX43JSNgBOgCZVahdAEokEn376KaZPn474+Hjk5eXB19cXZmZmdZGPiIio1k7dTIcgAC0czeHI9hf0BLUvgU2YMAG5ubkwMDCAr68vgoKCYGZmhvz8fEyYMKEuMhIREdXKiRvll784+kOq1C6ANmzYgEePHlXY/ujRI/zyyy8aCUVERPSsVNtfsAAiVTW+BJaTkwNBECAIAnJzc2Fk9M9Qolwux969e+Hg4FAnIYmIiNR1Kz0fSVmPYCCTItjTVuw41MDUuACysrKCRCKBRCJB8+bNKzwvkUgwf/58jYYjIiKqrfLu7wEe1jA2YPsLUlXjAujIkSMQBAG9evXC9u3bYWPzTzM5AwMDuLu7w8XFpU5CEhERqYvd36k6NS6AevToAQBISEhA06ZNIZFUXEzq7t27aNq0qebSERER1UJxqULZ/oLzf6gyak+C9vLywoMHDypsz8jIgKenp0ZCERERPYsLdx8iv1gOG1MD+Dqz/QVVpHYBJAhCpdvz8vJUJkYTERGJpfzyF9tfUFVqfAls2rRpAMomO8+ZMwcmJibK5+RyOc6ePQt/f3+NByQiIlLX8Tiu/0PVq3EBdOHCBQBlI0CXL1+GgYGB8jkDAwO0a9cOH3/8seYTEhERqSGroBiX72UB4Pwfqppad4EBwPjx47Fy5UpYWPCaKhERNTynb2ZAIQDNHMzgbGksdhxqoNSeA7Ru3TpYWFggPj4e+/btU64KXdXcICIiovp0Iq7sRh1e/qLqqF0AZWZmonfv3mjevDmef/55JCcnAwDeeOMNfPTRRxoPSEREVFOCIOD44/5f3bn+D1VD7QJo6tSp0NfXx927d1UmQo8cORJhYWEaDUdERKSO2xkFSMp6BH2ZBMFeNk8/gHRWjecAldu/fz/27duHJk2aqGxv1qwZ7ty5o7FgRERE6iq//NXR3RomBmp/xJEOUXsEKD8/X2Xkp1xmZiYMDQ01EoqIiKg2TsSx/QXVjNoFULdu3fDLL78ov5ZIJFAoFFi2bBmee+45jYYjIiKqqRI5219Qzak9Prhs2TL07t0b58+fR3FxMT755BNcuXIFmZmZOHXqVF1kJCIieqroxCzkFZXC2kQfrV0sxY5DDZzaI0B+fn64ceMGunbtiiFDhiA/Px8vvvgiLly4AG9v77rISERE9FTll7+6+NhBxvYX9BS1miFmaWmJTz/9VNNZiIiIaq18AjQvf1FNqF0AHT9+vNrnu3fvXuswREREtZH9qAQXE7MAAF05AZpqQO0CqGfPnhW2SST/DDXK5fJnCkRERKSu8JvpUAiAt70pXK3Y/oKeTu05QA8fPlR5pKWlISwsDIGBgdi/f39dZCQiIqrWcd7+TmpSewTI0rLizPo+ffrAwMAA06ZNQ2RkpEaCERER1dRJZQHE+T9UM2qPAFXF0dER169f19TpiIiIauRORj7uZhZAXyZBJy9bseNQI6F2AXTp0iWVx8WLFxEWFoZ3330X/v7+tQrx3XffwcPDA0ZGRggODkZERESV+65duxbdunWDtbU1rK2tERoaWmF/QRAwZ84cODs7w9jYGKGhoYiLi6tVNiIiatjKL3+1b2oNU0O2v6CaUbsA8vf3R/v27eHv76/88/PPP4/i4mL89NNPagfYunUrpk2bhrlz5yIqKgrt2rVDv379kJaWVun+R48exejRo3HkyBGEh4fDzc0Nffv2RVJSknKfZcuW4ZtvvsEPP/yAs2fPwtTUFP369UNhYaHa+YiIqGE7+fj29+68/EVqkAiCIKhzwL8bnkqlUtjb28PIyKhWAYKDgxEYGIhVq1YBABQKBdzc3DBp0iTMnDnzqcfL5XJYW1tj1apVGDNmDARBgIuLCz766CN8/PHHAIDs7Gw4Ojpi/fr1GDVq1FPPmZOTA0tLS2RnZ8PCwqJW74uIiOpeqVyB9p8dQG5RKXZO7AJ/NyuxI5GI1Pn8VnsEyN3dXeXh5uZW6+KnuLgYkZGRCA0N/SeQVIrQ0FCEh4fX6BwFBQUoKSmBjY0NACAhIQEpKSkq57S0tERwcHCNz0lERI3DxXtZyC0qhaWxPtq4sv0F1VytJkEfO3YMgwYNgo+PD3x8fDB48GCcOHFC7fOkp6dDLpfD0dFRZbujoyNSUlJqdI4ZM2bAxcVFWfCUH6fOOYuKipCTk6PyICKihq+8/UVXtr8gNaldAG3cuBGhoaEwMTHB5MmTMXnyZBgbG6N3797YvHlzXWSs0pIlS7Blyxbs2LGj1qNQALB48WJYWloqH25ubhpMSUREdUVZAHH+D6lJ7QJo4cKFWLZsGbZu3aosgLZu3YolS5ZgwYIFap3Lzs4OMpkMqampKttTU1Ph5ORU7bHLly/HkiVLsH//frRt21a5vfw4dc45a9YsZGdnKx+JiYlqvQ8iIqp/OYUliC5vf+HDAojUo3YBdOvWLQwaNKjC9sGDByMhIUGtcxkYGKBjx444dOiQcptCocChQ4cQEhJS5XHLli3DggULEBYWhoCAAJXnPD094eTkpHLOnJwcnD17tspzGhoawsLCQuVBREQNW/jNDMgVArzsTOFmYyJ2HGpk1F4wwc3NDYcOHYKPj4/K9oMHD9bq0tG0adMwduxYBAQEICgoCCtWrEB+fj7Gjx8PABgzZgxcXV2xePFiAMDSpUsxZ84cbN68GR4eHsp5PWZmZjAzM4NEIsHUqVPx+eefo1mzZvD09MTs2bPh4uKCoUOHqp2PiIgapvLu77z8RbWhdgH00UcfYfLkyYiOjkbnzp0BAKdOncL69euxcuVKtQOMHDkSDx48wJw5c5CSkgJ/f3+EhYUpJzHfvXsXUuk/A1WrV69GcXExhg8frnKeuXPnYt68eQCATz75BPn5+Xj77beRlZWFrl27Iiws7JnmCRERUcNykv2/6BmovQ4QAOzYsQNffvklrl69CgBo1aoVpk+fjiFDhmg8oBi4DhARUcN2N6MA3b84Aj2pBBfm9IG5kb7YkagBUOfzu1Zrhg8bNgzDhg2rVTgiIqJndSK+7PJX+6ZWLH6oVmrdNKW4uBhpaWlQKBQq25s2bfrMoYiIiKrDy1/0rNQugOLi4jBhwgScPn1aZbsgCJBIJJDL5RoLR0RE9CS5QkD4zXQcvV7WLzLEm93fqXbULoDGjRsHPT097NmzB87OzpBIuPImERHVvbCYZMzfHYvk7H8aW0/afAHzBvuiv5+ziMmoMVJ7ErSpqSkiIyPRsmXLusokOk6CJiJqWMJikvHexij8+wOr/Ffw1a91YBFEddsM1dfXF+np6bUOp8vKhm4zsCs6SbmAFxERVU+uEDB/d2yF4geActv83bH8P5XUUqNLYE82B126dCk++eQTLFq0CG3atIG+vurse46YVK6yoVtnSyPMHcShWyKi6kQkZKr83/lvAoDk7EJEJGRyThDVWI0KICsrK5W5PoIgoHfv3ir7cBJ01aoauk3JLsR7G6M4dEtEVI203KqLn9rsRwTUsAA6cuRIXefQWk8bupWgbOi2j68TZFJOKCci+jcH85qt4l/T/YiAGhZAPXr0qOscWotDt0REzybI0wZOFkZIyan8/1IJACdLIwR52tRvMGrUalQAXbp0qcYnbNu2ba3DaCMO3RIRPRuZVIKuPrb4IyqpwnPl4+ZzB/lyFJ3UUqMCyN/fHxKJBE+7Y55zgCri0C0R0bO5n/UIe2NSAACWxvrIflSifM6JN5NQLdWoAEpISKjrHForyNMGzpZGSMkurHQeEIduiYiqN++vKygoliPA3Rq/vdUJ5+88RFpuIRzMy/7v5MgP1UaNCiB3d/e6zqG1ZFIJ5g7yxXsboyABKi2COHRLRFS5A7Gp2B+bCj2pBAuHtYG+npTzJUkjalQA/fXXXxgwYAD09fXx119/Vbvv4MGDNRJMm/T3c8bq1zpUWAcIABa96MehWyKiShQUl2LeX1cAAG9280ILJ3ORE5E2qVEBNHToUKSkpMDBwQFDhw6tcj/OAapafz9n9PF1QkRCJtJyC/HD0Zu4mpKL6yl5YkcjImqQVhyMQ1LWI7haGWNybx+x45CWqVEBpFAoKv0zqUcmlSiHbm1NDfHaz2fxW8RdTHzOB/bmhiKnIyJqOK4m5+Dnk2XzTxcMbQ0TA7V7dxNVS+1eYKQZXXxs4e9mhaJSBX46eUvsOEREDYZCIeA/Oy5DrhAwwM8JvVo6ih2JtFCNC6Dw8HDs2bNHZdsvv/wCT09PODg44O2330ZRUZHGA2oriUSiHNLdGH4HD/OLRU5ERNQw/HbuLi7czYKpgQxzBvmKHYe0VI0LoM8++wxXrlxRfn358mW88cYbCA0NxcyZM7F7924sXry4TkJqq+daOMDX2QL5xXKsO31b7DhERKJ7kFuEpX9fAwB81LcFnC2NRU5E2qrGBVB0dLRKA9QtW7YgODgYa9euxbRp0/DNN99g27ZtdRJSW0kkEkzqVTYKtO5UAnIKS55yBBGRdlv4v1jkFJbCz9UCY0K4BAvVnRoXQA8fPoSj4z/XYY8dO4YBAwYovw4MDERiYqJm0+mAfq2d4ONghtzCUvwafkfsOEREojkZl46d0fchkQALh7aBnozTVKnu1Piny9HRUbkidHFxMaKiotCpUyfl87m5udDX19d8Qi0nlUrwwXNlo0A/nbiFguJSkRMREdW/whI5Zu+KAQCM6eSOdm5W4gYirVfjAuj555/HzJkzceLECcyaNQsmJibo1q2b8vlLly7B29u7TkJquxfaOsPd1gQPC0qw+exdseMQEdW71UdvIiE9Hw7mhvioXwux45AOqHEBtGDBAujp6aFHjx5Yu3Yt1q5dCwMDA+Xz//3vf9G3b986Cant9GRSTOxZNgr04/FbKCzhYpJEpDtuPcjD6qM3AQBzBvnCwohXE6ju1XhlKTs7Oxw/fhzZ2dkwMzODTCZTef7333+HmZmZxgPqiqHtXbHyUNmqp9vOJ2JMiIfYkYiI6pwgCPi/nTEolivQo7k9BrZhayCqH2rPMLO0tKxQ/ACAjY2NyogQqcdAT4p3e3gBAH44ehPFpVxxm4i0387oJJy+mQFDPSkWDPGDRMLG0FQ/OMW+AXk5wA325oa4n12IHRfuiR2HiKhOZReU4PM9VwEAk3s3Q1NbE5ETkS5hAdSAGOnL8E73slGg74/eRKmco0BUv+QKAeE3M7ArOgnhNzMgVwhiRyIttiTsGjLyi+HjYIa3unmJHYd0DLvLNTCvBDfF90dv4k5GAfZcSsbQ9q5iRyIdERaTjPm7Y5GcXajc5mxphLmDfNHfj/MySLMi72Tit4iyu14XDvWDgR5/H6f6xZ+4BsbEQA9vdPUEAKw6Eg8FfwOnehAWk4z3NkapFD8AkJJdiPc2RiEsJlmkZKSNSuQKfLqjbM2flzs2QbCXrciJSBexAGqAxoS4w8JID/FpeQi7kiJ2HNJycoWA+btjUVmpXb5t/u5YXg4jjfnvyQRcS8mFtYk+Zj3fSuw4pKNYADVA5kb6GNelbBTo28PxEAR+8FDdiUjIrDDy8yQBQHJ2ISISMusvFGmtew8LsOJgHABg1vOtYGPKu4dJHCyAGqjxnT1gaiDD1eQcHL6WJnYc0mLhN9NrtF9abtVFElFNCIKAubuu4FGJHEGeNni5YxOxI5EOYwHUQFmbGuC1x52QOQpEdeFiYhZe//ksvjkcX6P9HcyN6jgRabt9V1Jx6Foa9GUSLBrGNX9IXCyAGrA3u3rBSF+K6MQsnIrPEDsOaYlrKTl4+5fzGPLdKZyIS4dMApgYVFzctJwEZXeDBXna1F9I0jp5RaWY99cVAMDb3b3g42AuciLSdSyAGjB7c0OMDmoKAPj2cJzIaaixS0jPx+TfLmDAyhPYH5sKqQR4qUMTHJ3+HL4a0Q4SlBU7/yYAmDvIFzIpf1un2vv6wA2k5BSiqY0JJvVqJnYcIq4D1NC93d0Lm87cxdmETEQkZPK3cFJbUtYjfHMwDn9E3VPeyTWwjTM+7NNM+Vu4m40JVr/WocI6QADQrZkd1wGiZxKTlI11pxIAAJ8NaQ0j/apHHInqCwugBs7Z0hjDA5pg89m7+PZwHH59I1jsSNRIpOUW4vsjN7H57F0UP15VvFdLB0zr0xx+rpYV9u/v54w+vk6ISMhEWm4hMvKK8Nmeqzh9MwPxaXnwcWCzY1KfXCHg0x2XoRCAgW2d0bOFg9iRiACwAGoU3uvhja3nEnEiLh3RiVnwd7MSOxI1YFkFxfjh2C1sOH0bj0rkAIAQL1t83K8FOrpbV3usTCpBiPc/i9KdvpmJg1dTsSzsGtaMCajT3KSdNp+9g4v3smFuqIe5L/iKHYdIiXOAGgE3GxMM9S9ribGqhnfskO7JLSzByoNx6Lb0CH44dhOPSuRo39QKm98Mxm9vd3pq8VOZmQNaQCoB9sem4vxtrgNE6knLKcSysOsAgOn9W8DBgncSUsPBAqiReP85b0gkwMGrqYi9nyN2HGpACkvkWHP8JrovO4KvD95AblEpWjlb4OexAfjzvc7o7GNX63P7OJhjZGDZRPxFe69yOQZSy2d7YpFbVIq2TSzxarC72HGIVLAAaiS87c3wQlsXAMB3RzkKREBxqQK/hN9G92VHsGjvNTwsKIGXvSlWvdIe/5vUFb1bOWpknZUPQ5vBWF+GqLtZ2MfWLFRDx248wJ5LyZBKgEXD2vAuQmpwWAA1IhOf8wYA7L2cjPi0XJHTkFhK5QpsO5+I55YfxZxdV5CWW4Qm1sb4Ynhb7J/aHS+0dYFUgx82DhZGeKtbWWuWpWHXUfJ4QjVRVQpL5Ji9s6zZ6bjOnpVOuicSGwugRqSlkwX6+jpCEIDvj9wUOw7VM4VCwO6L99F3xXF88sclJGU9goO5IRYMaY3DH/XEywFu0JPVzT/pt3t4w9bUAAnp+dgScbdOXoO0x6rD8bibWQAnCyNM69tc7DhElWIB1Mh80MsHALDr4n3cycgXOQ3VB0EQcDA2FQO/PYlJv13ArQf5sDbRx3+eb4lj05/D6yEeMNCr23/KZoZ6mBpatnjdykNxyCsqrdPXo8YrPi0XPx4v+wVt3mBfmBnyZmNqmFgANTJtm1ihR3N7yBUCfjjGUSBtdyo+HcO+P403fzmPq8k5MDfUw4ehzXH8k+fwdndvGFfTwkLTRgU1haedKdLzirHm+K16e11qPARBwKc7YlAiF9C7pQP6tXYSOxJRlVgANUKTHo8C/RF5D/ezHomchupC5J1MjF5zBq/+dBbRiVkw1pfhvZ7eODHjOUwJbQZzI/16z6Qvk+KTfi0AAGuP30JaDrvDk6o/Iu/hbEImjPSlmDe4NZudUoPGAqgRCvCwQScvG5TIBf4mrmVikrIxfl0EXlodjvBbGTCQSTGusweOfdITM/q3hJWJgaj5+vs5oX1TKzwqkePrg+xPR/94mF+MRXuvAgCmhjaHm42JyImIqscCqJGa/LiZ4G8Rd5GWy9/EG7v4tFy8vykSL3x7EkeuP4BMKsGoQDccmd4T8wa3hoN5w1hATiKR4D/PtwIAbD13l3cjktLiv6/iYUEJWjia442unmLHIXoqFkCNVIi3LTo0tUJRqQI/nUgQOw7V0t2MAkzbFo2+Xx/H3sspkEiAIf4uODitB5a81BauVsZiR6wg0MMGfX0doRDKbosnikjIxLbz9wAAi170g34d3Y1IpEmi/5R+99138PDwgJGREYKDgxEREVHlvleuXMFLL70EDw8PSCQSrFixosI+crkcs2fPhqenJ4yNjeHt7Y0FCxZo3Qq2EokEkx6PAm08cweZ+cUiJyJ1pGQX4tMdl9Hry6P4MyoJCgHo6+uIv6d0w8pR7eFpZyp2xGp90r8lZFIJDsSmIiKBLTJ0WXGpAp/uuAwAGB3kho7uNiInIqoZUQugrVu3Ytq0aZg7dy6ioqLQrl079OvXD2lpaZXuX1BQAC8vLyxZsgROTpXfXbB06VKsXr0aq1atwtWrV7F06VIsW7YM3377bV2+FVH0bGGP1i4WKCiWY90pjgI1Bhl5Rfh8Tyx6fHEEm87eRalCQLdmdtg1sQvWjAlASycLsSPWiI+DGUYGugFgiwxdt/bELcSl5cHW1AAz+rcUOw5RjUkEEf/nCg4ORmBgIFatWgUAUCgUcHNzw6RJkzBz5sxqj/Xw8MDUqVMxdepUle0vvPACHB0d8fPPPyu3vfTSSzA2NsbGjRtrlCsnJweWlpbIzs6GhUXD/kAKi0nGuxujYG6oh5Mze8HSuP7vDqKny35UgrXHb+G/pxJQUFzWoT3Qwxof922BYC/bpxzdMKXlFqLnF0dRUCzH9692wPNtnMWORPXsbkYB+nx9DEWlCnw1oh1e7NBE7Eik49T5/BZtBKi4uBiRkZEIDQ39J4xUitDQUISHh9f6vJ07d8ahQ4dw48YNAMDFixdx8uRJDBgw4JkzN0R9fZ3Q3NEMuUWl+DX8tthx6F/yi0rx3ZF4dFt6GKuOxKOgWI42rpZYPz4Q294JabTFDwA4mBvhrW5eAIBlYdfYIkPHCIKA2btiUFSqQGdvWwxr7yp2JCK1iLZEZ3p6OuRyORwdHVW2Ozo64tq1a7U+78yZM5GTk4OWLVtCJpNBLpdj4cKFePXVV6s8pqioCEVFRcqvc3IaT7d1qVSCic/5YMqWaPx8MgHju3jClCuviq6wRI5NZ+9i9dF4pOeVzc9q7miGaX1aoF9rzTQpbQje6u6FTWfv4nZGAX6LuIsxIR5iR6J6svdyCo7deAADmRQLhvppzc806Q7RJ0Fr2rZt27Bp0yZs3rwZUVFR2LBhA5YvX44NGzZUeczixYthaWmpfLi5udVj4mf3QlsXeNqZ4mFBCTadvSN2HJ1WIldg89m7eG75USzYE4v0vGK425pgxUh//D2lO/r7OWnVB4VKi4yDccgtLBE5EdWHnMISzN99BQDwbk9veNubiZyISH2iFUB2dnaQyWRITU1V2Z6amlrlBOeamD59OmbOnIlRo0ahTZs2eP311/Hhhx9i8eLFVR4za9YsZGdnKx+JiYm1fn0xyKQSvNezrFP8muMJKCyRi5xIO8kVAsJvZmBXdBLCb2ZArhBUnttx4R5CvzqG/+y4jOTsQjhbGmHxi21wcFoPDG3vCpkGO7Q3JCMD3eBlZ4qMfLbI0BVf7b+BtNwieNqZ4v3H//cQNTaiXSsxMDBAx44dcejQIQwdOhRA2SToQ4cO4YMPPqj1eQsKCiCVqtZ1MpkMCkXV8xMMDQ1haGhY69dsCIa1d8XKg3FIynqErecSMbazh9iRtEpYTDLm745FcvY/i046Wxphzgu+kEiAL/ffQFxaHgDAzswA7/f0wSvBTWGkX3+9usSiL5Pik/4t8e7GSKw9cQuvdXKHo0XDWLiRNO/SvSxseDzfcMEQP534GSftJOpkkWnTpmHs2LEICAhAUFAQVqxYgfz8fIwfPx4AMGbMGLi6uipHb4qLixEbG6v8c1JSEqKjo2FmZgYfn7L+WIMGDcLChQvRtGlTtG7dGhcuXMBXX32FCRMmiPMm64m+TIp3e3pj9s4Y/HDsJkYHNa3zDuG6IiwmGe9tjMK/b5dMzi7Ee5uilF9bGOnhnR7eGNfZQ+fmYfVr7YiO7taIvPMQXx+4gSUvtRU7EtWBUrkC/9lxGYJQtmBn12Z2YkciqjVRb4MHgFWrVuGLL75ASkoK/P398c033yA4OBgA0LNnT3h4eGD9+vUAgNu3b8PTs+IS6z169MDRo0cBALm5uZg9ezZ27NiBtLQ0uLi4YPTo0ZgzZw4MDGrWR6kx3Qb/pMISObovO4K03CIsebENRgU1FTtSoydXCOi69LDKyM+/SQC8/5w33u7urdPLEETeycRLq8MhlQD7pnZHM0dzsSORhq07lYD5u2NhYaSHQx/1hL154x45J+2jzue36AVQQ9RYCyAA+PlkAhbsiUVTGxMc/qgH9Lgk/TMJv5mB0WvPPHW/397qhBDvxntLu6a8+2skwq6kILSVA34aGyh2HNKglOxChH51DHlFpVg4zA+vBruLHYmogkaxDhDVjdFBbrA1NcDdzAL8dfG+2HEavZo2mmVD2jLT+7eATCrBwatpOHMrQ+w4pEHzd19BXlEp2je1wuhAji5T48cCSMuYGOjhjW5llwm/OxKvcqcSqa+mXdgbSrd2sXnbm2F0UNkyEovZIkNrHL6Wir9jUiCTSrBoWBtItfSORtItLIC00Oud3GFhpIebD/IRFpMidpxGLcjTBramVc8dk6DsbrAgTzaALDeld3OYGMhw8V42/nc5Wew49IweFcsxZ1fZmj9vdPVEK+fGNS2AqCosgLSQuZE+xncpGwX69nAcfwt/BnczC6pcV6n8d+C5g3y1do2f2rA3N8Q73cvWhvli33UUl7JFRmO28lAc7j18BBdLI0zp3UzsOEQawwJIS43v4gFTAxmupeTi0NU0seM0Sul5RRi3LgL5xXK425rA0UL1jhcnSyOsfq0D+vuxCei/vdnNE/bmhriTUYDNXJ280bqekoufTpQtbjl/iJ/OLe9A2o0/zVrKysQAYzp7YPXRm/j2cBx6t3LQqhYMde1RsRxvbDiPOxkFcLMxxh/vdoaNqQEiEjKRllsIB/Oyy14c+amc6eMWGZ/uiME3h+PxYscmsDDS3SUCGiOFQsCnOy6jVCGgr68j+vg6Pv0gokaEI0Ba7I2unjDSl+LivWyciEsXO06jIVcImLzlAi4mZsHKRB/rxwfB3twQMqkEId62GOLvihBvWxY/TzEywA1e9qbIzC/Gj8duih2H1LTtfCLO33kIEwMZ5g1uLXYcIo1jAaTF7MwM8UpQ2Vodqw7Hi5ymcRAEAfN3X8GB2FQY6Enx05gANnqsJT2ZFDP7twRQtj5VSjWLSVLDkpFXhMV/XwMATOvTHC5WxiInItI8FkBa7u3uXjCQSRFxOxNnuS7LU605fgu/hN+BRAKsGOmPAA/e3fUs+vg6ItDDGoUlCnx94IbYcaiGFu69iuxHJWjlbIFx7CtIWooFkJZzsjTCywFNAACrjnAUqDp/Xbyv/K330+db4fk2nNz8rCQSCWY93woA8HtkIq6n5IqciJ7m9M10/BmVBIkEWDTMj6vJk9biT7YOeLeHN/SkEpyIS8eFuw/FjtMgnbmVgY+3XQRQdgfdm928RE6kPTo0tcYAPycoBGBp2DWx41A1ikrl+L+dMQCAV4Obon1Ta5ETEdUdFkA6wM3GBMPauwLgXKDKxKXm4u1fzqNYrkD/1k74v4G+YkfSOtP7tYCeVILD19Jw+iYn5DdUPx67hVsP8mFnZojp/VqKHYeoTrEA0hHv9fSGVAIcupaGmKRsseM0GGk5hRi37hxyCkvR0d0aK0b58+6uOuBlb4ZXgsv6Ry35+xoUbNHS4CSk5ysvk89+oRUsjblsAWk3FkA6wsveDC+0dQEAfH+Uo0AAkF9UigkbziEp6xE87UyxdkwAjPRlYsfSWpN7N4OpgQyX2CKjwREEAXN2xaC4VIFuzewwuJ2L2JGI6hwLIB0y8TkfAMDfMSmIS9XtyailcgUmbo5CTFIObE0NsH58IGyq6flFz87OzBDv9ihrkbFs3zUUlVbeYoTq318X7+NEXDoM9KRYMMSPi6aSTmABpENaOJmjX2tHCALw/VHdXZhOEAT8384YHL3+AEb6Uvw8LhDutqZix9IJb3TzhIO5IRIzH2HTmbtixyEA2Y9KsGDPVQDAB8/5wMOO/xZIN7AA0jEfPFfWzHBXdBLuZOSLnEYcqw7HY8u5REglwKrRHeDvZiV2JJ1hYqCHD/s0B1DWqDf7UYnIieiLfdeQnlcEL3tTvNODdz+S7mABpGPaNLHEcy3soRCA74/o3ijQ9sh7+PLxgnzzh/ghlP2N6t3LHZvAx8EMDwtK8ANbZIjqwt2H2HS2bCRu4dA2MNTjHDjSHSyAdNAHvcpGgbZH3UNS1iOR09Sfk3HpmLH9EoCytZFe7+QuciLd9GSLjP+eTEBytu78DDYkpXIF/rMjBoIAvNihrL8dkS5hAaSDOrpbo7O3LUoVgs40qbyanIN3N0aiVCFgcDsXfNKvhdiRdFrvVg4I8rRBUakCX+1niwwxrD99G1eTc2Bloo9PH6/WTaRLWADpqA96ld0RtuVcItJytLtJZXL2I4xfdw55RaXo5GWDL15uCynX+hGVRCLBrAFlo0B/RN3DtZQckRPplqSsR/jq8aXgWQNawtbMUORERPWPBZCOCvGyRUd3axSXKrD2xC2x49SZnMISjPvvOaTkFKKZgxl+fD2A8xwaiPZNrTGwjTMEoWxxRKo/8/+6goJiOQLcrfFyRzex4xCJggWQjpJIJMpRoI1n7iIzv1jkRJpXXKrAexsjcT01Fw7mhlg/IYir2zYw5S0yjl5/gNPxbJFRHw7EpmJ/bCr0pBIserENR0NJZ7EA0mE9m9ujjaslHpXI8fNJ7RoFEgQBM7dfwqn4DJgayPDfcYFwtTIWOxb9i4edKV57PBl9MVtk1Ln8olLM3VXW7PSt7l5o7mguciIi8bAA0mFPjgJtOH0H2QXasybLl/tv4M8LSZBJJfj+tY7wc7UUOxJVYVIvH5gZ6uFyUjZ2X7ovdhyttvJQHO5nF6KJtTEmP74blEhXsQDScX1aOaKFoznyikqxIfy22HE0YvPZu8qmjouHtUGP5vYiJ6Lq2JoZ4t3HC/B9se86W2TUkdj7Ofj5ZAIAYMEQPxgbcC4c6TYWQDpOKpVg4uNRoP+eSkBeUanIiZ7NkWtpmP14iH9y72YYEcgJno3BG1294GhhiHsPH+HX8Dtix9E6CoWAT3dehlwh4Pk2TniupYPYkYhExwKIMLCNMzztTJFVUIJNZxrvh8/le9mYuDkKcoWA4R2b4MNQDvE3FsYGMkx73CJj1ZF4tsjQsN/O3cWFu1kwM9TDnBdaix2HqEFgAUSQSSV4v2dZl+61J26hsKTxXYJIzCzA+PXnUFAsR7dmdlj8Yht2tG5kXurQBM0dzZBVUILVOtysV9Me5BZh6eNlBj7q2xxOlkYiJyJqGFgAEQBgaHtXNLE2RnpeMX6LaFxdurMKijFuXQTS84rQytkC37/aAfoy/mg3NnoyKWaUt8g4laBTbVrq0uf/i0VOYSnauFpiTIiH2HGIGgx+ShAAQF8mxXuPR4F+PHar0UxELSyR4+1fInHzQT6cLY2wblwgzI241k9j1aulA4I9bVDMFhkacTIuHbui70MqARYO84OMa/4QKbEAIqXhHZvA0cIQKTmF2B6ZJHacp1IoBHz0+0VE3M6EuZEe1o8P4vB+IyeRSDDrcV+qPy/cQ+x9tshQl1whIPxmBv6ITMTHv18EAIwJ8UDbJlbiBiNqYFgAkZKhngzvdC8bBfr+aDxK5AqRE1VvSdg1/O9SMvRlEvz4eke0cOKibtrA380KL7R93CIjjC0y1BEWk4yuSw9j9Noz+Pj3S0jJKYRUArRrwnWwiP6NBRCpGB3UFLamBrj38BH+im64i9JtOH0ba46XrV79xfB26OxtJ3Ii0qTp/VpAXybB8RsPcDKOLTJqIiwmGe9tjEJytmpzY4UATNt2EWExySIlI2qYWACRCmMDGd7sVrYo3XdH4yFvgK0J9l1JwbzdVwCUfVAObe8qciLSNHdbU7waXN4i4ypbZDyFXCFg/u5YVPddmr87tkH+eyYSCwsgquD1EHdYGuvj1oN87L3csH5rjLr7EJN/uwBBAF4Jbqq8fZ+0z6RePjA31MOV+zn462LDHY1sCCISMiuM/DxJAJCcXYiIhMz6C0XUwLEAogrMDPUwoYsnAGDV4fgG89v37fR8vLnhPIpKFejd0gGfDW7NtX60mK2ZId59XOB+se96o1yfqr6k5VZd/NRmPyJdwAKIKjWuswfMDPVwPTUXB6+mih0HGXlFGLsuApn5xWjbxBLfvtIeelzrR+tN6OIJJwsjJGWxRUZVSuQKHL/xoEb7OpjzLkmicvwEoUpZmuhjTEjZHIxVR+IhCOKNAj0qluONDedxJ6MAbjbG+HlsIEwM9ETLQ/XH2ECGaX2faJFRwBYZT7qanIOh353C9qjql62QAHC2NEKQp039BCNqBFgAUZXe6OoJI30pLt3LxnGR7sSRKwRM3nIB0YlZsDLRx/rxQbA3NxQlC4njpQ5N0MLRHNmPSvD90Xix4zQIpXIFVh2Ow+BVJ3Hlfg6sTPTxRldPSFBW7Dyp/Ou5g3y5ECLRE1gAUZVszQyVd+J8eyiu3keBBEHAZ7uv4EBsKgz0pPhpTAC87c3qNQOJTyaVYOaAshYZ607fxr2HBSInEteN1FwM+/40lu+/gRK5gD6+jtj/YXfMfsEXq1/rUGExUCdLI6x+rQP6+zmLlJioYeJ1BKrW29298OuZOzh/5yHO3MpEiLdtvb322hO3sCH8DiQSYMVIfwR4cPheV/VsYY8QL1uE38rAV/tv4KuR/mJHqnelcgXWnkjA1wduoFiugIWRHuYPaY2h/q7KmwH6+zmjj68TIhIykZZbCAfzssteHPkhqogjQFQtRwsjjAxwAwCsOhJXb6+7++J9LNpbtgrwp8+3wvNt+NurLitrkVE2CrQjOglX7meLnKh+xaflYfgP4Vgadg3FcgV6tXTAgWk9MKx9kwp3QsqkEoR422KIvytCvG1Z/BBVgQUQPdU7PbygJ5XgVHwGIu88rPPXO3srAx9tK+thNL6Lh3JhRtJtbZtYYXA7l7IWGX/rRosMuULA2uO38Pw3JxCdmAVzQz18Mbwtfh4bAEcL3tFF9CxYANFTNbE2wYsdylZb/u5I3U5CjU/LxVu/nEexXIF+rR3xfwN96/T1qHEpb5FxIi69xrd+N1a3HuRhxI/hWLj3KopLFejR3B77p3XHywFuXP+KSANYAFGNvNfTB1IJcPhaGmKS6ubyQ1puIcb+9xxyCkvRoakVVo5qz+F7UuFmY4LXO3kAABb/fa3BLNKpSQqFgP+eTMDz35xA5J2HMDPUw9KX2mD9+EA4WxqLHY9Ia7AAohrxtDPFoHYuAOpmFCi/qBQT1p9DUtYjeNqZ4qexgTDSl2n8dajxm9TLB+ZGerianIOd0dWvf9PY3MnIx6g1Z/DZnlgUlijQ1ccO+z7sjpGBTTnqQ6RhLICoxiY+5wMA+DsmBTdSczV23lK5Ah9sjkJMUg5sTQ2wfnwgbEwNNHZ+0i7WpgZ4v2fZz+KX+29oRYsMhULAhtO30X/FCUTczoSJgQwLh/nh1zeC4GrFUR+iusACiGqsuaM5Bvg5AdDcKJAgCJi9KwZHrj+Akb4UP48LhLutqUbOTdprfBcPOFuWtcj4Jfy22HGeSWJmAV756Qzm/nUFj0rkCPGyxb6p3fFqsDtHfYjqEAsgUkv5KNDui/eRkJ7/zOf77kg8fotIhFQCfDu6A/zdrJ75nKT9jPRlmNbncYuMw/HIKigWOZH6BEHAxjN30G/FcZy5lQljfRk+G9Iam94MhpuNidjxiLQeCyBSi5+rJXq1dIBCAFY/Y1uCP6PuYfn+GwCA+YNbo4+voyYiko54sUMTtHQyR05haZ3fnahp9x4W4PWfI/B/O2NQUCxHkIcNwqZ2w5gQD0g58Z+oXoheAH333Xfw8PCAkZERgoODERERUeW+V65cwUsvvQQPDw9IJBKsWLGi0v2SkpLw2muvwdbWFsbGxmjTpg3Onz9fR+9A95SPAv0ZlVTrtgSn4tPxyR+XAJStM/R6iIem4pGOeLJFxobTd5CY2fBbZAiCgC0Rd9F/xQmcjE+Hkb4Ucwf5YsvbnXjpl6ieiVoAbd26FdOmTcPcuXMRFRWFdu3aoV+/fkhLS6t0/4KCAnh5eWHJkiVwcnKqdJ+HDx+iS5cu0NfXx99//43Y2Fh8+eWXsLa2rsu3olM6uluji48tShUCfjx2S+3jr6Xk4N1fI1GqEDConQtm9GtZBylJF/Robo8uPrYolivw5f7rYsepVnL2I4xddw4z/7yMvKJSdHS3xt9TumN8F0+O+hCJQCLUd4fLJwQHByMwMBCrVq0CACgUCri5uWHSpEmYOXNmtcd6eHhg6tSpmDp1qsr2mTNn4tSpUzhx4kStc+Xk5MDS0hLZ2dmwsLCo9Xm0WfjNDIxeewYGelKc+OS5Gq9Km5z9CMO+O42UnEIEe9rglzeCYKjH292p9mKSsvHCtycBAHsmdYWfq6XIiVQJgoA/Iu/hsz2xyC0shYGeFJ/0a4HxXTy5zhWRhqnz+S3aCFBxcTEiIyMRGhr6TxipFKGhoQgPD6/1ef/66y8EBATg5ZdfhoODA9q3b4+1a9dqIjI9oZOXDQI9rFFcqsCa4zUbBcopLMH4deeQklOIZg5mWPN6AIsfemZ+rpYY4l+2RtXiv69CxN/pKkjNKcQbG85j+h+XkFtYCn83K+yd3A1vdvNi8UMkMtEKoPT0dMjlcjg6qk58dXR0REpKSq3Pe+vWLaxevRrNmjXDvn378N5772Hy5MnYsGFDlccUFRUhJydH5UHVk0gk+KBXMwDAprN3kJFXVO3+xaUKvLcxEtdScmFvboh14wNhaaJfH1FJB3zctwUMZFKcis/A8bh0seNAEAT8GXUPfb46hsPX0mAgk2LmgJb4490Q+DiYiR2PiNAAJkFrmkKhQIcOHbBo0SK0b98eb7/9Nt566y388MMPVR6zePFiWFpaKh9ubm71mLjx6t7MDm2bWKKwRIGfTyZUuZ8gCJj55yWcis+AqYEM68YFook1b/MlzXGzMcGYEHcAwOK9VyEXsUVGWm4h3volEtO2XUROYSnaNrHEnsld8W4Pb+jJtO6/XKJGS7R/jXZ2dpDJZEhNTVXZnpqaWuUE55pwdnaGr69qA81WrVrh7t27VR4za9YsZGdnKx+JiYm1fn1dIpFI8MHjO8J+Cb+D7IKSSvf76sAN/BmVBJlUgu9f69jg5miQdviglw8sjPRwLSUXOy7Uf4sMQRCwKzoJfb8+joNXU6Evk2B6vxb4873OaO5oXu95iKh6ohVABgYG6NixIw4dOqTcplAocOjQIYSEhNT6vF26dMH166p3g9y4cQPu7u5VHmNoaAgLCwuVB9VMaCtHtHQyR15RKdafvl3h+d8i7uLbw2VrtCwe1gY9mtvXc0LSFVYmBsolGr7af71eW2Sk5xXhvY1RmLIlGlkFJWjtYoHdk7pi4nM+HPUhaqD0xHzxadOmYezYsQgICEBQUBBWrFiB/Px8jB8/HgAwZswYuLq6YvHixQDKJk7HxsYq/5yUlITo6GiYmZnBx6fsP74PP/wQnTt3xqJFizBixAhERERgzZo1WLNmjThvUstJpRJMfM4Hk367gJ9P3kIbVwvkFpXCwdwIBcWl+L+dMQCAyb2bYUQgLy1S3Rrb2QMbTt/G/exCrD99G+/28K7z1/zfpWTM3hWDzPxi6EklmNSrGd5/zhv6LHyIGjRRb4MHgFWrVuGLL75ASkoK/P398c033yA4OBgA0LNnT3h4eGD9+vUAgNu3b8PT07PCOXr06IGjR48qv96zZw9mzZqFuLg4eHp6Ytq0aXjrrbdqnIm3watHrhDQeckhpOaoToSWABAADO/YBF8Mb8u+RlQvtkfew0e/X4S5kR6OT38O1nXUWDczvxhzdsVgz6VkAEBLJ3N8OaIdWrvwEi+RWNT5/Ba9AGqIWACpJywmGe9ujKry+VWvtMcLbV3qMRHpMrlCwAvfnsTV5By80dUTs1/wffpBagqLScH/7byM9LxiyKQSTOzpjQ96NYOBHkd9iMTUKNYBIu0gVwiYvzu2yuclABb+T9y7cki3yKQSzHrcIuOX8NsabZHxML8YU7ZcwLsbI5GeV4zmjmbY+X4XTOvbgsUPUSPDf7H0TCISMpGcXVjl8wKA5OxCRCRk1l8o0nndm9ujWzM7lMgFLNdQi4wDsanou+I4dkXfh1QCvN/TG7sndUWbJrzkRdQYsQCiZ5KWW3XxU5v9iDRlRv+yUaBd0fdx+V52rc+TXVCCadui8dYv5/Egtwg+Dmb48/0u+KR/S65kTtSIsQCiZ+JgXrMeYDXdj0hT/FwtMay9KwBg0d7atcg4ci0NfVccw59RSZBKgHd6eGHPpK7wd7PScFoiqm8sgOiZBHnawNnSCFXd3yUB4GxphCBPm/qMRQQA+KhvcxjIpAi/lYGjNx7U+LicwhJ88sdFjF9/Dqk5RfCyM8Xv73bGrAGtYKTPUR8ibcACiJ6JTCrB3EFld9n8uwgq/3ruIF82fiRRNLE2wbguHgCAJXuv1Wgy/vEbD9Dv6+PYdv4eJBLgza6e2DulGzq6W9dxWiKqTyyA6Jn193PG6tc6wMlS9TKXk6URVr/WAf39nEVKRgRM7OkDS2N9XE/NxZ9R96rcL6+oFLP+vIwx/41AcnYh3G1NsO2dEPzfC74c9SHSQqKuBE3ao7+fM/r4OiEiIRNpuYVwMC+77MWRHxKbpYk+Jj7njUV7r2H5vutwsDBEVkGJys/oqfh0fPLHJSRlPQIAjOvsgU/6t4CJAf+LJNJWXAixElwIkUi7FJbI0XnxYWQWFKtsd7QwREsnCxx7PD/IzcYYXwxvh05etmLEJKJnpM7nN3+9ISKtd/R6WoXiBwBSc4qQmlNW/LzeyR0zB7SEqSH/WyTSBfyXTkRa7WmrlQOAjakB5g1uzUu2RDqEk6CJSKs9bbVyoKyxKVcrJ9ItLICISKtxtXIiqgwLICLSalytnIgqwwKIiLQaVysnosqwACIircbVyomoMiyAiEjrcbVyIvo33gZPRDqBq5UT0ZNYABGRzpBJJQjx5irPRMRLYERERKSDWAARERGRzmEBRERERDqHBRARERHpHBZAREREpHNYABEREZHOYQFEREREOocFEBEREekcFkBERESkc7gSdCUEQQAA5OTkiJyEiIiIaqr8c7v8c7w6LIAqkZubCwBwc3MTOQkRERGpKzc3F5aWltXuIxFqUibpGIVCgfv378Pc3BwSiWYbJebk5MDNzQ2JiYmwsLDQ6LkbAr6/xk/b36O2vz9A+98j31/jV1fvURAE5ObmwsXFBVJp9bN8OAJUCalUiiZNmtTpa1hYWGjtDzbA96cNtP09avv7A7T/PfL9NX518R6fNvJTjpOgiYiISOewACIiIiKdwwKonhkaGmLu3LkwNDQUO0qd4Ptr/LT9PWr7+wO0/z3y/TV+DeE9chI0ERER6RyOABEREZHOYQFEREREOocFEBEREekcFkBERESkc1gA1YPFixcjMDAQ5ubmcHBwwNChQ3H9+nWxY2nU6tWr0bZtW+WiViEhIfj777/FjlVnlixZAolEgqlTp4odRSPmzZsHiUSi8mjZsqXYsTQuKSkJr732GmxtbWFsbIw2bdrg/PnzYsfSCA8Pjwp/hxKJBBMnThQ7mkbI5XLMnj0bnp6eMDY2hre3NxYsWFCjnk+NSW5uLqZOnQp3d3cYGxujc+fOOHfunNixauX48eMYNGgQXFxcIJFIsHPnTpXnBUHAnDlz4OzsDGNjY4SGhiIuLq7e8rEAqgfHjh3DxIkTcebMGRw4cAAlJSXo27cv8vPzxY6mMU2aNMGSJUsQGRmJ8+fPo1evXhgyZAiuXLkidjSNO3fuHH788Ue0bdtW7Cga1bp1ayQnJysfJ0+eFDuSRj18+BBdunSBvr4+/v77b8TGxuLLL7+EtbW12NE04ty5cyp/fwcOHAAAvPzyyyIn04ylS5di9erVWLVqFa5evYqlS5di2bJl+Pbbb8WOplFvvvkmDhw4gF9//RWXL19G3759ERoaiqSkJLGjqS0/Px/t2rXDd999V+nzy5YtwzfffIMffvgBZ8+ehampKfr164fCwsL6CShQvUtLSxMACMeOHRM7Sp2ytrYWfvrpJ7FjaFRubq7QrFkz4cCBA0KPHj2EKVOmiB1JI+bOnSu0a9dO7Bh1asaMGULXrl3FjlFvpkyZInh7ewsKhULsKBoxcOBAYcKECSrbXnzxReHVV18VKZHmFRQUCDKZTNizZ4/K9g4dOgiffvqpSKk0A4CwY8cO5dcKhUJwcnISvvjiC+W2rKwswdDQUPjtt9/qJRNHgESQnZ0NALCxsRE5Sd2Qy+XYsmUL8vPzERISInYcjZo4cSIGDhyI0NBQsaNoXFxcHFxcXODl5YVXX30Vd+/eFTuSRv31118ICAjAyy+/DAcHB7Rv3x5r164VO1adKC4uxsaNGzFhwgSNN3QWS+fOnXHo0CHcuHEDAHDx4kWcPHkSAwYMEDmZ5pSWlkIul8PIyEhlu7GxsdaNyCYkJCAlJUXl/1JLS0sEBwcjPDy8XjKwGWo9UygUmDp1Krp06QI/Pz+x42jU5cuXERISgsLCQpiZmWHHjh3w9fUVO5bGbNmyBVFRUY32enx1goODsX79erRo0QLJycmYP38+unXrhpiYGJibm4sdTyNu3bqF1atXY9q0afjPf/6Dc+fOYfLkyTAwMMDYsWPFjqdRO3fuRFZWFsaNGyd2FI2ZOXMmcnJy0LJlS8hkMsjlcixcuBCvvvqq2NE0xtzcHCEhIViwYAFatWoFR0dH/PbbbwgPD4ePj4/Y8TQqJSUFAODo6Kiy3dHRUflcXWMBVM8mTpyImJgYravmAaBFixaIjo5GdnY2/vjjD4wdOxbHjh3TiiIoMTERU6ZMwYEDByr8dqYNnvwtum3btggODoa7uzu2bduGN954Q8RkmqNQKBAQEIBFixYBANq3b4+YmBj88MMPWlcA/fzzzxgwYABcXFzEjqIx27Ztw6ZNm7B582a0bt0a0dHRmDp1KlxcXLTq7+/XX3/FhAkT4OrqCplMhg4dOmD06NGIjIwUO5rW4SWwevTBBx9gz549OHLkCJo0aSJ2HI0zMDCAj48POnbsiMWLF6Ndu3ZYuXKl2LE0IjIyEmlpaejQoQP09PSgp6eHY8eO4ZtvvoGenh7kcrnYETXKysoKzZs3R3x8vNhRNMbZ2blCMd6qVSutu9R3584dHDx4EG+++abYUTRq+vTpmDlzJkaNGoU2bdrg9ddfx4cffojFixeLHU2jvL29cezYMeTl5SExMREREREoKSmBl5eX2NE0ysnJCQCQmpqqsj01NVX5XF1jAVQPBEHABx98gB07duDw4cPw9PQUO1K9UCgUKCoqEjuGRvTu3RuXL19GdHS08hEQEIBXX30V0dHRkMlkYkfUqLy8PNy8eRPOzs5iR9GYLl26VFh+4saNG3B3dxcpUd1Yt24dHBwcMHDgQLGjaFRBQQGkUtWPLJlMBoVCIVKiumVqagpnZ2c8fPgQ+/btw5AhQ8SOpFGenp5wcnLCoUOHlNtycnJw9uzZeps7yktg9WDixInYvHkzdu3aBXNzc+X1TUtLSxgbG4ucTjNmzZqFAQMGoGnTpsjNzcXmzZtx9OhR7Nu3T+xoGmFubl5hzpapqSlsbW21Yi7Xxx9/jEGDBsHd3R3379/H3LlzIZPJMHr0aLGjacyHH36Izp07Y9GiRRgxYgQiIiKwZs0arFmzRuxoGqNQKLBu3TqMHTsWenra9d/7oEGDsHDhQjRt2hStW7fGhQsX8NVXX2HChAliR9Ooffv2QRAEtGjRAvHx8Zg+fTpatmyJ8ePHix1NbXl5eSqjyAkJCYiOjoaNjQ2aNm2KqVOn4vPPP0ezZs3g6emJ2bNnw8XFBUOHDq2fgPVyr5mOA1DpY926dWJH05gJEyYI7u7ugoGBgWBvby/07t1b2L9/v9ix6pQ23QY/cuRIwdnZWTAwMBBcXV2FkSNHCvHx8WLH0rjdu3cLfn5+gqGhodCyZUthzZo1YkfSqH379gkAhOvXr4sdReNycnKEKVOmCE2bNhWMjIwELy8v4dNPPxWKiorEjqZRW7duFby8vAQDAwPByclJmDhxopCVlSV2rFo5cuRIpZ99Y8eOFQSh7Fb42bNnC46OjoKhoaHQu3fvev3ZlQiCli2jSURERPQUnANEREREOocFEBEREekcFkBERESkc1gAERERkc5hAUREREQ6hwUQERER6RwWQERERKRzWAARERGRzmEBRES1tn79elhZWYn2+rdv34ZEIkF0dHSdvUbPnj0xderUOjt/fcvIyICDgwNu374NADh69CgkEgmysrIq3T89PR0ODg64d+9e/YUkqgcsgIgasXHjxkEikWDJkiUq23fu3AmJRCJSKqqORCLBzp07RXv9hQsXYsiQIfDw8KjR/nZ2dhgzZgzmzp1bt8GI6hkLIKJGzsjICEuXLsXDhw/FjlIjxcXFYkfQCiUlJWofU1BQgJ9//hlvvPGGWseNHz8emzZtQmZmptqvSdRQsQAiauRCQ0Ph5OSExYsXV7vf9u3b0bp1axgaGsLDwwNffvmlyvMeHh74/PPPMWbMGJiZmcHd3R1//fUXHjx4gCFDhsDMzAxt27bF+fPnK5x7586daNasGYyMjNCvXz8kJiYqn5s3bx78/f3x008/wdPTE0ZGRgCArKwsvPnmm7C3t4eFhQV69eqFixcvVvseIiIi0L59exgZGSEgIAAXLlyosE9MTAwGDBgAMzMzODo64vXXX0d6enq15z116hR69uwJExMTWFtbo1+/flUWlJWN4FhZWWH9+vUAygq8Dz74AM7OzjAyMoK7u7vy76Z81GXYsGGQSCQqozC7du1Chw4dYGRkBC8vL8yfPx+lpaUqr7t69WoMHjwYpqamWLhwIR4+fIhXX30V9vb2MDY2RrNmzbBu3boq3+fevXthaGiITp06VblPQUEBBgwYgC5duigvi7Vu3RouLi7YsWNHlccRNTYsgIgaOZlMhkWLFuHbb7+tcp5GZGQkRowYgVGjRuHy5cuYN28eZs+erfzQLvf111+jS5cuuHDhAgYOHIjXX38dY8aMwWuvvYaoqCh4e3tjzJgxeLKHckFBARYuXIhffvkFp06dQlZWFkaNGqVy3vj4eGzfvh1//vmncr7Oyy+/jLS0NPz999+IjIxEhw4d0Lt37ypHGfLy8vDCCy/A19cXkZGRmDdvHj7++GOVfbKystCrVy+0b98e58+fR1hYGFJTUzFixIgqv3/R0dHo3bs3fH19ER4ejpMnT2LQoEGQy+VVHlOdb775Bn/99Re2bduG69evY9OmTcpC59y5cwCAdevWITk5Wfn1iRMnMGbMGEyZMgWxsbH48ccfsX79eixcuFDl3PPmzcOwYcNw+fJlTJgwAbNnz0ZsbCz+/vtvXL16FatXr4adnV2V2U6cOIGOHTtW+XxWVhb69OkDhUKBAwcOqMzvCgoKwokTJ2r1PSFqkOqt7zwRadzYsWOFIUOGCIIgCJ06dRImTJggCIIg7NixQ3jyn/crr7wi9OnTR+XY6dOnC76+vsqv3d3dhddee035dXJysgBAmD17tnJbeHi4AEBITk4WBEEQ1q1bJwAQzpw5o9zn6tWrAgDh7NmzgiAIwty5cwV9fX0hLS1Nuc+JEycECwsLobCwUCWTt7e38OOPP1b6Xn/88UfB1tZWePTokXLb6tWrBQDChQsXBEEQhAULFgh9+/ZVOS4xMVEAIFy/fr3S844ePVro0qVLpc8JgiD06NFDmDJlivJrAMKOHTtU9rG0tBTWrVsnCIIgTJo0SejVq5egUCgqPV9lx/fu3VtYtGiRyrZff/1VcHZ2Vjlu6tSpKvsMGjRIGD9+fJXZ/23IkCHKn5FyR44cEQAIV69eFdq2bSu89NJLQlFRUYVjP/zwQ6Fnz541fi2iho4jQERaYunSpdiwYQOuXr1a4bmrV6+iS5cuKtu6dOmCuLg4lZGOtm3bKv/s6OgIAGjTpk2FbWlpacptenp6CAwMVH7dsmVLWFlZqeRwd3eHvb298uuLFy8iLy8Ptra2MDMzUz4SEhJw8+bNSt/f1atX0bZtW+UlNAAICQlR2efixYs4cuSIyjlbtmwJAFWet3wESFPGjRuH6OhotGjRApMnT8b+/fufeszFixfx2WefqeR+6623kJycjIKCAuV+AQEBKse999572LJlC/z9/fHJJ5/g9OnT1b7Oo0ePVL5/T+rTpw98fHywdetWGBgYVHje2NhYJQtRY6cndgAi0ozu3bujX79+mDVrFsaNG1erc+jr6yv/XH4XWWXbFAqFWuc1NTVV+TovLw/Ozs44evRohX2f5bb6vLw8DBo0CEuXLq3wnLOzc6XHGBsbq/UaEolE5RIgoDohuUOHDkhISMDff/+NgwcPYsSIEQgNDcUff/xRbe758+fjxRdfrPDckwXLv7+PAwYMwJ07d7B3714cOHAAvXv3xsSJE7F8+fJKX8fOzq7KuU0DBw7E9u3bERsbq1L0lsvMzFQpYokaOxZARFpkyZIl8Pf3R4sWLVS2t2rVCqdOnVLZdurUKTRv3hwymeyZXrO0tBTnz59HUFAQAOD69evIyspCq1atqjymQ4cOSElJgZ6eXo1vx27VqhV+/fVXFBYWKouCM2fOVDjv9u3b4eHhAT29mv331rZtWxw6dAjz58+v0f729vZITk5Wfh0XF1dhZMTCwgIjR47EyJEjMXz4cPTv3x+ZmZmwsbGBvr5+hflFHTp0wPXr1+Hj41OjDP/OM3bsWIwdOxbdunXD9OnTqyyA2rdvj40bN1b63JIlS2BmZobevXvj6NGj8PX1VXk+JiYGPXv2VDsfUUPFS2BEWqRNmzZ49dVX8c0336hs/+ijj3Do0CEsWLAAN27cwIYNG7Bq1aoKk4hrQ19fH5MmTcLZs2cRGRmJcePGoVOnTsqCqDKhoaEICQnB0KFDsX//fty+fRunT5/Gp59+WuldZgDwyiuvQCKR4K233kJsbCz27t1b4YN+4sSJyMzMxOjRo3Hu3DncvHkT+/btw/jx46uc1Dxr1iycO3cO77//Pi5duoRr165h9erVVd451qtXL6xatQoXLlzA+fPn8e6776qMkn311Vf47bffcO3aNdy4cQO///47nJyclCNbHh4eOHToEFJSUpSjMXPmzMEvv/yC+fPn48qVK7h69Sq2bNmC//u//6vye1h+3K5duxAfH48rV65gz5491Rae/fr1w5UrV6ocBVq+fDleffVV9OrVC9euXVNuLygoQGRkJPr27VttHqLGhAUQkZb57LPPKlyi6tChA7Zt24YtW7bAz88Pc+bMwWeffVbrS2VPMjExwYwZM/DKK6+gS5cuMDMzw9atW6s9RiKRYO/evejevTvGjx+P5s2bY9SoUbhz545yntG/mZmZYffu3bh8+TLat2+PTz/9tMKlLhcXF5w6dQpyuRx9+/ZFmzZtMHXqVFhZWUEqrfy/u+bNm2P//v24ePEigoKCEBISgl27dlU5gvTll1/Czc0N3bp1wyuvvIKPP/4YJiYmyufNzc2xbNkyBAQEIDAwELdv38bevXuVr//ll1/iwIEDcHNzQ/v27QGUFSZ79uzB/v37ERgYiE6dOuHrr7+Gu7t7td9HAwMDzJo1C23btkX37t0hk8mwZcuWKvdv06aN8mehKl9//TVGjBiBXr164caNGwDKbtFv2rQpunXrVm0eosZEIvz7YjYREWmt//3vf5g+fTpiYmKqLAr/rVOnTpg8eTJeeeWVOk5HVH84B4iISIcMHDgQcXFxSEpKgpub21P3T09Px4svvojRo0fXQzqi+sMRICIiItI5nANEREREOocFEBEREekcFkBERESkc1gAERERkc5hAUREREQ6hwUQERER6RwWQERERKRzWAARERGRzmEBRERERDrn/wEK0nHeHTtNcgAAAABJRU5ErkJggg==",
      "text/plain": [
       "<Figure size 640x480 with 1 Axes>"
      ]
     },
     "metadata": {},
     "output_type": "display_data"
    }
   ],
   "source": [
    "from sklearn.metrics import silhouette_score\n",
    "import matplotlib.pyplot as plt\n",
    "from sklearn.cluster import KMeans\n",
    "\n",
    "sil_scores = []\n",
    "k_values = range(2, 11)\n",
    "for k in k_values:\n",
    "    kmeans = KMeans(n_clusters=k, random_state=0)\n",
    "    labels = kmeans.fit_predict(newdata_scaled)\n",
    "    score = silhouette_score(newdata_scaled, labels)\n",
    "    sil_scores.append(score)\n",
    "\n",
    "plt.plot(k_values, sil_scores, marker='o')\n",
    "plt.xlabel('Nombre de clusters (k)')\n",
    "plt.ylabel('Silhouette Score')\n",
    "plt.title('Choix optimal de k')\n",
    "plt.show()"
   ]
  },
  {
   "cell_type": "code",
   "execution_count": 49,
   "id": "c4b3bfe6-893f-4959-99af-ff3c68e141bd",
   "metadata": {},
   "outputs": [
    {
     "name": "stdout",
     "output_type": "stream",
     "text": [
      "DBSCAN ne permet pas un calcul valide du Silhouette Score (trop de bruit ou 1 seul cluster)\n",
      "Agglomerative Silhouette Score: 0.25\n",
      "DBSCAN Dunn Index: 0.01\n",
      "Agglomerative Dunn Index: 0.06\n"
     ]
    }
   ],
   "source": [
    "from sklearn.cluster import DBSCAN\n",
    "from sklearn.cluster import AgglomerativeClustering\n",
    "\n",
    "db = DBSCAN(eps=0.5, min_samples=5).fit(newdata_scaled)\n",
    "labels_db = db.labels_\n",
    "\n",
    "agg = AgglomerativeClustering(n_clusters=k).fit(newdata_scaled)\n",
    "labels_agg = agg.labels_\n",
    "\n",
    "# DBSCAN\n",
    "if len(set(labels_db)) > 1 and -1 not in set(labels_db): \n",
    "    sil_db = silhouette_score(newdata_scaled, labels_db)\n",
    "    print(f\"DBSCAN Silhouette Score: {sil_db:.2f}\")\n",
    "else:\n",
    "    print(\"DBSCAN ne permet pas un calcul valide du Silhouette Score (trop de bruit ou 1 seul cluster)\")\n",
    "\n",
    "# Agglomerative\n",
    "sil_agg = silhouette_score(newdata_scaled, labels_agg)\n",
    "print(f\"Agglomerative Silhouette Score: {sil_agg:.2f}\")\n",
    "\n",
    "dunn_db = dunn_index(newdata_scaled, labels_db)\n",
    "dunn_agg = dunn_index(newdata_scaled, labels_agg)\n",
    "\n",
    "print(f\"DBSCAN Dunn Index: {dunn_db:.2f}\")\n",
    "print(f\"Agglomerative Dunn Index: {dunn_agg:.2f}\")\n"
   ]
  },
  {
   "cell_type": "code",
   "execution_count": null,
   "id": "7c257acd-5d52-4181-9d60-52ae7dc2cb95",
   "metadata": {},
>>>>>>> 233ed67 (add score)
   "outputs": [],
   "source": []
  }
 ],
 "metadata": {
  "kernelspec": {
   "display_name": "Python 3 (ipykernel)",
   "language": "python",
   "name": "python3"
  },
  "language_info": {
   "codemirror_mode": {
    "name": "ipython",
    "version": 3
   },
   "file_extension": ".py",
   "mimetype": "text/x-python",
   "name": "python",
   "nbconvert_exporter": "python",
   "pygments_lexer": "ipython3",
   "version": "3.12.0"
  }
 },
 "nbformat": 4,
 "nbformat_minor": 5
}
