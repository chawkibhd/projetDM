{
 "cells": [
  {
   "cell_type": "code",
   "execution_count": 7,
   "id": "2823acec-bc75-4f25-959c-4d3bd30c1559",
   "metadata": {},
   "outputs": [
    {
     "name": "stdout",
     "output_type": "stream",
     "text": [
      "Fe47.376 Co20.304 B22.56 Mo3.76 Dy6.0\n"
     ]
    }
   ],
   "source": [
    "import re\n",
    "from collections import defaultdict\n",
    "\n",
    "def parse_formula(formula):\n",
    "    match = re.match(r\"\\[(.+)\\](\\d+)\\s*(.*)\", formula)\n",
    "    if not match:\n",
    "        raise ValueError(\"Format de formule incorrect\")\n",
    "    inside_block, global_percent, outside_elements = match.groups()\n",
    "    global_percent = int(global_percent)\n",
    "\n",
    "    result = defaultdict(float)\n",
    "\n",
    "    # Fonction pour traiter un mini bloc\n",
    "    def process_block(block_text, block_percent):\n",
    "        parts = re.findall(r\"\\(([A-Za-z0-9\\s]+)\\)(\\d+)|([A-Z][a-z]*)(\\d+)\", block_text)\n",
    "        for part in parts:\n",
    "            if part[0]:  # C'est un sous-bloc ( ... )%\n",
    "                inner_block, inner_percent = part[0], int(part[1])\n",
    "                new_block_percent = block_percent * inner_percent / 100\n",
    "                inner_elements = re.findall(r\"([A-Z][a-z]*)(\\d+)\", inner_block)\n",
    "                for elem, perc in inner_elements:\n",
    "                    perc = int(perc)\n",
    "                    result[elem] += new_block_percent * perc / 100\n",
    "            else:  # C'est un élément simple\n",
    "                elem, perc = part[2], int(part[3])\n",
    "                result[elem] += block_percent * perc / 100\n",
    "\n",
    "    # Traiter le bloc principal\n",
    "    process_block(inside_block, global_percent)\n",
    "\n",
    "    # Traiter les éléments en dehors du bloc\n",
    "    outside = re.findall(r\"([A-Z][a-z]*)(\\d+)\", outside_elements)\n",
    "    for elem, perc in outside:\n",
    "        result[elem] += int(perc)\n",
    "\n",
    "    return dict(result)\n",
    "\n",
    "def format_result(result):\n",
    "    return \" \".join(f\"{elem}{round(percent, 4)}\" for elem, percent in result.items())\n",
    "\n",
    "# Exemple d'utilisation\n",
    "#formula = \"[(Fe90 Co10)75 B20 Si5]96 Nb4\"\n",
    "formula = \"[(Fe70 Co30)72 B24 Mo4]94 Dy6\"\n",
    "parsed = parse_formula(formula)\n",
    "output = format_result(parsed)\n",
    "\n",
    "print(output)"
   ]
  },
  {
   "cell_type": "code",
   "execution_count": 8,
   "id": "47357ccb-efae-4eee-ac4c-f9fb2d21923a",
   "metadata": {},
   "outputs": [
    {
     "name": "stdout",
     "output_type": "stream",
     "text": [
      "[(Fe70 Co30)72 B24 Mo4]94 Dy6 → B22.56 Co20.304 Dy6.0 Fe47.376 Mo3.76\n",
      "(Fe70 Tb5 Si5 B20)96 Nb4 → B19.2 Fe67.2 Nb4.0 Si4.8 Tb4.8\n",
      "Fe76 Mo4(P45 C20 B20 Si15)20 → B4.0 C4.0 Fe76.0 Mo4.0 P9.0 Si3.0\n"
     ]
    }
   ],
   "source": [
    "import re\n",
    "from collections import defaultdict\n",
    "\n",
    "def parse_formula(formula):\n",
    "    result = defaultdict(float)\n",
    "\n",
    "    def process_block(block_text, block_percent):\n",
    "        pattern = r\"\\(([^\\(\\)]+)\\)(\\d+)|([A-Z][a-z]*)(\\d+)\"\n",
    "        parts = re.findall(pattern, block_text)\n",
    "        for part in parts:\n",
    "            if part[0]:  # Sous-bloc trouvé\n",
    "                inner_block, inner_percent = part[0], int(part[1])\n",
    "                new_percent = block_percent * inner_percent / 100\n",
    "                process_block(inner_block, new_percent)\n",
    "            else:  # Élément simple trouvé\n",
    "                elem, perc = part[2], int(part[3])\n",
    "                result[elem] += block_percent * perc / 100\n",
    "\n",
    "    # Check si formule commence par [ ]\n",
    "    if formula.startswith('['):\n",
    "        match = re.match(r\"\\[(.+)\\](\\d+)\\s*(.*)\", formula)\n",
    "        if not match:\n",
    "            raise ValueError(\"Format de formule incorrect\")\n",
    "        inside_block, global_percent, outside_elements = match.groups()\n",
    "        global_percent = int(global_percent)\n",
    "\n",
    "        process_block(inside_block, global_percent)\n",
    "\n",
    "        # Traiter les éléments en dehors du bloc\n",
    "        outside = re.findall(r\"([A-Z][a-z]*)(\\d+)\", outside_elements)\n",
    "        for elem, perc in outside:\n",
    "            result[elem] += int(perc)\n",
    "\n",
    "    else:\n",
    "        # Formule sans crochets []\n",
    "        process_block(formula, 100)\n",
    "\n",
    "    return dict(result)\n",
    "\n",
    "def format_result(result):\n",
    "    # Trier par ordre alphabétique\n",
    "    return \" \".join(f\"{elem}{round(percent, 4)}\" for elem, percent in sorted(result.items()))\n",
    "\n",
    "# Exemple d'utilisation\n",
    "formulas = [\n",
    "    \"[(Fe70 Co30)72 B24 Mo4]94 Dy6\",\n",
    "    \"(Fe70 Tb5 Si5 B20)96 Nb4\",\n",
    "    \"Fe76 Mo4(P45 C20 B20 Si15)20\"\n",
    "]\n",
    "\n",
    "for formula in formulas:\n",
    "    parsed = parse_formula(formula)\n",
    "    output = format_result(parsed)\n",
    "    print(f\"{formula} → {output}\")"
   ]
  },
  {
   "cell_type": "code",
   "execution_count": null,
   "id": "084be8dd-c36b-4a0b-94eb-3aa7e5765743",
   "metadata": {},
   "outputs": [],
   "source": []
  }
 ],
 "metadata": {
  "kernelspec": {
   "display_name": "Python 3 (ipykernel)",
   "language": "python",
   "name": "python3"
  },
  "language_info": {
   "codemirror_mode": {
    "name": "ipython",
    "version": 3
   },
   "file_extension": ".py",
   "mimetype": "text/x-python",
   "name": "python",
   "nbconvert_exporter": "python",
   "pygments_lexer": "ipython3",
   "version": "3.12.0"
  }
 },
 "nbformat": 4,
 "nbformat_minor": 5
}
