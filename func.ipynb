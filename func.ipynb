{
 "cells": [
  {
   "cell_type": "code",
   "execution_count": 2,
   "id": "e8b717ae-042c-4532-9c51-728550dde3b8",
   "metadata": {},
   "outputs": [
    {
     "ename": "ModuleNotFoundError",
     "evalue": "No module named 'odfpy'",
     "output_type": "error",
     "traceback": [
      "\u001b[0;31m---------------------------------------------------------------------------\u001b[0m",
      "\u001b[0;31mModuleNotFoundError\u001b[0m                       Traceback (most recent call last)",
      "Cell \u001b[0;32mIn[2], line 2\u001b[0m\n\u001b[1;32m      1\u001b[0m \u001b[38;5;28;01mimport\u001b[39;00m \u001b[38;5;21;01mpandas\u001b[39;00m \u001b[38;5;28;01mas\u001b[39;00m \u001b[38;5;21;01mpd\u001b[39;00m\n\u001b[0;32m----> 2\u001b[0m \u001b[38;5;28;01mimport\u001b[39;00m \u001b[38;5;21;01modfpy\u001b[39;00m\n\u001b[1;32m      3\u001b[0m df \u001b[38;5;241m=\u001b[39m pd\u001b[38;5;241m.\u001b[39mread_excel(\u001b[38;5;124m\"\u001b[39m\u001b[38;5;124m/Users/chawkibhd/Downloads/projetDM/BMGs-2024.ods\u001b[39m\u001b[38;5;124m\"\u001b[39m, engine\u001b[38;5;241m=\u001b[39m\u001b[38;5;124m\"\u001b[39m\u001b[38;5;124modf\u001b[39m\u001b[38;5;124m\"\u001b[39m)\n\u001b[1;32m      5\u001b[0m \u001b[38;5;28mprint\u001b[39m(df\u001b[38;5;241m.\u001b[39mhead())\n",
      "\u001b[0;31mModuleNotFoundError\u001b[0m: No module named 'odfpy'"
     ]
    }
   ],
   "source": [
    "import pandas as pd\n",
    "import odfpy\n",
    "df = pd.read_excel(\"/Users/chawkibhd/Downloads/projetDM/BMGs-2024.ods\", engine=\"odf\")\n",
    "\n",
    "print(df.head())"
   ]
  },
  {
   "cell_type": "code",
   "execution_count": 3,
   "id": "a7cd564c-fd98-434d-85b4-921baea1ea2f",
   "metadata": {},
   "outputs": [
    {
     "name": "stdout",
     "output_type": "stream",
     "text": [
      "['Sheet1', 'Dataset']\n"
     ]
    }
   ],
   "source": [
    "xls = pd.ExcelFile(\"/Users/chawkibhd/Downloads/projetDM/BMGs-2024.ods\", engine=\"odf\")\n",
    "print(xls.sheet_names) \n"
   ]
  },
  {
   "cell_type": "code",
   "execution_count": 4,
   "id": "245dc91d-11e3-49de-a5f8-83bbc16940c3",
   "metadata": {},
   "outputs": [
    {
     "name": "stdout",
     "output_type": "stream",
     "text": [
      "           Alloys (compostion)  Tg(K)  Tx(K)  Tl(K)  Dmax (mm)\n",
      "0  Ag30.8 Ca30.8 Mg23.1 Cu15.4  413.0  432.0  803.0        2.5\n",
      "1         Ag38.4 Mg30.8 Ca30.8  394.0  426.0  805.0        0.5\n",
      "2     Ag38.5 Ca30.8 Mg23 Cu7.7  384.0  416.0  854.0        2.0\n",
      "3   Ag38.5 Mg38.5 Ca15.4 Cu7.7  405.0  436.0  842.0        0.5\n",
      "4         Ag46.2 Ca30.7 Mg23.1  399.0  426.0  765.0        0.7\n"
     ]
    }
   ],
   "source": [
    "df = pd.read_excel(xls, sheet_name=\"Sheet1\", engine=\"odf\")\n",
    "print(df.head())"
   ]
  },
  {
   "cell_type": "code",
   "execution_count": 5,
   "id": "8bdeeb0f-ed27-4e8c-97dd-7761ef502efd",
   "metadata": {},
   "outputs": [
    {
     "data": {
      "text/html": [
       "<div>\n",
       "<style scoped>\n",
       "    .dataframe tbody tr th:only-of-type {\n",
       "        vertical-align: middle;\n",
       "    }\n",
       "\n",
       "    .dataframe tbody tr th {\n",
       "        vertical-align: top;\n",
       "    }\n",
       "\n",
       "    .dataframe thead th {\n",
       "        text-align: right;\n",
       "    }\n",
       "</style>\n",
       "<table border=\"1\" class=\"dataframe\">\n",
       "  <thead>\n",
       "    <tr style=\"text-align: right;\">\n",
       "      <th></th>\n",
       "      <th>Alloys (compostion)</th>\n",
       "      <th>Tg(K)</th>\n",
       "      <th>Tx(K)</th>\n",
       "      <th>Tl(K)</th>\n",
       "      <th>Dmax (mm)</th>\n",
       "    </tr>\n",
       "  </thead>\n",
       "  <tbody>\n",
       "    <tr>\n",
       "      <th>0</th>\n",
       "      <td>Ag30.8 Ca30.8 Mg23.1 Cu15.4</td>\n",
       "      <td>413.0</td>\n",
       "      <td>432.0</td>\n",
       "      <td>803.0</td>\n",
       "      <td>2.5</td>\n",
       "    </tr>\n",
       "    <tr>\n",
       "      <th>1</th>\n",
       "      <td>Ag38.4 Mg30.8 Ca30.8</td>\n",
       "      <td>394.0</td>\n",
       "      <td>426.0</td>\n",
       "      <td>805.0</td>\n",
       "      <td>0.5</td>\n",
       "    </tr>\n",
       "    <tr>\n",
       "      <th>2</th>\n",
       "      <td>Ag38.5 Ca30.8 Mg23 Cu7.7</td>\n",
       "      <td>384.0</td>\n",
       "      <td>416.0</td>\n",
       "      <td>854.0</td>\n",
       "      <td>2.0</td>\n",
       "    </tr>\n",
       "    <tr>\n",
       "      <th>3</th>\n",
       "      <td>Ag38.5 Mg38.5 Ca15.4 Cu7.7</td>\n",
       "      <td>405.0</td>\n",
       "      <td>436.0</td>\n",
       "      <td>842.0</td>\n",
       "      <td>0.5</td>\n",
       "    </tr>\n",
       "    <tr>\n",
       "      <th>4</th>\n",
       "      <td>Ag46.2 Ca30.7 Mg23.1</td>\n",
       "      <td>399.0</td>\n",
       "      <td>426.0</td>\n",
       "      <td>765.0</td>\n",
       "      <td>0.7</td>\n",
       "    </tr>\n",
       "  </tbody>\n",
       "</table>\n",
       "</div>"
      ],
      "text/plain": [
       "           Alloys (compostion)  Tg(K)  Tx(K)  Tl(K)  Dmax (mm)\n",
       "0  Ag30.8 Ca30.8 Mg23.1 Cu15.4  413.0  432.0  803.0        2.5\n",
       "1         Ag38.4 Mg30.8 Ca30.8  394.0  426.0  805.0        0.5\n",
       "2     Ag38.5 Ca30.8 Mg23 Cu7.7  384.0  416.0  854.0        2.0\n",
       "3   Ag38.5 Mg38.5 Ca15.4 Cu7.7  405.0  436.0  842.0        0.5\n",
       "4         Ag46.2 Ca30.7 Mg23.1  399.0  426.0  765.0        0.7"
      ]
     },
     "execution_count": 5,
     "metadata": {},
     "output_type": "execute_result"
    }
   ],
   "source": [
    "df.head()"
   ]
  },
  {
   "cell_type": "code",
   "execution_count": 6,
   "id": "c3336f24-a9ad-4a55-9331-43e10a2eeac3",
   "metadata": {},
   "outputs": [
    {
     "ename": "IndentationError",
     "evalue": "unexpected indent (964462527.py, line 5)",
     "output_type": "error",
     "traceback": [
      "\u001b[0;36m  Cell \u001b[0;32mIn[6], line 5\u001b[0;36m\u001b[0m\n\u001b[0;31m    if isinstance(i, (int, float)):\u001b[0m\n\u001b[0m    ^\u001b[0m\n\u001b[0;31mIndentationError\u001b[0m\u001b[0;31m:\u001b[0m unexpected indent\n"
     ]
    }
   ],
   "source": [
    "def process_row(row):\n",
    "    for i in len(row[\"Alloys (compostion)\"]):\n",
    "        word += row[\"Alloys (compostion)\"][i]\n",
    "        \n",
    "            if isinstance(i, (int, float)):\n",
    "                for j in len(row[\"Alloys (compostion)\"]):\n",
    "                    number += row[\"Alloys (compostion)\"][j]\n",
    "                    if j == \" \":\n",
    "                        break;\n",
    "                \n",
    "            if (isinstance(i, (int, float)):\n",
    "                if word == \"Ag\":\n",
    "                    return number\n",
    "                else:\n",
    "                    return 0"
   ]
  },
  {
   "cell_type": "code",
   "execution_count": null,
   "id": "4c0dd4d1-ded8-4078-8a9c-12d86993b3a5",
   "metadata": {},
   "outputs": [],
   "source": [
    "# We're going to create 4 columns \n",
    "# We're going to read every row and check if one the created column exsist \n",
    "# If it exsist we place the value of that row in the specific column\n",
    "\n",
    "df[\"Ag\"] = df.apply(process_row, axis=1)\n",
    "df[\"Ca\"]\n",
    "df[\"Mg\"]\n",
    "df[\"Cu\"]"
   ]
  },
  {
   "cell_type": "code",
   "execution_count": 9,
   "id": "49be6bf3-e48d-4d2f-a7c4-011550a5f314",
   "metadata": {},
   "outputs": [
    {
     "name": "stdout",
     "output_type": "stream",
     "text": [
      "{'Ag': 38.4, 'Mg': 30.8, 'Ca': 30.8}\n"
     ]
    }
   ],
   "source": [
    "import re\n",
    "\n",
    "def parse_alloys(row):\n",
    "    matches = re.findall(r'([A-Za-z]+)([0-9.]+)', row)\n",
    "    result = {}\n",
    "    for element, value in matches:\n",
    "        result[element] = float(value)\n",
    "    return result\n",
    "row = \"Ag38.4 Mg30.8 Ca30.8\"\n",
    "print(parse_alloys(row))"
   ]
  },
  {
   "cell_type": "code",
   "execution_count": 9,
   "id": "31fc9f24-f365-48d9-8a46-1baed4b5f2a7",
   "metadata": {},
   "outputs": [],
   "source": [
    "'''\n",
    "import numpy as np\n",
    "\n",
    "def safe_float(value):\n",
    "    try:\n",
    "        return float(value)\n",
    "    except (ValueError, TypeError):\n",
    "        return np.nan\n",
    "\n",
    "for element in all_elements:\n",
    "    df[element] = parsed.apply(lambda x: safe_float(x[element]) if element in x else np.nan)\n",
    "    '''"
   ]
  },
  {
   "cell_type": "code",
   "execution_count": 13,
   "id": "dfc748d2-148a-4c73-bd0a-1467d25451ce",
   "metadata": {},
   "outputs": [
    {
     "name": "stdout",
     "output_type": "stream",
     "text": [
      "JAI FINI!!!!!\n",
      "Colonnes ajoutées : ['Ag', 'Al', 'Au', 'B', 'Be', 'C', 'Ca', 'Ce', 'Co', 'Cr', 'Cu', 'Dy', 'Er', 'Fe', 'Ga', 'Gd', 'Hf', 'Ho', 'In', 'L', 'La', 'Mg', 'Mm', 'Mn', 'Mo', 'MoB', 'Nb', 'Nd', 'Ni', 'P', 'Pd', 'Pr', 'S', 'Sc', 'Si', 'Sm', 'Sn', 'Ta', 'Tb', 'Ti', 'Tm', 'V', 'W', 'Y', 'Zn', 'Zr', 'd']\n"
     ]
    }
   ],
   "source": [
    "import numpy as np\n",
    "import re\n",
    "\n",
    "def parse_alloys(row):\n",
    "    if isinstance(row, str):\n",
    "        #cleaned = re.sub(r'[\\(\\[].*?[\\)\\]]\\d*', '', row)\n",
    "        return dict(re.findall(r'([A-Za-z]+)([0-9.]+)', row))\n",
    "    else:\n",
    "        return {}\n",
    "\n",
    "parsed = df[\"Alloys (compostion)\"].apply(parse_alloys)\n",
    "\n",
    "all_elements = set()\n",
    "for row_dict in parsed:\n",
    "    all_elements.update(row_dict.keys())\n",
    "\n",
    "for element in all_elements:\n",
    "    df[element] = parsed.apply(lambda x: float(x[element]) if element in x else np.nan)\n",
    "\n",
    "print(\"JAI FINI!!!!!\")\n",
    "print(f\"Colonnes ajoutées : {sorted(all_elements)}\")"
   ]
  },
  {
   "cell_type": "code",
   "execution_count": 14,
   "id": "848a3c37-7cb5-4348-ae10-b6bf0493ffa5",
   "metadata": {},
   "outputs": [
    {
     "name": "stdout",
     "output_type": "stream",
     "text": [
      "47\n"
     ]
    }
   ],
   "source": [
    "print(len(all_elements))"
   ]
  },
  {
   "cell_type": "code",
   "execution_count": 11,
   "id": "63ac3f58-9e95-4e4d-81b3-a03c1abad005",
   "metadata": {},
   "outputs": [
    {
     "data": {
      "text/html": [
       "<div>\n",
       "<style scoped>\n",
       "    .dataframe tbody tr th:only-of-type {\n",
       "        vertical-align: middle;\n",
       "    }\n",
       "\n",
       "    .dataframe tbody tr th {\n",
       "        vertical-align: top;\n",
       "    }\n",
       "\n",
       "    .dataframe thead th {\n",
       "        text-align: right;\n",
       "    }\n",
       "</style>\n",
       "<table border=\"1\" class=\"dataframe\">\n",
       "  <thead>\n",
       "    <tr style=\"text-align: right;\">\n",
       "      <th></th>\n",
       "      <th>Alloys (compostion)</th>\n",
       "      <th>Tg(K)</th>\n",
       "      <th>Tx(K)</th>\n",
       "      <th>Tl(K)</th>\n",
       "      <th>Dmax (mm)</th>\n",
       "      <th>Zr</th>\n",
       "      <th>W</th>\n",
       "      <th>Ca</th>\n",
       "      <th>Y</th>\n",
       "      <th>Nb</th>\n",
       "      <th>...</th>\n",
       "      <th>Pd</th>\n",
       "      <th>Ce</th>\n",
       "      <th>Tb</th>\n",
       "      <th>Al</th>\n",
       "      <th>Cu</th>\n",
       "      <th>Fe</th>\n",
       "      <th>Ag</th>\n",
       "      <th>Ta</th>\n",
       "      <th>Ga</th>\n",
       "      <th>L</th>\n",
       "    </tr>\n",
       "  </thead>\n",
       "  <tbody>\n",
       "    <tr>\n",
       "      <th>0</th>\n",
       "      <td>Ag30.8 Ca30.8 Mg23.1 Cu15.4</td>\n",
       "      <td>413.0</td>\n",
       "      <td>432.0</td>\n",
       "      <td>803.0</td>\n",
       "      <td>2.5</td>\n",
       "      <td>NaN</td>\n",
       "      <td>NaN</td>\n",
       "      <td>30.8</td>\n",
       "      <td>NaN</td>\n",
       "      <td>NaN</td>\n",
       "      <td>...</td>\n",
       "      <td>NaN</td>\n",
       "      <td>NaN</td>\n",
       "      <td>NaN</td>\n",
       "      <td>NaN</td>\n",
       "      <td>15.4</td>\n",
       "      <td>NaN</td>\n",
       "      <td>30.8</td>\n",
       "      <td>NaN</td>\n",
       "      <td>NaN</td>\n",
       "      <td>NaN</td>\n",
       "    </tr>\n",
       "    <tr>\n",
       "      <th>1</th>\n",
       "      <td>Ag38.4 Mg30.8 Ca30.8</td>\n",
       "      <td>394.0</td>\n",
       "      <td>426.0</td>\n",
       "      <td>805.0</td>\n",
       "      <td>0.5</td>\n",
       "      <td>NaN</td>\n",
       "      <td>NaN</td>\n",
       "      <td>30.8</td>\n",
       "      <td>NaN</td>\n",
       "      <td>NaN</td>\n",
       "      <td>...</td>\n",
       "      <td>NaN</td>\n",
       "      <td>NaN</td>\n",
       "      <td>NaN</td>\n",
       "      <td>NaN</td>\n",
       "      <td>NaN</td>\n",
       "      <td>NaN</td>\n",
       "      <td>38.4</td>\n",
       "      <td>NaN</td>\n",
       "      <td>NaN</td>\n",
       "      <td>NaN</td>\n",
       "    </tr>\n",
       "    <tr>\n",
       "      <th>2</th>\n",
       "      <td>Ag38.5 Ca30.8 Mg23 Cu7.7</td>\n",
       "      <td>384.0</td>\n",
       "      <td>416.0</td>\n",
       "      <td>854.0</td>\n",
       "      <td>2.0</td>\n",
       "      <td>NaN</td>\n",
       "      <td>NaN</td>\n",
       "      <td>30.8</td>\n",
       "      <td>NaN</td>\n",
       "      <td>NaN</td>\n",
       "      <td>...</td>\n",
       "      <td>NaN</td>\n",
       "      <td>NaN</td>\n",
       "      <td>NaN</td>\n",
       "      <td>NaN</td>\n",
       "      <td>7.7</td>\n",
       "      <td>NaN</td>\n",
       "      <td>38.5</td>\n",
       "      <td>NaN</td>\n",
       "      <td>NaN</td>\n",
       "      <td>NaN</td>\n",
       "    </tr>\n",
       "    <tr>\n",
       "      <th>3</th>\n",
       "      <td>Ag38.5 Mg38.5 Ca15.4 Cu7.7</td>\n",
       "      <td>405.0</td>\n",
       "      <td>436.0</td>\n",
       "      <td>842.0</td>\n",
       "      <td>0.5</td>\n",
       "      <td>NaN</td>\n",
       "      <td>NaN</td>\n",
       "      <td>15.4</td>\n",
       "      <td>NaN</td>\n",
       "      <td>NaN</td>\n",
       "      <td>...</td>\n",
       "      <td>NaN</td>\n",
       "      <td>NaN</td>\n",
       "      <td>NaN</td>\n",
       "      <td>NaN</td>\n",
       "      <td>7.7</td>\n",
       "      <td>NaN</td>\n",
       "      <td>38.5</td>\n",
       "      <td>NaN</td>\n",
       "      <td>NaN</td>\n",
       "      <td>NaN</td>\n",
       "    </tr>\n",
       "    <tr>\n",
       "      <th>4</th>\n",
       "      <td>Ag46.2 Ca30.7 Mg23.1</td>\n",
       "      <td>399.0</td>\n",
       "      <td>426.0</td>\n",
       "      <td>765.0</td>\n",
       "      <td>0.7</td>\n",
       "      <td>NaN</td>\n",
       "      <td>NaN</td>\n",
       "      <td>30.7</td>\n",
       "      <td>NaN</td>\n",
       "      <td>NaN</td>\n",
       "      <td>...</td>\n",
       "      <td>NaN</td>\n",
       "      <td>NaN</td>\n",
       "      <td>NaN</td>\n",
       "      <td>NaN</td>\n",
       "      <td>NaN</td>\n",
       "      <td>NaN</td>\n",
       "      <td>46.2</td>\n",
       "      <td>NaN</td>\n",
       "      <td>NaN</td>\n",
       "      <td>NaN</td>\n",
       "    </tr>\n",
       "  </tbody>\n",
       "</table>\n",
       "<p>5 rows × 51 columns</p>\n",
       "</div>"
      ],
      "text/plain": [
       "           Alloys (compostion)  Tg(K)  Tx(K)  Tl(K)  Dmax (mm)  Zr   W    Ca  \\\n",
       "0  Ag30.8 Ca30.8 Mg23.1 Cu15.4  413.0  432.0  803.0        2.5 NaN NaN  30.8   \n",
       "1         Ag38.4 Mg30.8 Ca30.8  394.0  426.0  805.0        0.5 NaN NaN  30.8   \n",
       "2     Ag38.5 Ca30.8 Mg23 Cu7.7  384.0  416.0  854.0        2.0 NaN NaN  30.8   \n",
       "3   Ag38.5 Mg38.5 Ca15.4 Cu7.7  405.0  436.0  842.0        0.5 NaN NaN  15.4   \n",
       "4         Ag46.2 Ca30.7 Mg23.1  399.0  426.0  765.0        0.7 NaN NaN  30.7   \n",
       "\n",
       "    Y  Nb  ...  Pd  Ce  Tb  Al    Cu  Fe    Ag  Ta  Ga   L  \n",
       "0 NaN NaN  ... NaN NaN NaN NaN  15.4 NaN  30.8 NaN NaN NaN  \n",
       "1 NaN NaN  ... NaN NaN NaN NaN   NaN NaN  38.4 NaN NaN NaN  \n",
       "2 NaN NaN  ... NaN NaN NaN NaN   7.7 NaN  38.5 NaN NaN NaN  \n",
       "3 NaN NaN  ... NaN NaN NaN NaN   7.7 NaN  38.5 NaN NaN NaN  \n",
       "4 NaN NaN  ... NaN NaN NaN NaN   NaN NaN  46.2 NaN NaN NaN  \n",
       "\n",
       "[5 rows x 51 columns]"
      ]
     },
     "execution_count": 11,
     "metadata": {},
     "output_type": "execute_result"
    }
   ],
   "source": [
    "df.head()"
   ]
  },
  {
   "cell_type": "code",
   "execution_count": 22,
   "id": "6c52512d-01f4-42da-865f-c9823b7028a3",
   "metadata": {},
   "outputs": [],
   "source": [
    "df.to_excel('output.xlsx', index=False)"
   ]
  },
  {
   "cell_type": "code",
   "execution_count": null,
   "id": "71cdbbc5-7a5a-472d-bb80-4d68f3445594",
   "metadata": {},
   "outputs": [],
   "source": []
  }
 ],
 "metadata": {
  "kernelspec": {
   "display_name": "Python 3 (ipykernel)",
   "language": "python",
   "name": "python3"
  },
  "language_info": {
   "codemirror_mode": {
    "name": "ipython",
    "version": 3
   },
   "file_extension": ".py",
   "mimetype": "text/x-python",
   "name": "python",
   "nbconvert_exporter": "python",
   "pygments_lexer": "ipython3",
   "version": "3.12.0"
  }
 },
 "nbformat": 4,
 "nbformat_minor": 5
}
